{
 "cells": [
  {
   "cell_type": "markdown",
   "id": "8196a673",
   "metadata": {},
   "source": [
    "# Loading Data & Library"
   ]
  },
  {
   "cell_type": "code",
   "execution_count": 2,
   "id": "348db441",
   "metadata": {},
   "outputs": [],
   "source": [
    "import pandas as pd\n",
    "import numpy as np\n",
    "import statsmodels.api as sm\n",
    "from statsmodels.stats.anova import anova_lm"
   ]
  },
  {
   "cell_type": "code",
   "execution_count": 3,
   "id": "5f93611c",
   "metadata": {
    "scrolled": true
   },
   "outputs": [
    {
     "data": {
      "text/html": [
       "<div>\n",
       "<style scoped>\n",
       "    .dataframe tbody tr th:only-of-type {\n",
       "        vertical-align: middle;\n",
       "    }\n",
       "\n",
       "    .dataframe tbody tr th {\n",
       "        vertical-align: top;\n",
       "    }\n",
       "\n",
       "    .dataframe thead th {\n",
       "        text-align: right;\n",
       "    }\n",
       "</style>\n",
       "<table border=\"1\" class=\"dataframe\">\n",
       "  <thead>\n",
       "    <tr style=\"text-align: right;\">\n",
       "      <th></th>\n",
       "      <th>Y</th>\n",
       "      <th>X1</th>\n",
       "      <th>X2</th>\n",
       "      <th>X3</th>\n",
       "      <th>X4</th>\n",
       "      <th>X5</th>\n",
       "      <th>X6</th>\n",
       "    </tr>\n",
       "  </thead>\n",
       "  <tbody>\n",
       "    <tr>\n",
       "      <th>0</th>\n",
       "      <td>43</td>\n",
       "      <td>51</td>\n",
       "      <td>30</td>\n",
       "      <td>39</td>\n",
       "      <td>61</td>\n",
       "      <td>92</td>\n",
       "      <td>45</td>\n",
       "    </tr>\n",
       "    <tr>\n",
       "      <th>1</th>\n",
       "      <td>63</td>\n",
       "      <td>64</td>\n",
       "      <td>51</td>\n",
       "      <td>54</td>\n",
       "      <td>63</td>\n",
       "      <td>73</td>\n",
       "      <td>47</td>\n",
       "    </tr>\n",
       "    <tr>\n",
       "      <th>2</th>\n",
       "      <td>71</td>\n",
       "      <td>70</td>\n",
       "      <td>68</td>\n",
       "      <td>69</td>\n",
       "      <td>76</td>\n",
       "      <td>86</td>\n",
       "      <td>48</td>\n",
       "    </tr>\n",
       "    <tr>\n",
       "      <th>3</th>\n",
       "      <td>61</td>\n",
       "      <td>63</td>\n",
       "      <td>45</td>\n",
       "      <td>47</td>\n",
       "      <td>54</td>\n",
       "      <td>84</td>\n",
       "      <td>35</td>\n",
       "    </tr>\n",
       "    <tr>\n",
       "      <th>4</th>\n",
       "      <td>81</td>\n",
       "      <td>78</td>\n",
       "      <td>56</td>\n",
       "      <td>66</td>\n",
       "      <td>71</td>\n",
       "      <td>83</td>\n",
       "      <td>47</td>\n",
       "    </tr>\n",
       "    <tr>\n",
       "      <th>5</th>\n",
       "      <td>43</td>\n",
       "      <td>55</td>\n",
       "      <td>49</td>\n",
       "      <td>44</td>\n",
       "      <td>54</td>\n",
       "      <td>49</td>\n",
       "      <td>34</td>\n",
       "    </tr>\n",
       "    <tr>\n",
       "      <th>6</th>\n",
       "      <td>58</td>\n",
       "      <td>67</td>\n",
       "      <td>42</td>\n",
       "      <td>56</td>\n",
       "      <td>66</td>\n",
       "      <td>68</td>\n",
       "      <td>35</td>\n",
       "    </tr>\n",
       "    <tr>\n",
       "      <th>7</th>\n",
       "      <td>71</td>\n",
       "      <td>75</td>\n",
       "      <td>50</td>\n",
       "      <td>55</td>\n",
       "      <td>70</td>\n",
       "      <td>66</td>\n",
       "      <td>41</td>\n",
       "    </tr>\n",
       "    <tr>\n",
       "      <th>8</th>\n",
       "      <td>72</td>\n",
       "      <td>82</td>\n",
       "      <td>72</td>\n",
       "      <td>67</td>\n",
       "      <td>71</td>\n",
       "      <td>83</td>\n",
       "      <td>31</td>\n",
       "    </tr>\n",
       "    <tr>\n",
       "      <th>9</th>\n",
       "      <td>67</td>\n",
       "      <td>61</td>\n",
       "      <td>45</td>\n",
       "      <td>47</td>\n",
       "      <td>62</td>\n",
       "      <td>80</td>\n",
       "      <td>41</td>\n",
       "    </tr>\n",
       "    <tr>\n",
       "      <th>10</th>\n",
       "      <td>64</td>\n",
       "      <td>53</td>\n",
       "      <td>53</td>\n",
       "      <td>58</td>\n",
       "      <td>58</td>\n",
       "      <td>67</td>\n",
       "      <td>34</td>\n",
       "    </tr>\n",
       "    <tr>\n",
       "      <th>11</th>\n",
       "      <td>67</td>\n",
       "      <td>60</td>\n",
       "      <td>47</td>\n",
       "      <td>39</td>\n",
       "      <td>59</td>\n",
       "      <td>74</td>\n",
       "      <td>41</td>\n",
       "    </tr>\n",
       "    <tr>\n",
       "      <th>12</th>\n",
       "      <td>69</td>\n",
       "      <td>62</td>\n",
       "      <td>57</td>\n",
       "      <td>42</td>\n",
       "      <td>55</td>\n",
       "      <td>63</td>\n",
       "      <td>25</td>\n",
       "    </tr>\n",
       "    <tr>\n",
       "      <th>13</th>\n",
       "      <td>68</td>\n",
       "      <td>83</td>\n",
       "      <td>83</td>\n",
       "      <td>45</td>\n",
       "      <td>59</td>\n",
       "      <td>77</td>\n",
       "      <td>35</td>\n",
       "    </tr>\n",
       "    <tr>\n",
       "      <th>14</th>\n",
       "      <td>77</td>\n",
       "      <td>77</td>\n",
       "      <td>54</td>\n",
       "      <td>72</td>\n",
       "      <td>79</td>\n",
       "      <td>77</td>\n",
       "      <td>46</td>\n",
       "    </tr>\n",
       "    <tr>\n",
       "      <th>15</th>\n",
       "      <td>81</td>\n",
       "      <td>90</td>\n",
       "      <td>50</td>\n",
       "      <td>72</td>\n",
       "      <td>60</td>\n",
       "      <td>54</td>\n",
       "      <td>36</td>\n",
       "    </tr>\n",
       "    <tr>\n",
       "      <th>16</th>\n",
       "      <td>74</td>\n",
       "      <td>85</td>\n",
       "      <td>64</td>\n",
       "      <td>69</td>\n",
       "      <td>79</td>\n",
       "      <td>79</td>\n",
       "      <td>63</td>\n",
       "    </tr>\n",
       "    <tr>\n",
       "      <th>17</th>\n",
       "      <td>65</td>\n",
       "      <td>60</td>\n",
       "      <td>65</td>\n",
       "      <td>75</td>\n",
       "      <td>55</td>\n",
       "      <td>80</td>\n",
       "      <td>60</td>\n",
       "    </tr>\n",
       "    <tr>\n",
       "      <th>18</th>\n",
       "      <td>65</td>\n",
       "      <td>70</td>\n",
       "      <td>46</td>\n",
       "      <td>57</td>\n",
       "      <td>75</td>\n",
       "      <td>85</td>\n",
       "      <td>46</td>\n",
       "    </tr>\n",
       "    <tr>\n",
       "      <th>19</th>\n",
       "      <td>50</td>\n",
       "      <td>58</td>\n",
       "      <td>68</td>\n",
       "      <td>54</td>\n",
       "      <td>64</td>\n",
       "      <td>78</td>\n",
       "      <td>52</td>\n",
       "    </tr>\n",
       "    <tr>\n",
       "      <th>20</th>\n",
       "      <td>50</td>\n",
       "      <td>40</td>\n",
       "      <td>33</td>\n",
       "      <td>34</td>\n",
       "      <td>43</td>\n",
       "      <td>64</td>\n",
       "      <td>33</td>\n",
       "    </tr>\n",
       "    <tr>\n",
       "      <th>21</th>\n",
       "      <td>64</td>\n",
       "      <td>61</td>\n",
       "      <td>52</td>\n",
       "      <td>62</td>\n",
       "      <td>66</td>\n",
       "      <td>80</td>\n",
       "      <td>41</td>\n",
       "    </tr>\n",
       "    <tr>\n",
       "      <th>22</th>\n",
       "      <td>53</td>\n",
       "      <td>66</td>\n",
       "      <td>52</td>\n",
       "      <td>50</td>\n",
       "      <td>63</td>\n",
       "      <td>80</td>\n",
       "      <td>37</td>\n",
       "    </tr>\n",
       "    <tr>\n",
       "      <th>23</th>\n",
       "      <td>40</td>\n",
       "      <td>37</td>\n",
       "      <td>42</td>\n",
       "      <td>58</td>\n",
       "      <td>50</td>\n",
       "      <td>57</td>\n",
       "      <td>49</td>\n",
       "    </tr>\n",
       "    <tr>\n",
       "      <th>24</th>\n",
       "      <td>63</td>\n",
       "      <td>54</td>\n",
       "      <td>42</td>\n",
       "      <td>48</td>\n",
       "      <td>66</td>\n",
       "      <td>75</td>\n",
       "      <td>33</td>\n",
       "    </tr>\n",
       "    <tr>\n",
       "      <th>25</th>\n",
       "      <td>66</td>\n",
       "      <td>77</td>\n",
       "      <td>66</td>\n",
       "      <td>63</td>\n",
       "      <td>88</td>\n",
       "      <td>76</td>\n",
       "      <td>72</td>\n",
       "    </tr>\n",
       "    <tr>\n",
       "      <th>26</th>\n",
       "      <td>78</td>\n",
       "      <td>75</td>\n",
       "      <td>58</td>\n",
       "      <td>74</td>\n",
       "      <td>80</td>\n",
       "      <td>78</td>\n",
       "      <td>49</td>\n",
       "    </tr>\n",
       "    <tr>\n",
       "      <th>27</th>\n",
       "      <td>48</td>\n",
       "      <td>57</td>\n",
       "      <td>44</td>\n",
       "      <td>45</td>\n",
       "      <td>51</td>\n",
       "      <td>83</td>\n",
       "      <td>38</td>\n",
       "    </tr>\n",
       "    <tr>\n",
       "      <th>28</th>\n",
       "      <td>85</td>\n",
       "      <td>85</td>\n",
       "      <td>71</td>\n",
       "      <td>71</td>\n",
       "      <td>77</td>\n",
       "      <td>74</td>\n",
       "      <td>55</td>\n",
       "    </tr>\n",
       "    <tr>\n",
       "      <th>29</th>\n",
       "      <td>82</td>\n",
       "      <td>82</td>\n",
       "      <td>39</td>\n",
       "      <td>59</td>\n",
       "      <td>64</td>\n",
       "      <td>78</td>\n",
       "      <td>39</td>\n",
       "    </tr>\n",
       "  </tbody>\n",
       "</table>\n",
       "</div>"
      ],
      "text/plain": [
       "     Y  X1  X2  X3  X4  X5  X6\n",
       "0   43  51  30  39  61  92  45\n",
       "1   63  64  51  54  63  73  47\n",
       "2   71  70  68  69  76  86  48\n",
       "3   61  63  45  47  54  84  35\n",
       "4   81  78  56  66  71  83  47\n",
       "5   43  55  49  44  54  49  34\n",
       "6   58  67  42  56  66  68  35\n",
       "7   71  75  50  55  70  66  41\n",
       "8   72  82  72  67  71  83  31\n",
       "9   67  61  45  47  62  80  41\n",
       "10  64  53  53  58  58  67  34\n",
       "11  67  60  47  39  59  74  41\n",
       "12  69  62  57  42  55  63  25\n",
       "13  68  83  83  45  59  77  35\n",
       "14  77  77  54  72  79  77  46\n",
       "15  81  90  50  72  60  54  36\n",
       "16  74  85  64  69  79  79  63\n",
       "17  65  60  65  75  55  80  60\n",
       "18  65  70  46  57  75  85  46\n",
       "19  50  58  68  54  64  78  52\n",
       "20  50  40  33  34  43  64  33\n",
       "21  64  61  52  62  66  80  41\n",
       "22  53  66  52  50  63  80  37\n",
       "23  40  37  42  58  50  57  49\n",
       "24  63  54  42  48  66  75  33\n",
       "25  66  77  66  63  88  76  72\n",
       "26  78  75  58  74  80  78  49\n",
       "27  48  57  44  45  51  83  38\n",
       "28  85  85  71  71  77  74  55\n",
       "29  82  82  39  59  64  78  39"
      ]
     },
     "execution_count": 3,
     "metadata": {},
     "output_type": "execute_result"
    }
   ],
   "source": [
    "superv = pd.read_csv(\"./data/2-supervisor.csv\")\n",
    "superv"
   ]
  },
  {
   "cell_type": "markdown",
   "id": "2bff924f",
   "metadata": {},
   "source": [
    "# Problem (a)"
   ]
  },
  {
   "cell_type": "markdown",
   "id": "88c13b8f",
   "metadata": {},
   "source": [
    "## Fitting FM"
   ]
  },
  {
   "cell_type": "code",
   "execution_count": 4,
   "id": "7aedb152",
   "metadata": {},
   "outputs": [],
   "source": [
    "target = superv[['Y']]\n",
    "full_data1 = superv[['X1', 'X3']]"
   ]
  },
  {
   "cell_type": "code",
   "execution_count": 5,
   "id": "12e98474",
   "metadata": {},
   "outputs": [
    {
     "data": {
      "text/html": [
       "<table class=\"simpletable\">\n",
       "<caption>OLS Regression Results</caption>\n",
       "<tr>\n",
       "  <th>Dep. Variable:</th>            <td>Y</td>        <th>  R-squared:         </th> <td>   0.708</td>\n",
       "</tr>\n",
       "<tr>\n",
       "  <th>Model:</th>                   <td>OLS</td>       <th>  Adj. R-squared:    </th> <td>   0.686</td>\n",
       "</tr>\n",
       "<tr>\n",
       "  <th>Method:</th>             <td>Least Squares</td>  <th>  F-statistic:       </th> <td>   32.74</td>\n",
       "</tr>\n",
       "<tr>\n",
       "  <th>Date:</th>             <td>Thu, 29 Apr 2021</td> <th>  Prob (F-statistic):</th> <td>6.06e-08</td>\n",
       "</tr>\n",
       "<tr>\n",
       "  <th>Time:</th>                 <td>10:26:26</td>     <th>  Log-Likelihood:    </th> <td> -98.569</td>\n",
       "</tr>\n",
       "<tr>\n",
       "  <th>No. Observations:</th>      <td>    30</td>      <th>  AIC:               </th> <td>   203.1</td>\n",
       "</tr>\n",
       "<tr>\n",
       "  <th>Df Residuals:</th>          <td>    27</td>      <th>  BIC:               </th> <td>   207.3</td>\n",
       "</tr>\n",
       "<tr>\n",
       "  <th>Df Model:</th>              <td>     2</td>      <th>                     </th>     <td> </td>   \n",
       "</tr>\n",
       "<tr>\n",
       "  <th>Covariance Type:</th>      <td>nonrobust</td>    <th>                     </th>     <td> </td>   \n",
       "</tr>\n",
       "</table>\n",
       "<table class=\"simpletable\">\n",
       "<tr>\n",
       "    <td></td>       <th>coef</th>     <th>std err</th>      <th>t</th>      <th>P>|t|</th>  <th>[0.025</th>    <th>0.975]</th>  \n",
       "</tr>\n",
       "<tr>\n",
       "  <th>const</th> <td>    9.8709</td> <td>    7.061</td> <td>    1.398</td> <td> 0.174</td> <td>   -4.618</td> <td>   24.359</td>\n",
       "</tr>\n",
       "<tr>\n",
       "  <th>X1</th>    <td>    0.6435</td> <td>    0.118</td> <td>    5.432</td> <td> 0.000</td> <td>    0.400</td> <td>    0.887</td>\n",
       "</tr>\n",
       "<tr>\n",
       "  <th>X3</th>    <td>    0.2112</td> <td>    0.134</td> <td>    1.571</td> <td> 0.128</td> <td>   -0.065</td> <td>    0.487</td>\n",
       "</tr>\n",
       "</table>\n",
       "<table class=\"simpletable\">\n",
       "<tr>\n",
       "  <th>Omnibus:</th>       <td> 6.448</td> <th>  Durbin-Watson:     </th> <td>   1.958</td>\n",
       "</tr>\n",
       "<tr>\n",
       "  <th>Prob(Omnibus):</th> <td> 0.040</td> <th>  Jarque-Bera (JB):  </th> <td>   1.959</td>\n",
       "</tr>\n",
       "<tr>\n",
       "  <th>Skew:</th>          <td>-0.041</td> <th>  Prob(JB):          </th> <td>   0.375</td>\n",
       "</tr>\n",
       "<tr>\n",
       "  <th>Kurtosis:</th>      <td> 1.751</td> <th>  Cond. No.          </th> <td>    503.</td>\n",
       "</tr>\n",
       "</table><br/><br/>Notes:<br/>[1] Standard Errors assume that the covariance matrix of the errors is correctly specified."
      ],
      "text/plain": [
       "<class 'statsmodels.iolib.summary.Summary'>\n",
       "\"\"\"\n",
       "                            OLS Regression Results                            \n",
       "==============================================================================\n",
       "Dep. Variable:                      Y   R-squared:                       0.708\n",
       "Model:                            OLS   Adj. R-squared:                  0.686\n",
       "Method:                 Least Squares   F-statistic:                     32.74\n",
       "Date:                Thu, 29 Apr 2021   Prob (F-statistic):           6.06e-08\n",
       "Time:                        10:26:26   Log-Likelihood:                -98.569\n",
       "No. Observations:                  30   AIC:                             203.1\n",
       "Df Residuals:                      27   BIC:                             207.3\n",
       "Df Model:                           2                                         \n",
       "Covariance Type:            nonrobust                                         \n",
       "==============================================================================\n",
       "                 coef    std err          t      P>|t|      [0.025      0.975]\n",
       "------------------------------------------------------------------------------\n",
       "const          9.8709      7.061      1.398      0.174      -4.618      24.359\n",
       "X1             0.6435      0.118      5.432      0.000       0.400       0.887\n",
       "X3             0.2112      0.134      1.571      0.128      -0.065       0.487\n",
       "==============================================================================\n",
       "Omnibus:                        6.448   Durbin-Watson:                   1.958\n",
       "Prob(Omnibus):                  0.040   Jarque-Bera (JB):                1.959\n",
       "Skew:                          -0.041   Prob(JB):                        0.375\n",
       "Kurtosis:                       1.751   Cond. No.                         503.\n",
       "==============================================================================\n",
       "\n",
       "Notes:\n",
       "[1] Standard Errors assume that the covariance matrix of the errors is correctly specified.\n",
       "\"\"\""
      ]
     },
     "execution_count": 5,
     "metadata": {},
     "output_type": "execute_result"
    }
   ],
   "source": [
    "full_data1 = sm.add_constant(full_data1, has_constant=\"add\")\n",
    "full_model1 = sm.OLS(target, full_data1)\n",
    "fitted_full_model1 = full_model1.fit()\n",
    "fitted_full_model1.summary()"
   ]
  },
  {
   "cell_type": "markdown",
   "id": "7e3a4654",
   "metadata": {},
   "source": [
    "### ANOVA Table for FM "
   ]
  },
  {
   "cell_type": "code",
   "execution_count": 7,
   "id": "a9b465a4",
   "metadata": {},
   "outputs": [
    {
     "data": {
      "text/html": [
       "<div>\n",
       "<style scoped>\n",
       "    .dataframe tbody tr th:only-of-type {\n",
       "        vertical-align: middle;\n",
       "    }\n",
       "\n",
       "    .dataframe tbody tr th {\n",
       "        vertical-align: top;\n",
       "    }\n",
       "\n",
       "    .dataframe thead th {\n",
       "        text-align: right;\n",
       "    }\n",
       "</style>\n",
       "<table border=\"1\" class=\"dataframe\">\n",
       "  <thead>\n",
       "    <tr style=\"text-align: right;\">\n",
       "      <th></th>\n",
       "      <th>df</th>\n",
       "      <th>sum_sq</th>\n",
       "      <th>mean_sq</th>\n",
       "      <th>F</th>\n",
       "      <th>PR(&gt;F)</th>\n",
       "    </tr>\n",
       "  </thead>\n",
       "  <tbody>\n",
       "    <tr>\n",
       "      <th>X1</th>\n",
       "      <td>1.0</td>\n",
       "      <td>2927.584253</td>\n",
       "      <td>2927.584253</td>\n",
       "      <td>63.001506</td>\n",
       "      <td>1.564999e-08</td>\n",
       "    </tr>\n",
       "    <tr>\n",
       "      <th>X3</th>\n",
       "      <td>1.0</td>\n",
       "      <td>114.733443</td>\n",
       "      <td>114.733443</td>\n",
       "      <td>2.469060</td>\n",
       "      <td>1.277539e-01</td>\n",
       "    </tr>\n",
       "    <tr>\n",
       "      <th>Residual</th>\n",
       "      <td>27.0</td>\n",
       "      <td>1254.648971</td>\n",
       "      <td>46.468480</td>\n",
       "      <td>NaN</td>\n",
       "      <td>NaN</td>\n",
       "    </tr>\n",
       "  </tbody>\n",
       "</table>\n",
       "</div>"
      ],
      "text/plain": [
       "            df       sum_sq      mean_sq          F        PR(>F)\n",
       "X1         1.0  2927.584253  2927.584253  63.001506  1.564999e-08\n",
       "X3         1.0   114.733443   114.733443   2.469060  1.277539e-01\n",
       "Residual  27.0  1254.648971    46.468480        NaN           NaN"
      ]
     },
     "execution_count": 7,
     "metadata": {},
     "output_type": "execute_result"
    }
   ],
   "source": [
    "concat_fulldata1 = pd.concat([target, full_data1], axis=1)\n",
    "formula_model1 = sm.OLS.from_formula('Y ~ X1 + X3', concat_fulldata1)\n",
    "fitted_formula_model1 = formula_model1.fit()\n",
    "anova_lm(fitted_formula_model1)"
   ]
  },
  {
   "cell_type": "markdown",
   "id": "64c62103",
   "metadata": {},
   "source": [
    "### Calculating SSE(FM)"
   ]
  },
  {
   "cell_type": "code",
   "execution_count": 8,
   "id": "ccfa290b",
   "metadata": {},
   "outputs": [
    {
     "data": {
      "text/plain": [
       "1254.648970592878"
      ]
     },
     "execution_count": 8,
     "metadata": {},
     "output_type": "execute_result"
    }
   ],
   "source": [
    "fitted = fitted_full_model1.predict(full_data1)\n",
    "fm_sse = 0\n",
    "target_val = superv['Y']\n",
    "for i in range(superv.shape[0]):\n",
    "    fm_sse += (fitted[i] - target_val[i])**2\n",
    "fm_sse"
   ]
  },
  {
   "cell_type": "markdown",
   "id": "e573869b",
   "metadata": {},
   "source": [
    "## Fitting RM"
   ]
  },
  {
   "cell_type": "markdown",
   "id": "08a9d46c",
   "metadata": {},
   "source": [
    "### Calculating constant coefficient of RM"
   ]
  },
  {
   "cell_type": "code",
   "execution_count": 7,
   "id": "debfc674",
   "metadata": {},
   "outputs": [
    {
     "data": {
      "text/plain": [
       "3.1500000000000092"
      ]
     },
     "execution_count": 7,
     "metadata": {},
     "output_type": "execute_result"
    }
   ],
   "source": [
    "target_mean = float(np.mean(target))\n",
    "x1_mean = float(np.mean(superv[['X1']]))\n",
    "x3_mean = float(np.mean(superv[['X3']]))\n",
    "const_coef = target_mean - 0.5*x1_mean - 0.5*x3_mean\n",
    "const_coef"
   ]
  },
  {
   "cell_type": "markdown",
   "id": "c236c6b1",
   "metadata": {},
   "source": [
    "### Calculating SSE(RM)"
   ]
  },
  {
   "cell_type": "code",
   "execution_count": 8,
   "id": "fd66314b",
   "metadata": {},
   "outputs": [
    {
     "data": {
      "text/plain": [
       "1469.575"
      ]
     },
     "execution_count": 8,
     "metadata": {},
     "output_type": "execute_result"
    }
   ],
   "source": [
    "rm_sse = 0\n",
    "for i, row in superv.iterrows():\n",
    "    rm_sse += (row['Y'] - const_coef - 0.5*row['X1'] - 0.5*row['X3'])**2\n",
    "rm_sse"
   ]
  },
  {
   "cell_type": "markdown",
   "id": "0c706748",
   "metadata": {},
   "source": [
    "## Calculating F value"
   ]
  },
  {
   "cell_type": "code",
   "execution_count": 9,
   "id": "60a8e392",
   "metadata": {},
   "outputs": [],
   "source": [
    "from scipy.stats import f"
   ]
  },
  {
   "cell_type": "code",
   "execution_count": 10,
   "id": "14765f14",
   "metadata": {},
   "outputs": [
    {
     "data": {
      "text/plain": [
       "2.312600149526332"
      ]
     },
     "execution_count": 10,
     "metadata": {},
     "output_type": "execute_result"
    }
   ],
   "source": [
    "F_stats = ((rm_sse-fm_sse)/2)/(fm_sse/(superv.shape[0]-3))\n",
    "F_stats"
   ]
  },
  {
   "cell_type": "markdown",
   "id": "91049784",
   "metadata": {},
   "source": [
    "### get p-value"
   ]
  },
  {
   "cell_type": "code",
   "execution_count": 11,
   "id": "a6aeaeb3",
   "metadata": {},
   "outputs": [
    {
     "data": {
      "text/plain": [
       "0.11829366059475344"
      ]
     },
     "execution_count": 11,
     "metadata": {},
     "output_type": "execute_result"
    }
   ],
   "source": [
    "f_dist = f(2, 27)\n",
    "1-f_dist.cdf(F_stats)"
   ]
  },
  {
   "cell_type": "markdown",
   "id": "2717adfb",
   "metadata": {},
   "source": [
    "# Problem (b)"
   ]
  },
  {
   "cell_type": "markdown",
   "id": "a2e2bc2b",
   "metadata": {},
   "source": [
    "## Fitting FM"
   ]
  },
  {
   "cell_type": "code",
   "execution_count": 12,
   "id": "116177d3",
   "metadata": {},
   "outputs": [],
   "source": [
    "target = superv[['Y']]\n",
    "full_data2 = superv[['X1', 'X2', 'X3']]"
   ]
  },
  {
   "cell_type": "code",
   "execution_count": 13,
   "id": "24593515",
   "metadata": {},
   "outputs": [
    {
     "data": {
      "text/html": [
       "<table class=\"simpletable\">\n",
       "<caption>OLS Regression Results</caption>\n",
       "<tr>\n",
       "  <th>Dep. Variable:</th>            <td>Y</td>        <th>  R-squared:         </th> <td>   0.715</td>\n",
       "</tr>\n",
       "<tr>\n",
       "  <th>Model:</th>                   <td>OLS</td>       <th>  Adj. R-squared:    </th> <td>   0.682</td>\n",
       "</tr>\n",
       "<tr>\n",
       "  <th>Method:</th>             <td>Least Squares</td>  <th>  F-statistic:       </th> <td>   21.74</td>\n",
       "</tr>\n",
       "<tr>\n",
       "  <th>Date:</th>             <td>Thu, 29 Apr 2021</td> <th>  Prob (F-statistic):</th> <td>2.94e-07</td>\n",
       "</tr>\n",
       "<tr>\n",
       "  <th>Time:</th>                 <td>10:29:35</td>     <th>  Log-Likelihood:    </th> <td> -98.206</td>\n",
       "</tr>\n",
       "<tr>\n",
       "  <th>No. Observations:</th>      <td>    30</td>      <th>  AIC:               </th> <td>   204.4</td>\n",
       "</tr>\n",
       "<tr>\n",
       "  <th>Df Residuals:</th>          <td>    26</td>      <th>  BIC:               </th> <td>   210.0</td>\n",
       "</tr>\n",
       "<tr>\n",
       "  <th>Df Model:</th>              <td>     3</td>      <th>                     </th>     <td> </td>   \n",
       "</tr>\n",
       "<tr>\n",
       "  <th>Covariance Type:</th>      <td>nonrobust</td>    <th>                     </th>     <td> </td>   \n",
       "</tr>\n",
       "</table>\n",
       "<table class=\"simpletable\">\n",
       "<tr>\n",
       "    <td></td>       <th>coef</th>     <th>std err</th>      <th>t</th>      <th>P>|t|</th>  <th>[0.025</th>    <th>0.975]</th>  \n",
       "</tr>\n",
       "<tr>\n",
       "  <th>const</th> <td>   11.2583</td> <td>    7.318</td> <td>    1.538</td> <td> 0.136</td> <td>   -3.785</td> <td>   26.301</td>\n",
       "</tr>\n",
       "<tr>\n",
       "  <th>X1</th>    <td>    0.6824</td> <td>    0.129</td> <td>    5.296</td> <td> 0.000</td> <td>    0.418</td> <td>    0.947</td>\n",
       "</tr>\n",
       "<tr>\n",
       "  <th>X2</th>    <td>   -0.1033</td> <td>    0.129</td> <td>   -0.799</td> <td> 0.432</td> <td>   -0.369</td> <td>    0.163</td>\n",
       "</tr>\n",
       "<tr>\n",
       "  <th>X3</th>    <td>    0.2380</td> <td>    0.139</td> <td>    1.707</td> <td> 0.100</td> <td>   -0.049</td> <td>    0.525</td>\n",
       "</tr>\n",
       "</table>\n",
       "<table class=\"simpletable\">\n",
       "<tr>\n",
       "  <th>Omnibus:</th>       <td> 4.366</td> <th>  Durbin-Watson:     </th> <td>   1.793</td>\n",
       "</tr>\n",
       "<tr>\n",
       "  <th>Prob(Omnibus):</th> <td> 0.113</td> <th>  Jarque-Bera (JB):  </th> <td>   1.641</td>\n",
       "</tr>\n",
       "<tr>\n",
       "  <th>Skew:</th>          <td>-0.018</td> <th>  Prob(JB):          </th> <td>   0.440</td>\n",
       "</tr>\n",
       "<tr>\n",
       "  <th>Kurtosis:</th>      <td> 1.855</td> <th>  Cond. No.          </th> <td>    606.</td>\n",
       "</tr>\n",
       "</table><br/><br/>Notes:<br/>[1] Standard Errors assume that the covariance matrix of the errors is correctly specified."
      ],
      "text/plain": [
       "<class 'statsmodels.iolib.summary.Summary'>\n",
       "\"\"\"\n",
       "                            OLS Regression Results                            \n",
       "==============================================================================\n",
       "Dep. Variable:                      Y   R-squared:                       0.715\n",
       "Model:                            OLS   Adj. R-squared:                  0.682\n",
       "Method:                 Least Squares   F-statistic:                     21.74\n",
       "Date:                Thu, 29 Apr 2021   Prob (F-statistic):           2.94e-07\n",
       "Time:                        10:29:35   Log-Likelihood:                -98.206\n",
       "No. Observations:                  30   AIC:                             204.4\n",
       "Df Residuals:                      26   BIC:                             210.0\n",
       "Df Model:                           3                                         \n",
       "Covariance Type:            nonrobust                                         \n",
       "==============================================================================\n",
       "                 coef    std err          t      P>|t|      [0.025      0.975]\n",
       "------------------------------------------------------------------------------\n",
       "const         11.2583      7.318      1.538      0.136      -3.785      26.301\n",
       "X1             0.6824      0.129      5.296      0.000       0.418       0.947\n",
       "X2            -0.1033      0.129     -0.799      0.432      -0.369       0.163\n",
       "X3             0.2380      0.139      1.707      0.100      -0.049       0.525\n",
       "==============================================================================\n",
       "Omnibus:                        4.366   Durbin-Watson:                   1.793\n",
       "Prob(Omnibus):                  0.113   Jarque-Bera (JB):                1.641\n",
       "Skew:                          -0.018   Prob(JB):                        0.440\n",
       "Kurtosis:                       1.855   Cond. No.                         606.\n",
       "==============================================================================\n",
       "\n",
       "Notes:\n",
       "[1] Standard Errors assume that the covariance matrix of the errors is correctly specified.\n",
       "\"\"\""
      ]
     },
     "execution_count": 13,
     "metadata": {},
     "output_type": "execute_result"
    }
   ],
   "source": [
    "full_data2 = sm.add_constant(full_data2, has_constant=\"add\")\n",
    "full_model2 = sm.OLS(target, full_data2)\n",
    "fitted_full_model2 = full_model2.fit()\n",
    "fitted_full_model2.summary()"
   ]
  },
  {
   "cell_type": "markdown",
   "id": "0ad18ed5",
   "metadata": {},
   "source": [
    "### ANOVA Table for FM"
   ]
  },
  {
   "cell_type": "code",
   "execution_count": 14,
   "id": "7dd917d2",
   "metadata": {},
   "outputs": [
    {
     "data": {
      "text/html": [
       "<div>\n",
       "<style scoped>\n",
       "    .dataframe tbody tr th:only-of-type {\n",
       "        vertical-align: middle;\n",
       "    }\n",
       "\n",
       "    .dataframe tbody tr th {\n",
       "        vertical-align: top;\n",
       "    }\n",
       "\n",
       "    .dataframe thead th {\n",
       "        text-align: right;\n",
       "    }\n",
       "</style>\n",
       "<table border=\"1\" class=\"dataframe\">\n",
       "  <thead>\n",
       "    <tr style=\"text-align: right;\">\n",
       "      <th></th>\n",
       "      <th>df</th>\n",
       "      <th>sum_sq</th>\n",
       "      <th>mean_sq</th>\n",
       "      <th>F</th>\n",
       "      <th>PR(&gt;F)</th>\n",
       "    </tr>\n",
       "  </thead>\n",
       "  <tbody>\n",
       "    <tr>\n",
       "      <th>X1</th>\n",
       "      <td>1.0</td>\n",
       "      <td>2927.584253</td>\n",
       "      <td>2927.584253</td>\n",
       "      <td>62.155947</td>\n",
       "      <td>2.324167e-08</td>\n",
       "    </tr>\n",
       "    <tr>\n",
       "      <th>X2</th>\n",
       "      <td>1.0</td>\n",
       "      <td>7.518562</td>\n",
       "      <td>7.518562</td>\n",
       "      <td>0.159628</td>\n",
       "      <td>6.927628e-01</td>\n",
       "    </tr>\n",
       "    <tr>\n",
       "      <th>X3</th>\n",
       "      <td>1.0</td>\n",
       "      <td>137.247472</td>\n",
       "      <td>137.247472</td>\n",
       "      <td>2.913920</td>\n",
       "      <td>9.973547e-02</td>\n",
       "    </tr>\n",
       "    <tr>\n",
       "      <th>Residual</th>\n",
       "      <td>26.0</td>\n",
       "      <td>1224.616381</td>\n",
       "      <td>47.100630</td>\n",
       "      <td>NaN</td>\n",
       "      <td>NaN</td>\n",
       "    </tr>\n",
       "  </tbody>\n",
       "</table>\n",
       "</div>"
      ],
      "text/plain": [
       "            df       sum_sq      mean_sq          F        PR(>F)\n",
       "X1         1.0  2927.584253  2927.584253  62.155947  2.324167e-08\n",
       "X2         1.0     7.518562     7.518562   0.159628  6.927628e-01\n",
       "X3         1.0   137.247472   137.247472   2.913920  9.973547e-02\n",
       "Residual  26.0  1224.616381    47.100630        NaN           NaN"
      ]
     },
     "execution_count": 14,
     "metadata": {},
     "output_type": "execute_result"
    }
   ],
   "source": [
    "concat_fulldata2 = pd.concat([target, x_data2], axis=1)\n",
    "model22 = sm.OLS.from_formula('Y ~ X1 + X2 + X3', concat_fulldata2)\n",
    "fitted_model22 = model22.fit()\n",
    "anova_lm(fitted_model22)"
   ]
  },
  {
   "cell_type": "markdown",
   "id": "f4ef0bac",
   "metadata": {},
   "source": [
    "### Calculating SSE(FM)"
   ]
  },
  {
   "cell_type": "code",
   "execution_count": 15,
   "id": "67a18e57",
   "metadata": {},
   "outputs": [
    {
     "data": {
      "text/plain": [
       "1224.6163806588245"
      ]
     },
     "execution_count": 15,
     "metadata": {},
     "output_type": "execute_result"
    }
   ],
   "source": [
    "fitted = fitted_model2.predict(x_data2)\n",
    "fm_sse2 = 0\n",
    "target_val = superv['Y']\n",
    "for i in range(superv.shape[0]):\n",
    "    fm_sse2 += (fitted[i] - target_val[i])**2\n",
    "fm_sse2"
   ]
  },
  {
   "cell_type": "markdown",
   "id": "95e2dc61",
   "metadata": {},
   "source": [
    "## Fitting RM"
   ]
  },
  {
   "cell_type": "markdown",
   "id": "f8405fd7",
   "metadata": {},
   "source": [
    "### new_target = target - 0.5X1 - 0.5X3"
   ]
  },
  {
   "cell_type": "code",
   "execution_count": 16,
   "id": "76271fce",
   "metadata": {},
   "outputs": [
    {
     "data": {
      "text/html": [
       "<div>\n",
       "<style scoped>\n",
       "    .dataframe tbody tr th:only-of-type {\n",
       "        vertical-align: middle;\n",
       "    }\n",
       "\n",
       "    .dataframe tbody tr th {\n",
       "        vertical-align: top;\n",
       "    }\n",
       "\n",
       "    .dataframe thead th {\n",
       "        text-align: right;\n",
       "    }\n",
       "</style>\n",
       "<table border=\"1\" class=\"dataframe\">\n",
       "  <thead>\n",
       "    <tr style=\"text-align: right;\">\n",
       "      <th></th>\n",
       "      <th>Y</th>\n",
       "    </tr>\n",
       "  </thead>\n",
       "  <tbody>\n",
       "    <tr>\n",
       "      <th>0</th>\n",
       "      <td>-2.0</td>\n",
       "    </tr>\n",
       "    <tr>\n",
       "      <th>1</th>\n",
       "      <td>4.0</td>\n",
       "    </tr>\n",
       "    <tr>\n",
       "      <th>2</th>\n",
       "      <td>1.5</td>\n",
       "    </tr>\n",
       "    <tr>\n",
       "      <th>3</th>\n",
       "      <td>6.0</td>\n",
       "    </tr>\n",
       "    <tr>\n",
       "      <th>4</th>\n",
       "      <td>9.0</td>\n",
       "    </tr>\n",
       "  </tbody>\n",
       "</table>\n",
       "</div>"
      ],
      "text/plain": [
       "     Y\n",
       "0 -2.0\n",
       "1  4.0\n",
       "2  1.5\n",
       "3  6.0\n",
       "4  9.0"
      ]
     },
     "execution_count": 16,
     "metadata": {},
     "output_type": "execute_result"
    }
   ],
   "source": [
    "new_target = pd.DataFrame(columns=['Y'])\n",
    "for idx in range(superv.shape[0]):\n",
    "    new_target = new_target.append(pd.DataFrame([target.loc[idx] - superv.loc[idx, 'X1']*0.5 - superv.loc[idx, 'X3']*0.5], \n",
    "                                                columns=['Y']), ignore_index=True)\n",
    "new_target.head()"
   ]
  },
  {
   "cell_type": "markdown",
   "id": "abb9b8c4",
   "metadata": {},
   "source": [
    "### Fitting new target onto X2"
   ]
  },
  {
   "cell_type": "code",
   "execution_count": 17,
   "id": "296aa969",
   "metadata": {},
   "outputs": [
    {
     "data": {
      "text/html": [
       "<table class=\"simpletable\">\n",
       "<caption>OLS Regression Results</caption>\n",
       "<tr>\n",
       "  <th>Dep. Variable:</th>            <td>Y</td>        <th>  R-squared:         </th> <td>   0.040</td>\n",
       "</tr>\n",
       "<tr>\n",
       "  <th>Model:</th>                   <td>OLS</td>       <th>  Adj. R-squared:    </th> <td>   0.006</td>\n",
       "</tr>\n",
       "<tr>\n",
       "  <th>Method:</th>             <td>Least Squares</td>  <th>  F-statistic:       </th> <td>   1.169</td>\n",
       "</tr>\n",
       "<tr>\n",
       "  <th>Date:</th>             <td>Thu, 29 Apr 2021</td> <th>  Prob (F-statistic):</th>  <td> 0.289</td> \n",
       "</tr>\n",
       "<tr>\n",
       "  <th>Time:</th>                 <td>08:57:14</td>     <th>  Log-Likelihood:    </th> <td> -100.33</td>\n",
       "</tr>\n",
       "<tr>\n",
       "  <th>No. Observations:</th>      <td>    30</td>      <th>  AIC:               </th> <td>   204.7</td>\n",
       "</tr>\n",
       "<tr>\n",
       "  <th>Df Residuals:</th>          <td>    28</td>      <th>  BIC:               </th> <td>   207.5</td>\n",
       "</tr>\n",
       "<tr>\n",
       "  <th>Df Model:</th>              <td>     1</td>      <th>                     </th>     <td> </td>   \n",
       "</tr>\n",
       "<tr>\n",
       "  <th>Covariance Type:</th>      <td>nonrobust</td>    <th>                     </th>     <td> </td>   \n",
       "</tr>\n",
       "</table>\n",
       "<table class=\"simpletable\">\n",
       "<tr>\n",
       "    <td></td>       <th>coef</th>     <th>std err</th>      <th>t</th>      <th>P>|t|</th>  <th>[0.025</th>    <th>0.975]</th>  \n",
       "</tr>\n",
       "<tr>\n",
       "  <th>const</th> <td>    9.3378</td> <td>    5.869</td> <td>    1.591</td> <td> 0.123</td> <td>   -2.684</td> <td>   21.359</td>\n",
       "</tr>\n",
       "<tr>\n",
       "  <th>X2</th>    <td>   -0.1165</td> <td>    0.108</td> <td>   -1.081</td> <td> 0.289</td> <td>   -0.337</td> <td>    0.104</td>\n",
       "</tr>\n",
       "</table>\n",
       "<table class=\"simpletable\">\n",
       "<tr>\n",
       "  <th>Omnibus:</th>       <td> 1.366</td> <th>  Durbin-Watson:     </th> <td>   1.491</td>\n",
       "</tr>\n",
       "<tr>\n",
       "  <th>Prob(Omnibus):</th> <td> 0.505</td> <th>  Jarque-Bera (JB):  </th> <td>   1.111</td>\n",
       "</tr>\n",
       "<tr>\n",
       "  <th>Skew:</th>          <td> 0.255</td> <th>  Prob(JB):          </th> <td>   0.574</td>\n",
       "</tr>\n",
       "<tr>\n",
       "  <th>Kurtosis:</th>      <td> 2.207</td> <th>  Cond. No.          </th> <td>    247.</td>\n",
       "</tr>\n",
       "</table><br/><br/>Notes:<br/>[1] Standard Errors assume that the covariance matrix of the errors is correctly specified."
      ],
      "text/plain": [
       "<class 'statsmodels.iolib.summary.Summary'>\n",
       "\"\"\"\n",
       "                            OLS Regression Results                            \n",
       "==============================================================================\n",
       "Dep. Variable:                      Y   R-squared:                       0.040\n",
       "Model:                            OLS   Adj. R-squared:                  0.006\n",
       "Method:                 Least Squares   F-statistic:                     1.169\n",
       "Date:                Thu, 29 Apr 2021   Prob (F-statistic):              0.289\n",
       "Time:                        08:57:14   Log-Likelihood:                -100.33\n",
       "No. Observations:                  30   AIC:                             204.7\n",
       "Df Residuals:                      28   BIC:                             207.5\n",
       "Df Model:                           1                                         \n",
       "Covariance Type:            nonrobust                                         \n",
       "==============================================================================\n",
       "                 coef    std err          t      P>|t|      [0.025      0.975]\n",
       "------------------------------------------------------------------------------\n",
       "const          9.3378      5.869      1.591      0.123      -2.684      21.359\n",
       "X2            -0.1165      0.108     -1.081      0.289      -0.337       0.104\n",
       "==============================================================================\n",
       "Omnibus:                        1.366   Durbin-Watson:                   1.491\n",
       "Prob(Omnibus):                  0.505   Jarque-Bera (JB):                1.111\n",
       "Skew:                           0.255   Prob(JB):                        0.574\n",
       "Kurtosis:                       2.207   Cond. No.                         247.\n",
       "==============================================================================\n",
       "\n",
       "Notes:\n",
       "[1] Standard Errors assume that the covariance matrix of the errors is correctly specified.\n",
       "\"\"\""
      ]
     },
     "execution_count": 17,
     "metadata": {},
     "output_type": "execute_result"
    }
   ],
   "source": [
    "x_data3 = superv[['X2']]\n",
    "x_data3 = sm.add_constant(x_data3, has_constant=\"add\")\n",
    "model3 = sm.OLS(new_target, x_data3)\n",
    "fitted_model3 = model3.fit()\n",
    "fitted_model3.summary()"
   ]
  },
  {
   "cell_type": "markdown",
   "id": "e7350404",
   "metadata": {},
   "source": [
    "### Calculating SSE(RM)"
   ]
  },
  {
   "cell_type": "code",
   "execution_count": 18,
   "id": "21459605",
   "metadata": {},
   "outputs": [
    {
     "data": {
      "text/html": [
       "<div>\n",
       "<style scoped>\n",
       "    .dataframe tbody tr th:only-of-type {\n",
       "        vertical-align: middle;\n",
       "    }\n",
       "\n",
       "    .dataframe tbody tr th {\n",
       "        vertical-align: top;\n",
       "    }\n",
       "\n",
       "    .dataframe thead th {\n",
       "        text-align: right;\n",
       "    }\n",
       "</style>\n",
       "<table border=\"1\" class=\"dataframe\">\n",
       "  <thead>\n",
       "    <tr style=\"text-align: right;\">\n",
       "      <th></th>\n",
       "      <th>df</th>\n",
       "      <th>sum_sq</th>\n",
       "      <th>mean_sq</th>\n",
       "      <th>F</th>\n",
       "      <th>PR(&gt;F)</th>\n",
       "    </tr>\n",
       "  </thead>\n",
       "  <tbody>\n",
       "    <tr>\n",
       "      <th>X2</th>\n",
       "      <td>1.0</td>\n",
       "      <td>58.881337</td>\n",
       "      <td>58.881337</td>\n",
       "      <td>1.1687</td>\n",
       "      <td>0.288892</td>\n",
       "    </tr>\n",
       "    <tr>\n",
       "      <th>Residual</th>\n",
       "      <td>28.0</td>\n",
       "      <td>1410.693663</td>\n",
       "      <td>50.381917</td>\n",
       "      <td>NaN</td>\n",
       "      <td>NaN</td>\n",
       "    </tr>\n",
       "  </tbody>\n",
       "</table>\n",
       "</div>"
      ],
      "text/plain": [
       "            df       sum_sq    mean_sq       F    PR(>F)\n",
       "X2         1.0    58.881337  58.881337  1.1687  0.288892\n",
       "Residual  28.0  1410.693663  50.381917     NaN       NaN"
      ]
     },
     "execution_count": 18,
     "metadata": {},
     "output_type": "execute_result"
    }
   ],
   "source": [
    "data33 = pd.concat([new_target, x_data3], axis=1)\n",
    "model33 = sm.OLS.from_formula('Y ~ X2', data33)\n",
    "fitted_model33 = model33.fit()\n",
    "anova_lm(fitted_model33)"
   ]
  },
  {
   "cell_type": "code",
   "execution_count": 19,
   "id": "7c9b1d70",
   "metadata": {},
   "outputs": [
    {
     "data": {
      "text/plain": [
       "1410.6936634317126"
      ]
     },
     "execution_count": 19,
     "metadata": {},
     "output_type": "execute_result"
    }
   ],
   "source": [
    "fitted = fitted_model3.predict(x_data3)\n",
    "rm_sse2 = 0\n",
    "target_val = new_target['Y']\n",
    "for i in range(superv.shape[0]):\n",
    "    rm_sse2 += (fitted[i] - target_val[i])**2\n",
    "rm_sse2"
   ]
  },
  {
   "cell_type": "markdown",
   "id": "3456c9c0",
   "metadata": {},
   "source": [
    "## Calculating F value"
   ]
  },
  {
   "cell_type": "code",
   "execution_count": 20,
   "id": "e2967f6c",
   "metadata": {},
   "outputs": [
    {
     "data": {
      "text/plain": [
       "2.051289985262609"
      ]
     },
     "execution_count": 20,
     "metadata": {},
     "output_type": "execute_result"
    }
   ],
   "source": [
    "F_stats2 = ((rm_sse2-fm_sse2)/2)/(fm_sse2/(superv.shape[0]-3))\n",
    "F_stats2"
   ]
  },
  {
   "cell_type": "markdown",
   "id": "b6911db5",
   "metadata": {},
   "source": [
    "### get p-value"
   ]
  },
  {
   "cell_type": "code",
   "execution_count": 21,
   "id": "bde0d282",
   "metadata": {},
   "outputs": [
    {
     "data": {
      "text/plain": [
       "0.14813552061172064"
      ]
     },
     "execution_count": 21,
     "metadata": {},
     "output_type": "execute_result"
    }
   ],
   "source": [
    "f_dist = f(2, 27)\n",
    "1-f_dist.cdf(F_stats2)"
   ]
  }
 ],
 "metadata": {
  "hide_input": false,
  "kernelspec": {
   "display_name": "Python 3",
   "language": "python",
   "name": "python3"
  },
  "language_info": {
   "codemirror_mode": {
    "name": "ipython",
    "version": 3
   },
   "file_extension": ".py",
   "mimetype": "text/x-python",
   "name": "python",
   "nbconvert_exporter": "python",
   "pygments_lexer": "ipython3",
   "version": "3.8.5"
  },
  "toc": {
   "base_numbering": 1,
   "nav_menu": {},
   "number_sections": true,
   "sideBar": true,
   "skip_h1_title": false,
   "title_cell": "Table of Contents",
   "title_sidebar": "Contents",
   "toc_cell": false,
   "toc_position": {
    "height": "calc(100% - 180px)",
    "left": "10px",
    "top": "150px",
    "width": "307.193px"
   },
   "toc_section_display": true,
   "toc_window_display": true
  }
 },
 "nbformat": 4,
 "nbformat_minor": 5
}
