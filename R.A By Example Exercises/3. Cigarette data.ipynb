{
 "cells": [
  {
   "cell_type": "code",
   "execution_count": 1,
   "id": "2c2ad5df",
   "metadata": {},
   "outputs": [],
   "source": [
    "import pandas as pd\n",
    "import numpy as np\n",
    "import statsmodels.api as sm\n",
    "from statsmodels.stats.anova import anova_lm"
   ]
  },
  {
   "cell_type": "markdown",
   "id": "c8491fa6",
   "metadata": {},
   "source": [
    "# Loading Data"
   ]
  },
  {
   "cell_type": "code",
   "execution_count": 2,
   "id": "8eb8c1bd",
   "metadata": {},
   "outputs": [
    {
     "data": {
      "text/html": [
       "<div>\n",
       "<style scoped>\n",
       "    .dataframe tbody tr th:only-of-type {\n",
       "        vertical-align: middle;\n",
       "    }\n",
       "\n",
       "    .dataframe tbody tr th {\n",
       "        vertical-align: top;\n",
       "    }\n",
       "\n",
       "    .dataframe thead th {\n",
       "        text-align: right;\n",
       "    }\n",
       "</style>\n",
       "<table border=\"1\" class=\"dataframe\">\n",
       "  <thead>\n",
       "    <tr style=\"text-align: right;\">\n",
       "      <th></th>\n",
       "      <th>Y</th>\n",
       "      <th>X1</th>\n",
       "      <th>X2</th>\n",
       "      <th>X3</th>\n",
       "      <th>X4</th>\n",
       "      <th>X5</th>\n",
       "      <th>X6</th>\n",
       "    </tr>\n",
       "  </thead>\n",
       "  <tbody>\n",
       "    <tr>\n",
       "      <th>0</th>\n",
       "      <td>43</td>\n",
       "      <td>51</td>\n",
       "      <td>30</td>\n",
       "      <td>39</td>\n",
       "      <td>61</td>\n",
       "      <td>92</td>\n",
       "      <td>45</td>\n",
       "    </tr>\n",
       "    <tr>\n",
       "      <th>1</th>\n",
       "      <td>63</td>\n",
       "      <td>64</td>\n",
       "      <td>51</td>\n",
       "      <td>54</td>\n",
       "      <td>63</td>\n",
       "      <td>73</td>\n",
       "      <td>47</td>\n",
       "    </tr>\n",
       "    <tr>\n",
       "      <th>2</th>\n",
       "      <td>71</td>\n",
       "      <td>70</td>\n",
       "      <td>68</td>\n",
       "      <td>69</td>\n",
       "      <td>76</td>\n",
       "      <td>86</td>\n",
       "      <td>48</td>\n",
       "    </tr>\n",
       "    <tr>\n",
       "      <th>3</th>\n",
       "      <td>61</td>\n",
       "      <td>63</td>\n",
       "      <td>45</td>\n",
       "      <td>47</td>\n",
       "      <td>54</td>\n",
       "      <td>84</td>\n",
       "      <td>35</td>\n",
       "    </tr>\n",
       "    <tr>\n",
       "      <th>4</th>\n",
       "      <td>81</td>\n",
       "      <td>78</td>\n",
       "      <td>56</td>\n",
       "      <td>66</td>\n",
       "      <td>71</td>\n",
       "      <td>83</td>\n",
       "      <td>47</td>\n",
       "    </tr>\n",
       "  </tbody>\n",
       "</table>\n",
       "</div>"
      ],
      "text/plain": [
       "    Y  X1  X2  X3  X4  X5  X6\n",
       "0  43  51  30  39  61  92  45\n",
       "1  63  64  51  54  63  73  47\n",
       "2  71  70  68  69  76  86  48\n",
       "3  61  63  45  47  54  84  35\n",
       "4  81  78  56  66  71  83  47"
      ]
     },
     "execution_count": 2,
     "metadata": {},
     "output_type": "execute_result"
    }
   ],
   "source": [
    "ciga = pd.read_csv(\"./data/2-supervisor.csv\")\n",
    "ciga.head()"
   ]
  },
  {
   "cell_type": "markdown",
   "id": "5650c482",
   "metadata": {},
   "source": [
    "# Problem (a)"
   ]
  },
  {
   "cell_type": "markdown",
   "id": "be4a5a4e",
   "metadata": {},
   "source": [
    "## Fitting FM"
   ]
  },
  {
   "cell_type": "code",
   "execution_count": 3,
   "id": "be747153",
   "metadata": {},
   "outputs": [],
   "source": [
    "target = ciga[['Y']]\n",
    "full_x_data = ciga[['X1', 'X2', 'X3', 'X4', 'X5', 'X6']]"
   ]
  },
  {
   "cell_type": "code",
   "execution_count": 4,
   "id": "27d67e54",
   "metadata": {},
   "outputs": [
    {
     "data": {
      "text/html": [
       "<table class=\"simpletable\">\n",
       "<caption>OLS Regression Results</caption>\n",
       "<tr>\n",
       "  <th>Dep. Variable:</th>            <td>Y</td>        <th>  R-squared:         </th> <td>   0.733</td>\n",
       "</tr>\n",
       "<tr>\n",
       "  <th>Model:</th>                   <td>OLS</td>       <th>  Adj. R-squared:    </th> <td>   0.663</td>\n",
       "</tr>\n",
       "<tr>\n",
       "  <th>Method:</th>             <td>Least Squares</td>  <th>  F-statistic:       </th> <td>   10.50</td>\n",
       "</tr>\n",
       "<tr>\n",
       "  <th>Date:</th>             <td>Thu, 29 Apr 2021</td> <th>  Prob (F-statistic):</th> <td>1.24e-05</td>\n",
       "</tr>\n",
       "<tr>\n",
       "  <th>Time:</th>                 <td>08:57:20</td>     <th>  Log-Likelihood:    </th> <td> -97.250</td>\n",
       "</tr>\n",
       "<tr>\n",
       "  <th>No. Observations:</th>      <td>    30</td>      <th>  AIC:               </th> <td>   208.5</td>\n",
       "</tr>\n",
       "<tr>\n",
       "  <th>Df Residuals:</th>          <td>    23</td>      <th>  BIC:               </th> <td>   218.3</td>\n",
       "</tr>\n",
       "<tr>\n",
       "  <th>Df Model:</th>              <td>     6</td>      <th>                     </th>     <td> </td>   \n",
       "</tr>\n",
       "<tr>\n",
       "  <th>Covariance Type:</th>      <td>nonrobust</td>    <th>                     </th>     <td> </td>   \n",
       "</tr>\n",
       "</table>\n",
       "<table class=\"simpletable\">\n",
       "<tr>\n",
       "    <td></td>       <th>coef</th>     <th>std err</th>      <th>t</th>      <th>P>|t|</th>  <th>[0.025</th>    <th>0.975]</th>  \n",
       "</tr>\n",
       "<tr>\n",
       "  <th>const</th> <td>   10.7871</td> <td>   11.589</td> <td>    0.931</td> <td> 0.362</td> <td>  -13.187</td> <td>   34.761</td>\n",
       "</tr>\n",
       "<tr>\n",
       "  <th>X1</th>    <td>    0.6132</td> <td>    0.161</td> <td>    3.809</td> <td> 0.001</td> <td>    0.280</td> <td>    0.946</td>\n",
       "</tr>\n",
       "<tr>\n",
       "  <th>X2</th>    <td>   -0.0731</td> <td>    0.136</td> <td>   -0.538</td> <td> 0.596</td> <td>   -0.354</td> <td>    0.208</td>\n",
       "</tr>\n",
       "<tr>\n",
       "  <th>X3</th>    <td>    0.3203</td> <td>    0.169</td> <td>    1.901</td> <td> 0.070</td> <td>   -0.028</td> <td>    0.669</td>\n",
       "</tr>\n",
       "<tr>\n",
       "  <th>X4</th>    <td>    0.0817</td> <td>    0.221</td> <td>    0.369</td> <td> 0.715</td> <td>   -0.376</td> <td>    0.540</td>\n",
       "</tr>\n",
       "<tr>\n",
       "  <th>X5</th>    <td>    0.0384</td> <td>    0.147</td> <td>    0.261</td> <td> 0.796</td> <td>   -0.266</td> <td>    0.342</td>\n",
       "</tr>\n",
       "<tr>\n",
       "  <th>X6</th>    <td>   -0.2171</td> <td>    0.178</td> <td>   -1.218</td> <td> 0.236</td> <td>   -0.586</td> <td>    0.152</td>\n",
       "</tr>\n",
       "</table>\n",
       "<table class=\"simpletable\">\n",
       "<tr>\n",
       "  <th>Omnibus:</th>       <td> 2.386</td> <th>  Durbin-Watson:     </th> <td>   1.795</td>\n",
       "</tr>\n",
       "<tr>\n",
       "  <th>Prob(Omnibus):</th> <td> 0.303</td> <th>  Jarque-Bera (JB):  </th> <td>   1.255</td>\n",
       "</tr>\n",
       "<tr>\n",
       "  <th>Skew:</th>          <td>-0.081</td> <th>  Prob(JB):          </th> <td>   0.534</td>\n",
       "</tr>\n",
       "<tr>\n",
       "  <th>Kurtosis:</th>      <td> 2.011</td> <th>  Cond. No.          </th> <td>1.34e+03</td>\n",
       "</tr>\n",
       "</table><br/><br/>Notes:<br/>[1] Standard Errors assume that the covariance matrix of the errors is correctly specified.<br/>[2] The condition number is large, 1.34e+03. This might indicate that there are<br/>strong multicollinearity or other numerical problems."
      ],
      "text/plain": [
       "<class 'statsmodels.iolib.summary.Summary'>\n",
       "\"\"\"\n",
       "                            OLS Regression Results                            \n",
       "==============================================================================\n",
       "Dep. Variable:                      Y   R-squared:                       0.733\n",
       "Model:                            OLS   Adj. R-squared:                  0.663\n",
       "Method:                 Least Squares   F-statistic:                     10.50\n",
       "Date:                Thu, 29 Apr 2021   Prob (F-statistic):           1.24e-05\n",
       "Time:                        08:57:20   Log-Likelihood:                -97.250\n",
       "No. Observations:                  30   AIC:                             208.5\n",
       "Df Residuals:                      23   BIC:                             218.3\n",
       "Df Model:                           6                                         \n",
       "Covariance Type:            nonrobust                                         \n",
       "==============================================================================\n",
       "                 coef    std err          t      P>|t|      [0.025      0.975]\n",
       "------------------------------------------------------------------------------\n",
       "const         10.7871     11.589      0.931      0.362     -13.187      34.761\n",
       "X1             0.6132      0.161      3.809      0.001       0.280       0.946\n",
       "X2            -0.0731      0.136     -0.538      0.596      -0.354       0.208\n",
       "X3             0.3203      0.169      1.901      0.070      -0.028       0.669\n",
       "X4             0.0817      0.221      0.369      0.715      -0.376       0.540\n",
       "X5             0.0384      0.147      0.261      0.796      -0.266       0.342\n",
       "X6            -0.2171      0.178     -1.218      0.236      -0.586       0.152\n",
       "==============================================================================\n",
       "Omnibus:                        2.386   Durbin-Watson:                   1.795\n",
       "Prob(Omnibus):                  0.303   Jarque-Bera (JB):                1.255\n",
       "Skew:                          -0.081   Prob(JB):                        0.534\n",
       "Kurtosis:                       2.011   Cond. No.                     1.34e+03\n",
       "==============================================================================\n",
       "\n",
       "Notes:\n",
       "[1] Standard Errors assume that the covariance matrix of the errors is correctly specified.\n",
       "[2] The condition number is large, 1.34e+03. This might indicate that there are\n",
       "strong multicollinearity or other numerical problems.\n",
       "\"\"\""
      ]
     },
     "execution_count": 4,
     "metadata": {},
     "output_type": "execute_result"
    }
   ],
   "source": [
    "full_x_data = sm.add_constant(full_x_data, has_constant=\"add\")\n",
    "full_model = sm.OLS(target, full_x_data)\n",
    "fitted_full_model = full_model.fit()\n",
    "fitted_full_model.summary()"
   ]
  },
  {
   "cell_type": "markdown",
   "id": "97e41b3b",
   "metadata": {},
   "source": [
    "## Calculating SSE(FM)"
   ]
  },
  {
   "cell_type": "code",
   "execution_count": 5,
   "id": "6b3e7bc0",
   "metadata": {},
   "outputs": [
    {
     "data": {
      "text/plain": [
       "1149.0003248267374"
      ]
     },
     "execution_count": 5,
     "metadata": {},
     "output_type": "execute_result"
    }
   ],
   "source": [
    "fitted = fitted_full_model.predict(full_x_data)\n",
    "fm_sse = 0\n",
    "target_val = ciga['Y']\n",
    "for i in range(ciga.shape[0]):\n",
    "    fm_sse += (fitted[i] - target_val[i])**2\n",
    "fm_sse"
   ]
  },
  {
   "cell_type": "markdown",
   "id": "c31094ac",
   "metadata": {},
   "source": [
    "# Problem (b)"
   ]
  },
  {
   "cell_type": "markdown",
   "id": "e1d995a9",
   "metadata": {},
   "source": [
    "## Fitting RM (exclude X2, X5)"
   ]
  },
  {
   "cell_type": "code",
   "execution_count": 6,
   "id": "4fd95dc0",
   "metadata": {},
   "outputs": [
    {
     "data": {
      "text/html": [
       "<table class=\"simpletable\">\n",
       "<caption>OLS Regression Results</caption>\n",
       "<tr>\n",
       "  <th>Dep. Variable:</th>            <td>Y</td>        <th>  R-squared:         </th> <td>   0.729</td>\n",
       "</tr>\n",
       "<tr>\n",
       "  <th>Model:</th>                   <td>OLS</td>       <th>  Adj. R-squared:    </th> <td>   0.685</td>\n",
       "</tr>\n",
       "<tr>\n",
       "  <th>Method:</th>             <td>Least Squares</td>  <th>  F-statistic:       </th> <td>   16.77</td>\n",
       "</tr>\n",
       "<tr>\n",
       "  <th>Date:</th>             <td>Thu, 29 Apr 2021</td> <th>  Prob (F-statistic):</th> <td>8.44e-07</td>\n",
       "</tr>\n",
       "<tr>\n",
       "  <th>Time:</th>                 <td>08:57:20</td>     <th>  Log-Likelihood:    </th> <td> -97.477</td>\n",
       "</tr>\n",
       "<tr>\n",
       "  <th>No. Observations:</th>      <td>    30</td>      <th>  AIC:               </th> <td>   205.0</td>\n",
       "</tr>\n",
       "<tr>\n",
       "  <th>Df Residuals:</th>          <td>    25</td>      <th>  BIC:               </th> <td>   212.0</td>\n",
       "</tr>\n",
       "<tr>\n",
       "  <th>Df Model:</th>              <td>     4</td>      <th>                     </th>     <td> </td>   \n",
       "</tr>\n",
       "<tr>\n",
       "  <th>Covariance Type:</th>      <td>nonrobust</td>    <th>                     </th>     <td> </td>   \n",
       "</tr>\n",
       "</table>\n",
       "<table class=\"simpletable\">\n",
       "<tr>\n",
       "    <td></td>       <th>coef</th>     <th>std err</th>      <th>t</th>      <th>P>|t|</th>  <th>[0.025</th>    <th>0.975]</th>  \n",
       "</tr>\n",
       "<tr>\n",
       "  <th>const</th> <td>   11.9917</td> <td>    8.241</td> <td>    1.455</td> <td> 0.158</td> <td>   -4.981</td> <td>   28.964</td>\n",
       "</tr>\n",
       "<tr>\n",
       "  <th>X1</th>    <td>    0.5811</td> <td>    0.144</td> <td>    4.027</td> <td> 0.000</td> <td>    0.284</td> <td>    0.878</td>\n",
       "</tr>\n",
       "<tr>\n",
       "  <th>X3</th>    <td>    0.2999</td> <td>    0.158</td> <td>    1.895</td> <td> 0.070</td> <td>   -0.026</td> <td>    0.626</td>\n",
       "</tr>\n",
       "<tr>\n",
       "  <th>X4</th>    <td>    0.1062</td> <td>    0.205</td> <td>    0.518</td> <td> 0.609</td> <td>   -0.316</td> <td>    0.528</td>\n",
       "</tr>\n",
       "<tr>\n",
       "  <th>X6</th>    <td>   -0.2289</td> <td>    0.168</td> <td>   -1.365</td> <td> 0.185</td> <td>   -0.574</td> <td>    0.117</td>\n",
       "</tr>\n",
       "</table>\n",
       "<table class=\"simpletable\">\n",
       "<tr>\n",
       "  <th>Omnibus:</th>       <td> 2.402</td> <th>  Durbin-Watson:     </th> <td>   1.878</td>\n",
       "</tr>\n",
       "<tr>\n",
       "  <th>Prob(Omnibus):</th> <td> 0.301</td> <th>  Jarque-Bera (JB):  </th> <td>   1.285</td>\n",
       "</tr>\n",
       "<tr>\n",
       "  <th>Skew:</th>          <td>-0.120</td> <th>  Prob(JB):          </th> <td>   0.526</td>\n",
       "</tr>\n",
       "<tr>\n",
       "  <th>Kurtosis:</th>      <td> 2.015</td> <th>  Cond. No.          </th> <td>    781.</td>\n",
       "</tr>\n",
       "</table><br/><br/>Notes:<br/>[1] Standard Errors assume that the covariance matrix of the errors is correctly specified."
      ],
      "text/plain": [
       "<class 'statsmodels.iolib.summary.Summary'>\n",
       "\"\"\"\n",
       "                            OLS Regression Results                            \n",
       "==============================================================================\n",
       "Dep. Variable:                      Y   R-squared:                       0.729\n",
       "Model:                            OLS   Adj. R-squared:                  0.685\n",
       "Method:                 Least Squares   F-statistic:                     16.77\n",
       "Date:                Thu, 29 Apr 2021   Prob (F-statistic):           8.44e-07\n",
       "Time:                        08:57:20   Log-Likelihood:                -97.477\n",
       "No. Observations:                  30   AIC:                             205.0\n",
       "Df Residuals:                      25   BIC:                             212.0\n",
       "Df Model:                           4                                         \n",
       "Covariance Type:            nonrobust                                         \n",
       "==============================================================================\n",
       "                 coef    std err          t      P>|t|      [0.025      0.975]\n",
       "------------------------------------------------------------------------------\n",
       "const         11.9917      8.241      1.455      0.158      -4.981      28.964\n",
       "X1             0.5811      0.144      4.027      0.000       0.284       0.878\n",
       "X3             0.2999      0.158      1.895      0.070      -0.026       0.626\n",
       "X4             0.1062      0.205      0.518      0.609      -0.316       0.528\n",
       "X6            -0.2289      0.168     -1.365      0.185      -0.574       0.117\n",
       "==============================================================================\n",
       "Omnibus:                        2.402   Durbin-Watson:                   1.878\n",
       "Prob(Omnibus):                  0.301   Jarque-Bera (JB):                1.285\n",
       "Skew:                          -0.120   Prob(JB):                        0.526\n",
       "Kurtosis:                       2.015   Cond. No.                         781.\n",
       "==============================================================================\n",
       "\n",
       "Notes:\n",
       "[1] Standard Errors assume that the covariance matrix of the errors is correctly specified.\n",
       "\"\"\""
      ]
     },
     "execution_count": 6,
     "metadata": {},
     "output_type": "execute_result"
    }
   ],
   "source": [
    "reduced_x_data1 = ciga[['X1', 'X3', 'X4', 'X6']]\n",
    "reduced_x_data1 = sm.add_constant(reduced_x_data1, has_constant=\"add\")\n",
    "reduced_model1 = sm.OLS(target, reduced_x_data1)\n",
    "fitted_reduced_model1 = reduced_model1.fit()\n",
    "fitted_reduced_model1.summary()"
   ]
  },
  {
   "cell_type": "markdown",
   "id": "4631c5e7",
   "metadata": {},
   "source": [
    "## Calculating SSE(RM1)"
   ]
  },
  {
   "cell_type": "code",
   "execution_count": 7,
   "id": "72157681",
   "metadata": {},
   "outputs": [
    {
     "data": {
      "text/plain": [
       "1166.5651045239122"
      ]
     },
     "execution_count": 7,
     "metadata": {},
     "output_type": "execute_result"
    }
   ],
   "source": [
    "fitted = fitted_reduced_model1.predict(reduced_x_data1)\n",
    "rm_sse1 = 0\n",
    "target_val = ciga['Y']\n",
    "for i in range(ciga.shape[0]):\n",
    "    rm_sse1 += (fitted[i] - target_val[i])**2\n",
    "rm_sse1"
   ]
  },
  {
   "cell_type": "markdown",
   "id": "777bf054",
   "metadata": {},
   "source": [
    "## Calculating F value"
   ]
  },
  {
   "cell_type": "code",
   "execution_count": 8,
   "id": "7a669c2a",
   "metadata": {},
   "outputs": [
    {
     "data": {
      "text/plain": [
       "0.1758006174175537"
      ]
     },
     "execution_count": 8,
     "metadata": {},
     "output_type": "execute_result"
    }
   ],
   "source": [
    "F_stats = ((rm_sse1-fm_sse)/(6-4))/(fm_sse/(ciga.shape[0]-7))\n",
    "F_stats"
   ]
  },
  {
   "cell_type": "code",
   "execution_count": 9,
   "id": "b2f79e70",
   "metadata": {},
   "outputs": [
    {
     "data": {
      "text/plain": [
       "0.8397376163900425"
      ]
     },
     "execution_count": 9,
     "metadata": {},
     "output_type": "execute_result"
    }
   ],
   "source": [
    "from scipy.stats import f\n",
    "f_dist = f(2, 27)\n",
    "1-f_dist.cdf(F_stats)"
   ]
  },
  {
   "cell_type": "markdown",
   "id": "51fe3647",
   "metadata": {},
   "source": [
    "# Problem (d)"
   ]
  },
  {
   "cell_type": "markdown",
   "id": "994460f0",
   "metadata": {},
   "source": [
    "## Fitting RM(exclude X3)"
   ]
  },
  {
   "cell_type": "code",
   "execution_count": 10,
   "id": "7c4f8072",
   "metadata": {},
   "outputs": [
    {
     "data": {
      "text/html": [
       "<table class=\"simpletable\">\n",
       "<caption>OLS Regression Results</caption>\n",
       "<tr>\n",
       "  <th>Dep. Variable:</th>            <td>Y</td>        <th>  R-squared:         </th> <td>   0.691</td>\n",
       "</tr>\n",
       "<tr>\n",
       "  <th>Model:</th>                   <td>OLS</td>       <th>  Adj. R-squared:    </th> <td>   0.626</td>\n",
       "</tr>\n",
       "<tr>\n",
       "  <th>Method:</th>             <td>Least Squares</td>  <th>  F-statistic:       </th> <td>   10.71</td>\n",
       "</tr>\n",
       "<tr>\n",
       "  <th>Date:</th>             <td>Thu, 29 Apr 2021</td> <th>  Prob (F-statistic):</th> <td>1.69e-05</td>\n",
       "</tr>\n",
       "<tr>\n",
       "  <th>Time:</th>                 <td>08:57:20</td>     <th>  Log-Likelihood:    </th> <td> -99.439</td>\n",
       "</tr>\n",
       "<tr>\n",
       "  <th>No. Observations:</th>      <td>    30</td>      <th>  AIC:               </th> <td>   210.9</td>\n",
       "</tr>\n",
       "<tr>\n",
       "  <th>Df Residuals:</th>          <td>    24</td>      <th>  BIC:               </th> <td>   219.3</td>\n",
       "</tr>\n",
       "<tr>\n",
       "  <th>Df Model:</th>              <td>     5</td>      <th>                     </th>     <td> </td>   \n",
       "</tr>\n",
       "<tr>\n",
       "  <th>Covariance Type:</th>      <td>nonrobust</td>    <th>                     </th>     <td> </td>   \n",
       "</tr>\n",
       "</table>\n",
       "<table class=\"simpletable\">\n",
       "<tr>\n",
       "    <td></td>       <th>coef</th>     <th>std err</th>      <th>t</th>      <th>P>|t|</th>  <th>[0.025</th>    <th>0.975]</th>  \n",
       "</tr>\n",
       "<tr>\n",
       "  <th>const</th> <td>   14.2546</td> <td>   12.052</td> <td>    1.183</td> <td> 0.248</td> <td>  -10.619</td> <td>   39.128</td>\n",
       "</tr>\n",
       "<tr>\n",
       "  <th>X1</th>    <td>    0.7055</td> <td>    0.162</td> <td>    4.365</td> <td> 0.000</td> <td>    0.372</td> <td>    1.039</td>\n",
       "</tr>\n",
       "<tr>\n",
       "  <th>X2</th>    <td>   -0.0378</td> <td>    0.142</td> <td>   -0.267</td> <td> 0.792</td> <td>   -0.330</td> <td>    0.254</td>\n",
       "</tr>\n",
       "<tr>\n",
       "  <th>X4</th>    <td>    0.1685</td> <td>    0.228</td> <td>    0.738</td> <td> 0.468</td> <td>   -0.303</td> <td>    0.639</td>\n",
       "</tr>\n",
       "<tr>\n",
       "  <th>X5</th>    <td>   -0.0163</td> <td>    0.152</td> <td>   -0.107</td> <td> 0.915</td> <td>   -0.330</td> <td>    0.297</td>\n",
       "</tr>\n",
       "<tr>\n",
       "  <th>X6</th>    <td>   -0.0994</td> <td>    0.176</td> <td>   -0.565</td> <td> 0.577</td> <td>   -0.463</td> <td>    0.264</td>\n",
       "</tr>\n",
       "</table>\n",
       "<table class=\"simpletable\">\n",
       "<tr>\n",
       "  <th>Omnibus:</th>       <td> 5.583</td> <th>  Durbin-Watson:     </th> <td>   2.098</td>\n",
       "</tr>\n",
       "<tr>\n",
       "  <th>Prob(Omnibus):</th> <td> 0.061</td> <th>  Jarque-Bera (JB):  </th> <td>   2.285</td>\n",
       "</tr>\n",
       "<tr>\n",
       "  <th>Skew:</th>          <td>-0.337</td> <th>  Prob(JB):          </th> <td>   0.319</td>\n",
       "</tr>\n",
       "<tr>\n",
       "  <th>Kurtosis:</th>      <td> 1.828</td> <th>  Cond. No.          </th> <td>1.23e+03</td>\n",
       "</tr>\n",
       "</table><br/><br/>Notes:<br/>[1] Standard Errors assume that the covariance matrix of the errors is correctly specified.<br/>[2] The condition number is large, 1.23e+03. This might indicate that there are<br/>strong multicollinearity or other numerical problems."
      ],
      "text/plain": [
       "<class 'statsmodels.iolib.summary.Summary'>\n",
       "\"\"\"\n",
       "                            OLS Regression Results                            \n",
       "==============================================================================\n",
       "Dep. Variable:                      Y   R-squared:                       0.691\n",
       "Model:                            OLS   Adj. R-squared:                  0.626\n",
       "Method:                 Least Squares   F-statistic:                     10.71\n",
       "Date:                Thu, 29 Apr 2021   Prob (F-statistic):           1.69e-05\n",
       "Time:                        08:57:20   Log-Likelihood:                -99.439\n",
       "No. Observations:                  30   AIC:                             210.9\n",
       "Df Residuals:                      24   BIC:                             219.3\n",
       "Df Model:                           5                                         \n",
       "Covariance Type:            nonrobust                                         \n",
       "==============================================================================\n",
       "                 coef    std err          t      P>|t|      [0.025      0.975]\n",
       "------------------------------------------------------------------------------\n",
       "const         14.2546     12.052      1.183      0.248     -10.619      39.128\n",
       "X1             0.7055      0.162      4.365      0.000       0.372       1.039\n",
       "X2            -0.0378      0.142     -0.267      0.792      -0.330       0.254\n",
       "X4             0.1685      0.228      0.738      0.468      -0.303       0.639\n",
       "X5            -0.0163      0.152     -0.107      0.915      -0.330       0.297\n",
       "X6            -0.0994      0.176     -0.565      0.577      -0.463       0.264\n",
       "==============================================================================\n",
       "Omnibus:                        5.583   Durbin-Watson:                   2.098\n",
       "Prob(Omnibus):                  0.061   Jarque-Bera (JB):                2.285\n",
       "Skew:                          -0.337   Prob(JB):                        0.319\n",
       "Kurtosis:                       1.828   Cond. No.                     1.23e+03\n",
       "==============================================================================\n",
       "\n",
       "Notes:\n",
       "[1] Standard Errors assume that the covariance matrix of the errors is correctly specified.\n",
       "[2] The condition number is large, 1.23e+03. This might indicate that there are\n",
       "strong multicollinearity or other numerical problems.\n",
       "\"\"\""
      ]
     },
     "execution_count": 10,
     "metadata": {},
     "output_type": "execute_result"
    }
   ],
   "source": [
    "reduced_x_data2 = ciga[['X1', 'X2', 'X4', 'X5', 'X6']]\n",
    "reduced_x_data2 = sm.add_constant(reduced_x_data2, has_constant=\"add\")\n",
    "reduced_model2 = sm.OLS(target, reduced_x_data2)\n",
    "fitted_reduced_model2 = reduced_model2.fit()\n",
    "fitted_reduced_model2.summary()"
   ]
  },
  {
   "cell_type": "markdown",
   "id": "c0f8984d",
   "metadata": {},
   "source": [
    "# Problem (e)"
   ]
  },
  {
   "cell_type": "markdown",
   "id": "082f30cb",
   "metadata": {},
   "source": [
    "## Fitting RM(include X1, X3, X6)"
   ]
  },
  {
   "cell_type": "code",
   "execution_count": 11,
   "id": "e1865478",
   "metadata": {},
   "outputs": [
    {
     "data": {
      "text/html": [
       "<table class=\"simpletable\">\n",
       "<caption>OLS Regression Results</caption>\n",
       "<tr>\n",
       "  <th>Dep. Variable:</th>            <td>Y</td>        <th>  R-squared:         </th> <td>   0.726</td>\n",
       "</tr>\n",
       "<tr>\n",
       "  <th>Model:</th>                   <td>OLS</td>       <th>  Adj. R-squared:    </th> <td>   0.694</td>\n",
       "</tr>\n",
       "<tr>\n",
       "  <th>Method:</th>             <td>Least Squares</td>  <th>  F-statistic:       </th> <td>   22.92</td>\n",
       "</tr>\n",
       "<tr>\n",
       "  <th>Date:</th>             <td>Thu, 29 Apr 2021</td> <th>  Prob (F-statistic):</th> <td>1.81e-07</td>\n",
       "</tr>\n",
       "<tr>\n",
       "  <th>Time:</th>                 <td>08:57:20</td>     <th>  Log-Likelihood:    </th> <td> -97.638</td>\n",
       "</tr>\n",
       "<tr>\n",
       "  <th>No. Observations:</th>      <td>    30</td>      <th>  AIC:               </th> <td>   203.3</td>\n",
       "</tr>\n",
       "<tr>\n",
       "  <th>Df Residuals:</th>          <td>    26</td>      <th>  BIC:               </th> <td>   208.9</td>\n",
       "</tr>\n",
       "<tr>\n",
       "  <th>Df Model:</th>              <td>     3</td>      <th>                     </th>     <td> </td>   \n",
       "</tr>\n",
       "<tr>\n",
       "  <th>Covariance Type:</th>      <td>nonrobust</td>    <th>                     </th>     <td> </td>   \n",
       "</tr>\n",
       "</table>\n",
       "<table class=\"simpletable\">\n",
       "<tr>\n",
       "    <td></td>       <th>coef</th>     <th>std err</th>      <th>t</th>      <th>P>|t|</th>  <th>[0.025</th>    <th>0.975]</th>  \n",
       "</tr>\n",
       "<tr>\n",
       "  <th>const</th> <td>   13.5777</td> <td>    7.544</td> <td>    1.800</td> <td> 0.084</td> <td>   -1.929</td> <td>   29.084</td>\n",
       "</tr>\n",
       "<tr>\n",
       "  <th>X1</th>    <td>    0.6227</td> <td>    0.118</td> <td>    5.271</td> <td> 0.000</td> <td>    0.380</td> <td>    0.866</td>\n",
       "</tr>\n",
       "<tr>\n",
       "  <th>X3</th>    <td>    0.3124</td> <td>    0.154</td> <td>    2.026</td> <td> 0.053</td> <td>   -0.005</td> <td>    0.629</td>\n",
       "</tr>\n",
       "<tr>\n",
       "  <th>X6</th>    <td>   -0.1870</td> <td>    0.145</td> <td>   -1.291</td> <td> 0.208</td> <td>   -0.485</td> <td>    0.111</td>\n",
       "</tr>\n",
       "</table>\n",
       "<table class=\"simpletable\">\n",
       "<tr>\n",
       "  <th>Omnibus:</th>       <td> 2.856</td> <th>  Durbin-Watson:     </th> <td>   1.938</td>\n",
       "</tr>\n",
       "<tr>\n",
       "  <th>Prob(Omnibus):</th> <td> 0.240</td> <th>  Jarque-Bera (JB):  </th> <td>   1.394</td>\n",
       "</tr>\n",
       "<tr>\n",
       "  <th>Skew:</th>          <td>-0.121</td> <th>  Prob(JB):          </th> <td>   0.498</td>\n",
       "</tr>\n",
       "<tr>\n",
       "  <th>Kurtosis:</th>      <td> 1.972</td> <th>  Cond. No.          </th> <td>    605.</td>\n",
       "</tr>\n",
       "</table><br/><br/>Notes:<br/>[1] Standard Errors assume that the covariance matrix of the errors is correctly specified."
      ],
      "text/plain": [
       "<class 'statsmodels.iolib.summary.Summary'>\n",
       "\"\"\"\n",
       "                            OLS Regression Results                            \n",
       "==============================================================================\n",
       "Dep. Variable:                      Y   R-squared:                       0.726\n",
       "Model:                            OLS   Adj. R-squared:                  0.694\n",
       "Method:                 Least Squares   F-statistic:                     22.92\n",
       "Date:                Thu, 29 Apr 2021   Prob (F-statistic):           1.81e-07\n",
       "Time:                        08:57:20   Log-Likelihood:                -97.638\n",
       "No. Observations:                  30   AIC:                             203.3\n",
       "Df Residuals:                      26   BIC:                             208.9\n",
       "Df Model:                           3                                         \n",
       "Covariance Type:            nonrobust                                         \n",
       "==============================================================================\n",
       "                 coef    std err          t      P>|t|      [0.025      0.975]\n",
       "------------------------------------------------------------------------------\n",
       "const         13.5777      7.544      1.800      0.084      -1.929      29.084\n",
       "X1             0.6227      0.118      5.271      0.000       0.380       0.866\n",
       "X3             0.3124      0.154      2.026      0.053      -0.005       0.629\n",
       "X6            -0.1870      0.145     -1.291      0.208      -0.485       0.111\n",
       "==============================================================================\n",
       "Omnibus:                        2.856   Durbin-Watson:                   1.938\n",
       "Prob(Omnibus):                  0.240   Jarque-Bera (JB):                1.394\n",
       "Skew:                          -0.121   Prob(JB):                        0.498\n",
       "Kurtosis:                       1.972   Cond. No.                         605.\n",
       "==============================================================================\n",
       "\n",
       "Notes:\n",
       "[1] Standard Errors assume that the covariance matrix of the errors is correctly specified.\n",
       "\"\"\""
      ]
     },
     "execution_count": 11,
     "metadata": {},
     "output_type": "execute_result"
    }
   ],
   "source": [
    "reduced_x_data3 = ciga[['X1', 'X3', 'X6']]\n",
    "reduced_x_data3 = sm.add_constant(reduced_x_data3, has_constant=\"add\")\n",
    "reduced_model3 = sm.OLS(target, reduced_x_data3)\n",
    "fitted_reduced_model3 = reduced_model3.fit()\n",
    "fitted_reduced_model3.summary()"
   ]
  },
  {
   "cell_type": "markdown",
   "id": "27769477",
   "metadata": {},
   "source": [
    "# Problem (f)"
   ]
  },
  {
   "cell_type": "markdown",
   "id": "05462adb",
   "metadata": {},
   "source": [
    "## Fitting RM (include X3)"
   ]
  },
  {
   "cell_type": "code",
   "execution_count": 12,
   "id": "f7d4fbe3",
   "metadata": {},
   "outputs": [
    {
     "data": {
      "text/html": [
       "<table class=\"simpletable\">\n",
       "<caption>OLS Regression Results</caption>\n",
       "<tr>\n",
       "  <th>Dep. Variable:</th>            <td>Y</td>        <th>  R-squared:         </th> <td>   0.389</td>\n",
       "</tr>\n",
       "<tr>\n",
       "  <th>Model:</th>                   <td>OLS</td>       <th>  Adj. R-squared:    </th> <td>   0.367</td>\n",
       "</tr>\n",
       "<tr>\n",
       "  <th>Method:</th>             <td>Least Squares</td>  <th>  F-statistic:       </th> <td>   17.82</td>\n",
       "</tr>\n",
       "<tr>\n",
       "  <th>Date:</th>             <td>Thu, 29 Apr 2021</td> <th>  Prob (F-statistic):</th> <td>0.000231</td>\n",
       "</tr>\n",
       "<tr>\n",
       "  <th>Time:</th>                 <td>08:57:21</td>     <th>  Log-Likelihood:    </th> <td> -109.65</td>\n",
       "</tr>\n",
       "<tr>\n",
       "  <th>No. Observations:</th>      <td>    30</td>      <th>  AIC:               </th> <td>   223.3</td>\n",
       "</tr>\n",
       "<tr>\n",
       "  <th>Df Residuals:</th>          <td>    28</td>      <th>  BIC:               </th> <td>   226.1</td>\n",
       "</tr>\n",
       "<tr>\n",
       "  <th>Df Model:</th>              <td>     1</td>      <th>                     </th>     <td> </td>   \n",
       "</tr>\n",
       "<tr>\n",
       "  <th>Covariance Type:</th>      <td>nonrobust</td>    <th>                     </th>     <td> </td>   \n",
       "</tr>\n",
       "</table>\n",
       "<table class=\"simpletable\">\n",
       "<tr>\n",
       "    <td></td>       <th>coef</th>     <th>std err</th>      <th>t</th>      <th>P>|t|</th>  <th>[0.025</th>    <th>0.975]</th>  \n",
       "</tr>\n",
       "<tr>\n",
       "  <th>const</th> <td>   28.1741</td> <td>    8.815</td> <td>    3.196</td> <td> 0.003</td> <td>   10.118</td> <td>   46.230</td>\n",
       "</tr>\n",
       "<tr>\n",
       "  <th>X3</th>    <td>    0.6468</td> <td>    0.153</td> <td>    4.222</td> <td> 0.000</td> <td>    0.333</td> <td>    0.961</td>\n",
       "</tr>\n",
       "</table>\n",
       "<table class=\"simpletable\">\n",
       "<tr>\n",
       "  <th>Omnibus:</th>       <td> 2.077</td> <th>  Durbin-Watson:     </th> <td>   1.541</td>\n",
       "</tr>\n",
       "<tr>\n",
       "  <th>Prob(Omnibus):</th> <td> 0.354</td> <th>  Jarque-Bera (JB):  </th> <td>   1.269</td>\n",
       "</tr>\n",
       "<tr>\n",
       "  <th>Skew:</th>          <td>-0.500</td> <th>  Prob(JB):          </th> <td>   0.530</td>\n",
       "</tr>\n",
       "<tr>\n",
       "  <th>Kurtosis:</th>      <td> 3.131</td> <th>  Cond. No.          </th> <td>    287.</td>\n",
       "</tr>\n",
       "</table><br/><br/>Notes:<br/>[1] Standard Errors assume that the covariance matrix of the errors is correctly specified."
      ],
      "text/plain": [
       "<class 'statsmodels.iolib.summary.Summary'>\n",
       "\"\"\"\n",
       "                            OLS Regression Results                            \n",
       "==============================================================================\n",
       "Dep. Variable:                      Y   R-squared:                       0.389\n",
       "Model:                            OLS   Adj. R-squared:                  0.367\n",
       "Method:                 Least Squares   F-statistic:                     17.82\n",
       "Date:                Thu, 29 Apr 2021   Prob (F-statistic):           0.000231\n",
       "Time:                        08:57:21   Log-Likelihood:                -109.65\n",
       "No. Observations:                  30   AIC:                             223.3\n",
       "Df Residuals:                      28   BIC:                             226.1\n",
       "Df Model:                           1                                         \n",
       "Covariance Type:            nonrobust                                         \n",
       "==============================================================================\n",
       "                 coef    std err          t      P>|t|      [0.025      0.975]\n",
       "------------------------------------------------------------------------------\n",
       "const         28.1741      8.815      3.196      0.003      10.118      46.230\n",
       "X3             0.6468      0.153      4.222      0.000       0.333       0.961\n",
       "==============================================================================\n",
       "Omnibus:                        2.077   Durbin-Watson:                   1.541\n",
       "Prob(Omnibus):                  0.354   Jarque-Bera (JB):                1.269\n",
       "Skew:                          -0.500   Prob(JB):                        0.530\n",
       "Kurtosis:                       3.131   Cond. No.                         287.\n",
       "==============================================================================\n",
       "\n",
       "Notes:\n",
       "[1] Standard Errors assume that the covariance matrix of the errors is correctly specified.\n",
       "\"\"\""
      ]
     },
     "execution_count": 12,
     "metadata": {},
     "output_type": "execute_result"
    }
   ],
   "source": [
    "reduced_x_data4 = ciga[['X3']]\n",
    "reduced_x_data4 = sm.add_constant(reduced_x_data4, has_constant=\"add\")\n",
    "reduced_model4 = sm.OLS(target, reduced_x_data4)\n",
    "fitted_reduced_model4 = reduced_model4.fit()\n",
    "fitted_reduced_model4.summary()"
   ]
  },
  {
   "cell_type": "code",
   "execution_count": null,
   "id": "c64042ca",
   "metadata": {},
   "outputs": [],
   "source": []
  }
 ],
 "metadata": {
  "hide_input": false,
  "kernelspec": {
   "display_name": "Python 3",
   "language": "python",
   "name": "python3"
  },
  "language_info": {
   "codemirror_mode": {
    "name": "ipython",
    "version": 3
   },
   "file_extension": ".py",
   "mimetype": "text/x-python",
   "name": "python",
   "nbconvert_exporter": "python",
   "pygments_lexer": "ipython3",
   "version": "3.8.5"
  },
  "toc": {
   "base_numbering": 1,
   "nav_menu": {},
   "number_sections": true,
   "sideBar": true,
   "skip_h1_title": false,
   "title_cell": "Table of Contents",
   "title_sidebar": "Contents",
   "toc_cell": false,
   "toc_position": {
    "height": "calc(100% - 180px)",
    "left": "10px",
    "top": "150px",
    "width": "279.273px"
   },
   "toc_section_display": true,
   "toc_window_display": true
  }
 },
 "nbformat": 4,
 "nbformat_minor": 5
}
