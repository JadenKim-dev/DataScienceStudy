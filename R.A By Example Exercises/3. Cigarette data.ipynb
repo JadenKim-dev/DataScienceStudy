{
 "cells": [
  {
   "cell_type": "code",
   "execution_count": 1,
   "id": "2c2ad5df",
   "metadata": {},
   "outputs": [],
   "source": [
    "import pandas as pd\n",
    "import numpy as np\n",
    "import statsmodels.api as sm\n",
    "from statsmodels.stats.anova import anova_lm"
   ]
  },
  {
   "cell_type": "markdown",
   "id": "c8491fa6",
   "metadata": {},
   "source": [
    "# Loading Data"
   ]
  },
  {
   "cell_type": "code",
   "execution_count": 2,
   "id": "8eb8c1bd",
   "metadata": {},
   "outputs": [
    {
     "data": {
      "text/html": [
       "<div>\n",
       "<style scoped>\n",
       "    .dataframe tbody tr th:only-of-type {\n",
       "        vertical-align: middle;\n",
       "    }\n",
       "\n",
       "    .dataframe tbody tr th {\n",
       "        vertical-align: top;\n",
       "    }\n",
       "\n",
       "    .dataframe thead th {\n",
       "        text-align: right;\n",
       "    }\n",
       "</style>\n",
       "<table border=\"1\" class=\"dataframe\">\n",
       "  <thead>\n",
       "    <tr style=\"text-align: right;\">\n",
       "      <th></th>\n",
       "      <th>State</th>\n",
       "      <th>Age</th>\n",
       "      <th>HS</th>\n",
       "      <th>Income</th>\n",
       "      <th>Black</th>\n",
       "      <th>Female</th>\n",
       "      <th>Price</th>\n",
       "      <th>Sales</th>\n",
       "    </tr>\n",
       "  </thead>\n",
       "  <tbody>\n",
       "    <tr>\n",
       "      <th>0</th>\n",
       "      <td>AL</td>\n",
       "      <td>27.0</td>\n",
       "      <td>41.3</td>\n",
       "      <td>2948</td>\n",
       "      <td>26.2</td>\n",
       "      <td>51.7</td>\n",
       "      <td>42.7</td>\n",
       "      <td>89.8</td>\n",
       "    </tr>\n",
       "    <tr>\n",
       "      <th>1</th>\n",
       "      <td>AK</td>\n",
       "      <td>22.9</td>\n",
       "      <td>66.7</td>\n",
       "      <td>4644</td>\n",
       "      <td>3.0</td>\n",
       "      <td>45.7</td>\n",
       "      <td>41.8</td>\n",
       "      <td>121.3</td>\n",
       "    </tr>\n",
       "    <tr>\n",
       "      <th>2</th>\n",
       "      <td>AZ</td>\n",
       "      <td>26.3</td>\n",
       "      <td>58.1</td>\n",
       "      <td>3665</td>\n",
       "      <td>3.0</td>\n",
       "      <td>50.8</td>\n",
       "      <td>38.5</td>\n",
       "      <td>115.2</td>\n",
       "    </tr>\n",
       "    <tr>\n",
       "      <th>3</th>\n",
       "      <td>AR</td>\n",
       "      <td>29.1</td>\n",
       "      <td>39.9</td>\n",
       "      <td>2878</td>\n",
       "      <td>18.3</td>\n",
       "      <td>51.5</td>\n",
       "      <td>38.8</td>\n",
       "      <td>100.3</td>\n",
       "    </tr>\n",
       "    <tr>\n",
       "      <th>4</th>\n",
       "      <td>CA</td>\n",
       "      <td>28.1</td>\n",
       "      <td>62.6</td>\n",
       "      <td>4493</td>\n",
       "      <td>7.0</td>\n",
       "      <td>50.8</td>\n",
       "      <td>39.7</td>\n",
       "      <td>123.0</td>\n",
       "    </tr>\n",
       "  </tbody>\n",
       "</table>\n",
       "</div>"
      ],
      "text/plain": [
       "  State   Age    HS  Income  Black  Female  Price  Sales\n",
       "0    AL  27.0  41.3    2948   26.2    51.7   42.7   89.8\n",
       "1    AK  22.9  66.7    4644    3.0    45.7   41.8  121.3\n",
       "2    AZ  26.3  58.1    3665    3.0    50.8   38.5  115.2\n",
       "3    AR  29.1  39.9    2878   18.3    51.5   38.8  100.3\n",
       "4    CA  28.1  62.6    4493    7.0    50.8   39.7  123.0"
      ]
     },
     "execution_count": 2,
     "metadata": {},
     "output_type": "execute_result"
    }
   ],
   "source": [
    "ciga = pd.read_csv(\"./data/3-cigarette.csv\")\n",
    "ciga.head()"
   ]
  },
  {
   "cell_type": "markdown",
   "id": "5650c482",
   "metadata": {},
   "source": [
    "# Problem (a)"
   ]
  },
  {
   "cell_type": "markdown",
   "id": "be4a5a4e",
   "metadata": {},
   "source": [
    "## Fitting FM"
   ]
  },
  {
   "cell_type": "code",
   "execution_count": 3,
   "id": "be747153",
   "metadata": {},
   "outputs": [],
   "source": [
    "target = ciga[['Sales']]\n",
    "full_x_data = ciga[['Age', 'HS', 'Income', 'Black', 'Female', 'Price']]"
   ]
  },
  {
   "cell_type": "code",
   "execution_count": 4,
   "id": "27d67e54",
   "metadata": {},
   "outputs": [
    {
     "data": {
      "text/html": [
       "<table class=\"simpletable\">\n",
       "<caption>OLS Regression Results</caption>\n",
       "<tr>\n",
       "  <th>Dep. Variable:</th>          <td>Sales</td>      <th>  R-squared:         </th> <td>   0.321</td>\n",
       "</tr>\n",
       "<tr>\n",
       "  <th>Model:</th>                   <td>OLS</td>       <th>  Adj. R-squared:    </th> <td>   0.228</td>\n",
       "</tr>\n",
       "<tr>\n",
       "  <th>Method:</th>             <td>Least Squares</td>  <th>  F-statistic:       </th> <td>   3.464</td>\n",
       "</tr>\n",
       "<tr>\n",
       "  <th>Date:</th>             <td>Thu, 29 Apr 2021</td> <th>  Prob (F-statistic):</th>  <td>0.00686</td>\n",
       "</tr>\n",
       "<tr>\n",
       "  <th>Time:</th>                 <td>16:28:13</td>     <th>  Log-Likelihood:    </th> <td> -238.86</td>\n",
       "</tr>\n",
       "<tr>\n",
       "  <th>No. Observations:</th>      <td>    51</td>      <th>  AIC:               </th> <td>   491.7</td>\n",
       "</tr>\n",
       "<tr>\n",
       "  <th>Df Residuals:</th>          <td>    44</td>      <th>  BIC:               </th> <td>   505.2</td>\n",
       "</tr>\n",
       "<tr>\n",
       "  <th>Df Model:</th>              <td>     6</td>      <th>                     </th>     <td> </td>   \n",
       "</tr>\n",
       "<tr>\n",
       "  <th>Covariance Type:</th>      <td>nonrobust</td>    <th>                     </th>     <td> </td>   \n",
       "</tr>\n",
       "</table>\n",
       "<table class=\"simpletable\">\n",
       "<tr>\n",
       "     <td></td>       <th>coef</th>     <th>std err</th>      <th>t</th>      <th>P>|t|</th>  <th>[0.025</th>    <th>0.975]</th>  \n",
       "</tr>\n",
       "<tr>\n",
       "  <th>const</th>  <td>  103.3448</td> <td>  245.607</td> <td>    0.421</td> <td> 0.676</td> <td> -391.644</td> <td>  598.334</td>\n",
       "</tr>\n",
       "<tr>\n",
       "  <th>Age</th>    <td>    4.5205</td> <td>    3.220</td> <td>    1.404</td> <td> 0.167</td> <td>   -1.969</td> <td>   11.009</td>\n",
       "</tr>\n",
       "<tr>\n",
       "  <th>HS</th>     <td>   -0.0616</td> <td>    0.815</td> <td>   -0.076</td> <td> 0.940</td> <td>   -1.703</td> <td>    1.580</td>\n",
       "</tr>\n",
       "<tr>\n",
       "  <th>Income</th> <td>    0.0189</td> <td>    0.010</td> <td>    1.855</td> <td> 0.070</td> <td>   -0.002</td> <td>    0.040</td>\n",
       "</tr>\n",
       "<tr>\n",
       "  <th>Black</th>  <td>    0.3575</td> <td>    0.487</td> <td>    0.734</td> <td> 0.467</td> <td>   -0.624</td> <td>    1.339</td>\n",
       "</tr>\n",
       "<tr>\n",
       "  <th>Female</th> <td>   -1.0529</td> <td>    5.561</td> <td>   -0.189</td> <td> 0.851</td> <td>  -12.260</td> <td>   10.155</td>\n",
       "</tr>\n",
       "<tr>\n",
       "  <th>Price</th>  <td>   -3.2549</td> <td>    1.031</td> <td>   -3.156</td> <td> 0.003</td> <td>   -5.334</td> <td>   -1.176</td>\n",
       "</tr>\n",
       "</table>\n",
       "<table class=\"simpletable\">\n",
       "<tr>\n",
       "  <th>Omnibus:</th>       <td>56.254</td> <th>  Durbin-Watson:     </th> <td>   1.663</td>\n",
       "</tr>\n",
       "<tr>\n",
       "  <th>Prob(Omnibus):</th> <td> 0.000</td> <th>  Jarque-Bera (JB):  </th> <td> 358.088</td>\n",
       "</tr>\n",
       "<tr>\n",
       "  <th>Skew:</th>          <td> 2.842</td> <th>  Prob(JB):          </th> <td>1.75e-78</td>\n",
       "</tr>\n",
       "<tr>\n",
       "  <th>Kurtosis:</th>      <td>14.670</td> <th>  Cond. No.          </th> <td>2.37e+05</td>\n",
       "</tr>\n",
       "</table><br/><br/>Notes:<br/>[1] Standard Errors assume that the covariance matrix of the errors is correctly specified.<br/>[2] The condition number is large, 2.37e+05. This might indicate that there are<br/>strong multicollinearity or other numerical problems."
      ],
      "text/plain": [
       "<class 'statsmodels.iolib.summary.Summary'>\n",
       "\"\"\"\n",
       "                            OLS Regression Results                            \n",
       "==============================================================================\n",
       "Dep. Variable:                  Sales   R-squared:                       0.321\n",
       "Model:                            OLS   Adj. R-squared:                  0.228\n",
       "Method:                 Least Squares   F-statistic:                     3.464\n",
       "Date:                Thu, 29 Apr 2021   Prob (F-statistic):            0.00686\n",
       "Time:                        16:28:13   Log-Likelihood:                -238.86\n",
       "No. Observations:                  51   AIC:                             491.7\n",
       "Df Residuals:                      44   BIC:                             505.2\n",
       "Df Model:                           6                                         \n",
       "Covariance Type:            nonrobust                                         \n",
       "==============================================================================\n",
       "                 coef    std err          t      P>|t|      [0.025      0.975]\n",
       "------------------------------------------------------------------------------\n",
       "const        103.3448    245.607      0.421      0.676    -391.644     598.334\n",
       "Age            4.5205      3.220      1.404      0.167      -1.969      11.009\n",
       "HS            -0.0616      0.815     -0.076      0.940      -1.703       1.580\n",
       "Income         0.0189      0.010      1.855      0.070      -0.002       0.040\n",
       "Black          0.3575      0.487      0.734      0.467      -0.624       1.339\n",
       "Female        -1.0529      5.561     -0.189      0.851     -12.260      10.155\n",
       "Price         -3.2549      1.031     -3.156      0.003      -5.334      -1.176\n",
       "==============================================================================\n",
       "Omnibus:                       56.254   Durbin-Watson:                   1.663\n",
       "Prob(Omnibus):                  0.000   Jarque-Bera (JB):              358.088\n",
       "Skew:                           2.842   Prob(JB):                     1.75e-78\n",
       "Kurtosis:                      14.670   Cond. No.                     2.37e+05\n",
       "==============================================================================\n",
       "\n",
       "Notes:\n",
       "[1] Standard Errors assume that the covariance matrix of the errors is correctly specified.\n",
       "[2] The condition number is large, 2.37e+05. This might indicate that there are\n",
       "strong multicollinearity or other numerical problems.\n",
       "\"\"\""
      ]
     },
     "execution_count": 4,
     "metadata": {},
     "output_type": "execute_result"
    }
   ],
   "source": [
    "full_x_data = sm.add_constant(full_x_data, has_constant=\"add\")\n",
    "full_model = sm.OLS(target, full_x_data)\n",
    "fitted_full_model = full_model.fit()\n",
    "fitted_full_model.summary()"
   ]
  },
  {
   "cell_type": "markdown",
   "id": "97e41b3b",
   "metadata": {},
   "source": [
    "## Calculating SSE(FM)"
   ]
  },
  {
   "cell_type": "code",
   "execution_count": 5,
   "id": "6b3e7bc0",
   "metadata": {},
   "outputs": [
    {
     "data": {
      "text/plain": [
       "34925.9688539085"
      ]
     },
     "execution_count": 5,
     "metadata": {},
     "output_type": "execute_result"
    }
   ],
   "source": [
    "fitted = fitted_full_model.predict(full_x_data)\n",
    "fm_sse = 0\n",
    "target_val = ciga['Sales']\n",
    "for i in range(ciga.shape[0]):\n",
    "    fm_sse += (fitted[i] - target_val[i])**2\n",
    "fm_sse"
   ]
  },
  {
   "cell_type": "markdown",
   "id": "c31094ac",
   "metadata": {},
   "source": [
    "# Problem (b)"
   ]
  },
  {
   "cell_type": "markdown",
   "id": "e1d995a9",
   "metadata": {},
   "source": [
    "## Fitting RM (exclude X2, X5)"
   ]
  },
  {
   "cell_type": "code",
   "execution_count": 6,
   "id": "4fd95dc0",
   "metadata": {},
   "outputs": [
    {
     "data": {
      "text/html": [
       "<table class=\"simpletable\">\n",
       "<caption>OLS Regression Results</caption>\n",
       "<tr>\n",
       "  <th>Dep. Variable:</th>          <td>Sales</td>      <th>  R-squared:         </th> <td>   0.320</td>\n",
       "</tr>\n",
       "<tr>\n",
       "  <th>Model:</th>                   <td>OLS</td>       <th>  Adj. R-squared:    </th> <td>   0.261</td>\n",
       "</tr>\n",
       "<tr>\n",
       "  <th>Method:</th>             <td>Least Squares</td>  <th>  F-statistic:       </th> <td>   5.416</td>\n",
       "</tr>\n",
       "<tr>\n",
       "  <th>Date:</th>             <td>Thu, 29 Apr 2021</td> <th>  Prob (F-statistic):</th>  <td>0.00117</td>\n",
       "</tr>\n",
       "<tr>\n",
       "  <th>Time:</th>                 <td>16:28:13</td>     <th>  Log-Likelihood:    </th> <td> -238.88</td>\n",
       "</tr>\n",
       "<tr>\n",
       "  <th>No. Observations:</th>      <td>    51</td>      <th>  AIC:               </th> <td>   487.8</td>\n",
       "</tr>\n",
       "<tr>\n",
       "  <th>Df Residuals:</th>          <td>    46</td>      <th>  BIC:               </th> <td>   497.4</td>\n",
       "</tr>\n",
       "<tr>\n",
       "  <th>Df Model:</th>              <td>     4</td>      <th>                     </th>     <td> </td>   \n",
       "</tr>\n",
       "<tr>\n",
       "  <th>Covariance Type:</th>      <td>nonrobust</td>    <th>                     </th>     <td> </td>   \n",
       "</tr>\n",
       "</table>\n",
       "<table class=\"simpletable\">\n",
       "<tr>\n",
       "     <td></td>       <th>coef</th>     <th>std err</th>      <th>t</th>      <th>P>|t|</th>  <th>[0.025</th>    <th>0.975]</th>  \n",
       "</tr>\n",
       "<tr>\n",
       "  <th>const</th>  <td>   55.3296</td> <td>   62.395</td> <td>    0.887</td> <td> 0.380</td> <td>  -70.266</td> <td>  180.925</td>\n",
       "</tr>\n",
       "<tr>\n",
       "  <th>Age</th>    <td>    4.1915</td> <td>    2.196</td> <td>    1.909</td> <td> 0.062</td> <td>   -0.228</td> <td>    8.611</td>\n",
       "</tr>\n",
       "<tr>\n",
       "  <th>Income</th> <td>    0.0189</td> <td>    0.007</td> <td>    2.745</td> <td> 0.009</td> <td>    0.005</td> <td>    0.033</td>\n",
       "</tr>\n",
       "<tr>\n",
       "  <th>Black</th>  <td>    0.3342</td> <td>    0.312</td> <td>    1.071</td> <td> 0.290</td> <td>   -0.294</td> <td>    0.962</td>\n",
       "</tr>\n",
       "<tr>\n",
       "  <th>Price</th>  <td>   -3.2399</td> <td>    0.999</td> <td>   -3.244</td> <td> 0.002</td> <td>   -5.250</td> <td>   -1.230</td>\n",
       "</tr>\n",
       "</table>\n",
       "<table class=\"simpletable\">\n",
       "<tr>\n",
       "  <th>Omnibus:</th>       <td>56.030</td> <th>  Durbin-Watson:     </th> <td>   1.661</td>\n",
       "</tr>\n",
       "<tr>\n",
       "  <th>Prob(Omnibus):</th> <td> 0.000</td> <th>  Jarque-Bera (JB):  </th> <td> 350.319</td>\n",
       "</tr>\n",
       "<tr>\n",
       "  <th>Skew:</th>          <td> 2.838</td> <th>  Prob(JB):          </th> <td>8.49e-77</td>\n",
       "</tr>\n",
       "<tr>\n",
       "  <th>Kurtosis:</th>      <td>14.517</td> <th>  Cond. No.          </th> <td>6.16e+04</td>\n",
       "</tr>\n",
       "</table><br/><br/>Notes:<br/>[1] Standard Errors assume that the covariance matrix of the errors is correctly specified.<br/>[2] The condition number is large, 6.16e+04. This might indicate that there are<br/>strong multicollinearity or other numerical problems."
      ],
      "text/plain": [
       "<class 'statsmodels.iolib.summary.Summary'>\n",
       "\"\"\"\n",
       "                            OLS Regression Results                            \n",
       "==============================================================================\n",
       "Dep. Variable:                  Sales   R-squared:                       0.320\n",
       "Model:                            OLS   Adj. R-squared:                  0.261\n",
       "Method:                 Least Squares   F-statistic:                     5.416\n",
       "Date:                Thu, 29 Apr 2021   Prob (F-statistic):            0.00117\n",
       "Time:                        16:28:13   Log-Likelihood:                -238.88\n",
       "No. Observations:                  51   AIC:                             487.8\n",
       "Df Residuals:                      46   BIC:                             497.4\n",
       "Df Model:                           4                                         \n",
       "Covariance Type:            nonrobust                                         \n",
       "==============================================================================\n",
       "                 coef    std err          t      P>|t|      [0.025      0.975]\n",
       "------------------------------------------------------------------------------\n",
       "const         55.3296     62.395      0.887      0.380     -70.266     180.925\n",
       "Age            4.1915      2.196      1.909      0.062      -0.228       8.611\n",
       "Income         0.0189      0.007      2.745      0.009       0.005       0.033\n",
       "Black          0.3342      0.312      1.071      0.290      -0.294       0.962\n",
       "Price         -3.2399      0.999     -3.244      0.002      -5.250      -1.230\n",
       "==============================================================================\n",
       "Omnibus:                       56.030   Durbin-Watson:                   1.661\n",
       "Prob(Omnibus):                  0.000   Jarque-Bera (JB):              350.319\n",
       "Skew:                           2.838   Prob(JB):                     8.49e-77\n",
       "Kurtosis:                      14.517   Cond. No.                     6.16e+04\n",
       "==============================================================================\n",
       "\n",
       "Notes:\n",
       "[1] Standard Errors assume that the covariance matrix of the errors is correctly specified.\n",
       "[2] The condition number is large, 6.16e+04. This might indicate that there are\n",
       "strong multicollinearity or other numerical problems.\n",
       "\"\"\""
      ]
     },
     "execution_count": 6,
     "metadata": {},
     "output_type": "execute_result"
    }
   ],
   "source": [
    "reduced_x_data1 = ciga[['Age', 'Income', 'Black', 'Price']]\n",
    "reduced_x_data1 = sm.add_constant(reduced_x_data1, has_constant=\"add\")\n",
    "reduced_model1 = sm.OLS(target, reduced_x_data1)\n",
    "fitted_reduced_model1 = reduced_model1.fit()\n",
    "fitted_reduced_model1.summary()"
   ]
  },
  {
   "cell_type": "markdown",
   "id": "4631c5e7",
   "metadata": {},
   "source": [
    "## Calculating SSE(RM1)"
   ]
  },
  {
   "cell_type": "code",
   "execution_count": 7,
   "id": "72157681",
   "metadata": {},
   "outputs": [
    {
     "data": {
      "text/plain": [
       "34959.767412276226"
      ]
     },
     "execution_count": 7,
     "metadata": {},
     "output_type": "execute_result"
    }
   ],
   "source": [
    "fitted = fitted_reduced_model1.predict(reduced_x_data1)\n",
    "rm_sse1 = 0\n",
    "target_val = ciga['Sales']\n",
    "for i in range(ciga.shape[0]):\n",
    "    rm_sse1 += (fitted[i] - target_val[i])**2\n",
    "rm_sse1"
   ]
  },
  {
   "cell_type": "markdown",
   "id": "777bf054",
   "metadata": {},
   "source": [
    "## Calculating F value"
   ]
  },
  {
   "cell_type": "code",
   "execution_count": 8,
   "id": "7a669c2a",
   "metadata": {},
   "outputs": [
    {
     "data": {
      "text/plain": [
       "0.02128983986672798"
      ]
     },
     "execution_count": 8,
     "metadata": {},
     "output_type": "execute_result"
    }
   ],
   "source": [
    "F_stats = ((rm_sse1-fm_sse)/(6-4))/(fm_sse/(ciga.shape[0]-7))\n",
    "F_stats"
   ]
  },
  {
   "cell_type": "code",
   "execution_count": 9,
   "id": "b2f79e70",
   "metadata": {},
   "outputs": [
    {
     "data": {
      "text/plain": [
       "0.9789516055677775"
      ]
     },
     "execution_count": 9,
     "metadata": {},
     "output_type": "execute_result"
    }
   ],
   "source": [
    "from scipy.stats import f\n",
    "f_dist = f(2, 27)\n",
    "1-f_dist.cdf(F_stats)"
   ]
  },
  {
   "cell_type": "markdown",
   "id": "51fe3647",
   "metadata": {},
   "source": [
    "# Problem (d)"
   ]
  },
  {
   "cell_type": "markdown",
   "id": "994460f0",
   "metadata": {},
   "source": [
    "## Fitting RM(exclude X3)"
   ]
  },
  {
   "cell_type": "code",
   "execution_count": 10,
   "id": "7c4f8072",
   "metadata": {},
   "outputs": [
    {
     "data": {
      "text/html": [
       "<table class=\"simpletable\">\n",
       "<caption>OLS Regression Results</caption>\n",
       "<tr>\n",
       "  <th>Dep. Variable:</th>          <td>Sales</td>      <th>  R-squared:         </th> <td>   0.268</td>\n",
       "</tr>\n",
       "<tr>\n",
       "  <th>Model:</th>                   <td>OLS</td>       <th>  Adj. R-squared:    </th> <td>   0.186</td>\n",
       "</tr>\n",
       "<tr>\n",
       "  <th>Method:</th>             <td>Least Squares</td>  <th>  F-statistic:       </th> <td>   3.291</td>\n",
       "</tr>\n",
       "<tr>\n",
       "  <th>Date:</th>             <td>Thu, 29 Apr 2021</td> <th>  Prob (F-statistic):</th>  <td>0.0129</td> \n",
       "</tr>\n",
       "<tr>\n",
       "  <th>Time:</th>                 <td>16:28:13</td>     <th>  Log-Likelihood:    </th> <td> -240.78</td>\n",
       "</tr>\n",
       "<tr>\n",
       "  <th>No. Observations:</th>      <td>    51</td>      <th>  AIC:               </th> <td>   493.6</td>\n",
       "</tr>\n",
       "<tr>\n",
       "  <th>Df Residuals:</th>          <td>    45</td>      <th>  BIC:               </th> <td>   505.1</td>\n",
       "</tr>\n",
       "<tr>\n",
       "  <th>Df Model:</th>              <td>     5</td>      <th>                     </th>     <td> </td>   \n",
       "</tr>\n",
       "<tr>\n",
       "  <th>Covariance Type:</th>      <td>nonrobust</td>    <th>                     </th>     <td> </td>   \n",
       "</tr>\n",
       "</table>\n",
       "<table class=\"simpletable\">\n",
       "<tr>\n",
       "     <td></td>       <th>coef</th>     <th>std err</th>      <th>t</th>      <th>P>|t|</th>  <th>[0.025</th>    <th>0.975]</th>  \n",
       "</tr>\n",
       "<tr>\n",
       "  <th>const</th>  <td>  162.3245</td> <td>  250.054</td> <td>    0.649</td> <td> 0.520</td> <td> -341.309</td> <td>  665.959</td>\n",
       "</tr>\n",
       "<tr>\n",
       "  <th>Age</th>    <td>    7.3073</td> <td>    2.924</td> <td>    2.499</td> <td> 0.016</td> <td>    1.419</td> <td>   13.196</td>\n",
       "</tr>\n",
       "<tr>\n",
       "  <th>HS</th>     <td>    0.9717</td> <td>    0.610</td> <td>    1.592</td> <td> 0.118</td> <td>   -0.258</td> <td>    2.201</td>\n",
       "</tr>\n",
       "<tr>\n",
       "  <th>Black</th>  <td>    0.8447</td> <td>    0.421</td> <td>    2.005</td> <td> 0.051</td> <td>   -0.004</td> <td>    1.693</td>\n",
       "</tr>\n",
       "<tr>\n",
       "  <th>Female</th> <td>   -3.7815</td> <td>    5.506</td> <td>   -0.687</td> <td> 0.496</td> <td>  -14.872</td> <td>    7.309</td>\n",
       "</tr>\n",
       "<tr>\n",
       "  <th>Price</th>  <td>   -2.8603</td> <td>    1.036</td> <td>   -2.760</td> <td> 0.008</td> <td>   -4.947</td> <td>   -0.773</td>\n",
       "</tr>\n",
       "</table>\n",
       "<table class=\"simpletable\">\n",
       "<tr>\n",
       "  <th>Omnibus:</th>       <td>50.377</td> <th>  Durbin-Watson:     </th> <td>   1.594</td>\n",
       "</tr>\n",
       "<tr>\n",
       "  <th>Prob(Omnibus):</th> <td> 0.000</td> <th>  Jarque-Bera (JB):  </th> <td> 252.496</td>\n",
       "</tr>\n",
       "<tr>\n",
       "  <th>Skew:</th>          <td> 2.572</td> <th>  Prob(JB):          </th> <td>1.48e-55</td>\n",
       "</tr>\n",
       "<tr>\n",
       "  <th>Kurtosis:</th>      <td>12.611</td> <th>  Cond. No.          </th> <td>5.43e+03</td>\n",
       "</tr>\n",
       "</table><br/><br/>Notes:<br/>[1] Standard Errors assume that the covariance matrix of the errors is correctly specified.<br/>[2] The condition number is large, 5.43e+03. This might indicate that there are<br/>strong multicollinearity or other numerical problems."
      ],
      "text/plain": [
       "<class 'statsmodels.iolib.summary.Summary'>\n",
       "\"\"\"\n",
       "                            OLS Regression Results                            \n",
       "==============================================================================\n",
       "Dep. Variable:                  Sales   R-squared:                       0.268\n",
       "Model:                            OLS   Adj. R-squared:                  0.186\n",
       "Method:                 Least Squares   F-statistic:                     3.291\n",
       "Date:                Thu, 29 Apr 2021   Prob (F-statistic):             0.0129\n",
       "Time:                        16:28:13   Log-Likelihood:                -240.78\n",
       "No. Observations:                  51   AIC:                             493.6\n",
       "Df Residuals:                      45   BIC:                             505.1\n",
       "Df Model:                           5                                         \n",
       "Covariance Type:            nonrobust                                         \n",
       "==============================================================================\n",
       "                 coef    std err          t      P>|t|      [0.025      0.975]\n",
       "------------------------------------------------------------------------------\n",
       "const        162.3245    250.054      0.649      0.520    -341.309     665.959\n",
       "Age            7.3073      2.924      2.499      0.016       1.419      13.196\n",
       "HS             0.9717      0.610      1.592      0.118      -0.258       2.201\n",
       "Black          0.8447      0.421      2.005      0.051      -0.004       1.693\n",
       "Female        -3.7815      5.506     -0.687      0.496     -14.872       7.309\n",
       "Price         -2.8603      1.036     -2.760      0.008      -4.947      -0.773\n",
       "==============================================================================\n",
       "Omnibus:                       50.377   Durbin-Watson:                   1.594\n",
       "Prob(Omnibus):                  0.000   Jarque-Bera (JB):              252.496\n",
       "Skew:                           2.572   Prob(JB):                     1.48e-55\n",
       "Kurtosis:                      12.611   Cond. No.                     5.43e+03\n",
       "==============================================================================\n",
       "\n",
       "Notes:\n",
       "[1] Standard Errors assume that the covariance matrix of the errors is correctly specified.\n",
       "[2] The condition number is large, 5.43e+03. This might indicate that there are\n",
       "strong multicollinearity or other numerical problems.\n",
       "\"\"\""
      ]
     },
     "execution_count": 10,
     "metadata": {},
     "output_type": "execute_result"
    }
   ],
   "source": [
    "reduced_x_data2 = ciga[['Age', 'HS', 'Black', 'Female', 'Price']]\n",
    "reduced_x_data2 = sm.add_constant(reduced_x_data2, has_constant=\"add\")\n",
    "reduced_model2 = sm.OLS(target, reduced_x_data2)\n",
    "fitted_reduced_model2 = reduced_model2.fit()\n",
    "fitted_reduced_model2.summary()"
   ]
  },
  {
   "cell_type": "markdown",
   "id": "c0f8984d",
   "metadata": {},
   "source": [
    "# Problem (e)"
   ]
  },
  {
   "cell_type": "markdown",
   "id": "082f30cb",
   "metadata": {},
   "source": [
    "## Fitting RM(include X1, X3, X6)"
   ]
  },
  {
   "cell_type": "code",
   "execution_count": 11,
   "id": "e1865478",
   "metadata": {},
   "outputs": [
    {
     "data": {
      "text/html": [
       "<table class=\"simpletable\">\n",
       "<caption>OLS Regression Results</caption>\n",
       "<tr>\n",
       "  <th>Dep. Variable:</th>          <td>Sales</td>      <th>  R-squared:         </th> <td>   0.303</td>\n",
       "</tr>\n",
       "<tr>\n",
       "  <th>Model:</th>                   <td>OLS</td>       <th>  Adj. R-squared:    </th> <td>   0.259</td>\n",
       "</tr>\n",
       "<tr>\n",
       "  <th>Method:</th>             <td>Least Squares</td>  <th>  F-statistic:       </th> <td>   6.818</td>\n",
       "</tr>\n",
       "<tr>\n",
       "  <th>Date:</th>             <td>Thu, 29 Apr 2021</td> <th>  Prob (F-statistic):</th> <td>0.000657</td>\n",
       "</tr>\n",
       "<tr>\n",
       "  <th>Time:</th>                 <td>16:28:13</td>     <th>  Log-Likelihood:    </th> <td> -239.51</td>\n",
       "</tr>\n",
       "<tr>\n",
       "  <th>No. Observations:</th>      <td>    51</td>      <th>  AIC:               </th> <td>   487.0</td>\n",
       "</tr>\n",
       "<tr>\n",
       "  <th>Df Residuals:</th>          <td>    47</td>      <th>  BIC:               </th> <td>   494.8</td>\n",
       "</tr>\n",
       "<tr>\n",
       "  <th>Df Model:</th>              <td>     3</td>      <th>                     </th>     <td> </td>   \n",
       "</tr>\n",
       "<tr>\n",
       "  <th>Covariance Type:</th>      <td>nonrobust</td>    <th>                     </th>     <td> </td>   \n",
       "</tr>\n",
       "</table>\n",
       "<table class=\"simpletable\">\n",
       "<tr>\n",
       "     <td></td>       <th>coef</th>     <th>std err</th>      <th>t</th>      <th>P>|t|</th>  <th>[0.025</th>    <th>0.975]</th>  \n",
       "</tr>\n",
       "<tr>\n",
       "  <th>const</th>  <td>   64.2482</td> <td>   61.933</td> <td>    1.037</td> <td> 0.305</td> <td>  -60.345</td> <td>  188.841</td>\n",
       "</tr>\n",
       "<tr>\n",
       "  <th>Age</th>    <td>    4.1559</td> <td>    2.199</td> <td>    1.890</td> <td> 0.065</td> <td>   -0.267</td> <td>    8.579</td>\n",
       "</tr>\n",
       "<tr>\n",
       "  <th>Income</th> <td>    0.0193</td> <td>    0.007</td> <td>    2.801</td> <td> 0.007</td> <td>    0.005</td> <td>    0.033</td>\n",
       "</tr>\n",
       "<tr>\n",
       "  <th>Price</th>  <td>   -3.3992</td> <td>    0.989</td> <td>   -3.436</td> <td> 0.001</td> <td>   -5.389</td> <td>   -1.409</td>\n",
       "</tr>\n",
       "</table>\n",
       "<table class=\"simpletable\">\n",
       "<tr>\n",
       "  <th>Omnibus:</th>       <td>49.463</td> <th>  Durbin-Watson:     </th> <td>   1.621</td>\n",
       "</tr>\n",
       "<tr>\n",
       "  <th>Prob(Omnibus):</th> <td> 0.000</td> <th>  Jarque-Bera (JB):  </th> <td> 247.745</td>\n",
       "</tr>\n",
       "<tr>\n",
       "  <th>Skew:</th>          <td> 2.504</td> <th>  Prob(JB):          </th> <td>1.60e-54</td>\n",
       "</tr>\n",
       "<tr>\n",
       "  <th>Kurtosis:</th>      <td>12.565</td> <th>  Cond. No.          </th> <td>6.11e+04</td>\n",
       "</tr>\n",
       "</table><br/><br/>Notes:<br/>[1] Standard Errors assume that the covariance matrix of the errors is correctly specified.<br/>[2] The condition number is large, 6.11e+04. This might indicate that there are<br/>strong multicollinearity or other numerical problems."
      ],
      "text/plain": [
       "<class 'statsmodels.iolib.summary.Summary'>\n",
       "\"\"\"\n",
       "                            OLS Regression Results                            \n",
       "==============================================================================\n",
       "Dep. Variable:                  Sales   R-squared:                       0.303\n",
       "Model:                            OLS   Adj. R-squared:                  0.259\n",
       "Method:                 Least Squares   F-statistic:                     6.818\n",
       "Date:                Thu, 29 Apr 2021   Prob (F-statistic):           0.000657\n",
       "Time:                        16:28:13   Log-Likelihood:                -239.51\n",
       "No. Observations:                  51   AIC:                             487.0\n",
       "Df Residuals:                      47   BIC:                             494.8\n",
       "Df Model:                           3                                         \n",
       "Covariance Type:            nonrobust                                         \n",
       "==============================================================================\n",
       "                 coef    std err          t      P>|t|      [0.025      0.975]\n",
       "------------------------------------------------------------------------------\n",
       "const         64.2482     61.933      1.037      0.305     -60.345     188.841\n",
       "Age            4.1559      2.199      1.890      0.065      -0.267       8.579\n",
       "Income         0.0193      0.007      2.801      0.007       0.005       0.033\n",
       "Price         -3.3992      0.989     -3.436      0.001      -5.389      -1.409\n",
       "==============================================================================\n",
       "Omnibus:                       49.463   Durbin-Watson:                   1.621\n",
       "Prob(Omnibus):                  0.000   Jarque-Bera (JB):              247.745\n",
       "Skew:                           2.504   Prob(JB):                     1.60e-54\n",
       "Kurtosis:                      12.565   Cond. No.                     6.11e+04\n",
       "==============================================================================\n",
       "\n",
       "Notes:\n",
       "[1] Standard Errors assume that the covariance matrix of the errors is correctly specified.\n",
       "[2] The condition number is large, 6.11e+04. This might indicate that there are\n",
       "strong multicollinearity or other numerical problems.\n",
       "\"\"\""
      ]
     },
     "execution_count": 11,
     "metadata": {},
     "output_type": "execute_result"
    }
   ],
   "source": [
    "reduced_x_data3 = ciga[['Age', 'Income', 'Price']]\n",
    "reduced_x_data3 = sm.add_constant(reduced_x_data3, has_constant=\"add\")\n",
    "reduced_model3 = sm.OLS(target, reduced_x_data3)\n",
    "fitted_reduced_model3 = reduced_model3.fit()\n",
    "fitted_reduced_model3.summary()"
   ]
  },
  {
   "cell_type": "markdown",
   "id": "27769477",
   "metadata": {},
   "source": [
    "# Problem (f)"
   ]
  },
  {
   "cell_type": "markdown",
   "id": "05462adb",
   "metadata": {},
   "source": [
    "## Fitting RM (include X3)"
   ]
  },
  {
   "cell_type": "code",
   "execution_count": 12,
   "id": "f7d4fbe3",
   "metadata": {},
   "outputs": [
    {
     "data": {
      "text/html": [
       "<table class=\"simpletable\">\n",
       "<caption>OLS Regression Results</caption>\n",
       "<tr>\n",
       "  <th>Dep. Variable:</th>          <td>Sales</td>      <th>  R-squared:         </th> <td>   0.106</td>\n",
       "</tr>\n",
       "<tr>\n",
       "  <th>Model:</th>                   <td>OLS</td>       <th>  Adj. R-squared:    </th> <td>   0.088</td>\n",
       "</tr>\n",
       "<tr>\n",
       "  <th>Method:</th>             <td>Least Squares</td>  <th>  F-statistic:       </th> <td>   5.829</td>\n",
       "</tr>\n",
       "<tr>\n",
       "  <th>Date:</th>             <td>Thu, 29 Apr 2021</td> <th>  Prob (F-statistic):</th>  <td>0.0195</td> \n",
       "</tr>\n",
       "<tr>\n",
       "  <th>Time:</th>                 <td>16:28:13</td>     <th>  Log-Likelihood:    </th> <td> -245.86</td>\n",
       "</tr>\n",
       "<tr>\n",
       "  <th>No. Observations:</th>      <td>    51</td>      <th>  AIC:               </th> <td>   495.7</td>\n",
       "</tr>\n",
       "<tr>\n",
       "  <th>Df Residuals:</th>          <td>    49</td>      <th>  BIC:               </th> <td>   499.6</td>\n",
       "</tr>\n",
       "<tr>\n",
       "  <th>Df Model:</th>              <td>     1</td>      <th>                     </th>     <td> </td>   \n",
       "</tr>\n",
       "<tr>\n",
       "  <th>Covariance Type:</th>      <td>nonrobust</td>    <th>                     </th>     <td> </td>   \n",
       "</tr>\n",
       "</table>\n",
       "<table class=\"simpletable\">\n",
       "<tr>\n",
       "     <td></td>       <th>coef</th>     <th>std err</th>      <th>t</th>      <th>P>|t|</th>  <th>[0.025</th>    <th>0.975]</th>  \n",
       "</tr>\n",
       "<tr>\n",
       "  <th>const</th>  <td>   55.3625</td> <td>   27.743</td> <td>    1.996</td> <td> 0.052</td> <td>   -0.389</td> <td>  111.114</td>\n",
       "</tr>\n",
       "<tr>\n",
       "  <th>Income</th> <td>    0.0176</td> <td>    0.007</td> <td>    2.414</td> <td> 0.020</td> <td>    0.003</td> <td>    0.032</td>\n",
       "</tr>\n",
       "</table>\n",
       "<table class=\"simpletable\">\n",
       "<tr>\n",
       "  <th>Omnibus:</th>       <td>47.570</td> <th>  Durbin-Watson:     </th> <td>   1.787</td>\n",
       "</tr>\n",
       "<tr>\n",
       "  <th>Prob(Omnibus):</th> <td> 0.000</td> <th>  Jarque-Bera (JB):  </th> <td> 216.600</td>\n",
       "</tr>\n",
       "<tr>\n",
       "  <th>Skew:</th>          <td> 2.434</td> <th>  Prob(JB):          </th> <td>9.25e-48</td>\n",
       "</tr>\n",
       "<tr>\n",
       "  <th>Kurtosis:</th>      <td>11.845</td> <th>  Cond. No.          </th> <td>2.46e+04</td>\n",
       "</tr>\n",
       "</table><br/><br/>Notes:<br/>[1] Standard Errors assume that the covariance matrix of the errors is correctly specified.<br/>[2] The condition number is large, 2.46e+04. This might indicate that there are<br/>strong multicollinearity or other numerical problems."
      ],
      "text/plain": [
       "<class 'statsmodels.iolib.summary.Summary'>\n",
       "\"\"\"\n",
       "                            OLS Regression Results                            \n",
       "==============================================================================\n",
       "Dep. Variable:                  Sales   R-squared:                       0.106\n",
       "Model:                            OLS   Adj. R-squared:                  0.088\n",
       "Method:                 Least Squares   F-statistic:                     5.829\n",
       "Date:                Thu, 29 Apr 2021   Prob (F-statistic):             0.0195\n",
       "Time:                        16:28:13   Log-Likelihood:                -245.86\n",
       "No. Observations:                  51   AIC:                             495.7\n",
       "Df Residuals:                      49   BIC:                             499.6\n",
       "Df Model:                           1                                         \n",
       "Covariance Type:            nonrobust                                         \n",
       "==============================================================================\n",
       "                 coef    std err          t      P>|t|      [0.025      0.975]\n",
       "------------------------------------------------------------------------------\n",
       "const         55.3625     27.743      1.996      0.052      -0.389     111.114\n",
       "Income         0.0176      0.007      2.414      0.020       0.003       0.032\n",
       "==============================================================================\n",
       "Omnibus:                       47.570   Durbin-Watson:                   1.787\n",
       "Prob(Omnibus):                  0.000   Jarque-Bera (JB):              216.600\n",
       "Skew:                           2.434   Prob(JB):                     9.25e-48\n",
       "Kurtosis:                      11.845   Cond. No.                     2.46e+04\n",
       "==============================================================================\n",
       "\n",
       "Notes:\n",
       "[1] Standard Errors assume that the covariance matrix of the errors is correctly specified.\n",
       "[2] The condition number is large, 2.46e+04. This might indicate that there are\n",
       "strong multicollinearity or other numerical problems.\n",
       "\"\"\""
      ]
     },
     "execution_count": 12,
     "metadata": {},
     "output_type": "execute_result"
    }
   ],
   "source": [
    "reduced_x_data4 = ciga[['Income']]\n",
    "reduced_x_data4 = sm.add_constant(reduced_x_data4, has_constant=\"add\")\n",
    "reduced_model4 = sm.OLS(target, reduced_x_data4)\n",
    "fitted_reduced_model4 = reduced_model4.fit()\n",
    "fitted_reduced_model4.summary()"
   ]
  },
  {
   "cell_type": "code",
   "execution_count": null,
   "id": "c64042ca",
   "metadata": {},
   "outputs": [],
   "source": []
  }
 ],
 "metadata": {
  "hide_input": false,
  "kernelspec": {
   "display_name": "Python 3",
   "language": "python",
   "name": "python3"
  },
  "language_info": {
   "codemirror_mode": {
    "name": "ipython",
    "version": 3
   },
   "file_extension": ".py",
   "mimetype": "text/x-python",
   "name": "python",
   "nbconvert_exporter": "python",
   "pygments_lexer": "ipython3",
   "version": "3.8.5"
  },
  "toc": {
   "base_numbering": 1,
   "nav_menu": {},
   "number_sections": true,
   "sideBar": true,
   "skip_h1_title": false,
   "title_cell": "Table of Contents",
   "title_sidebar": "Contents",
   "toc_cell": false,
   "toc_position": {
    "height": "calc(100% - 180px)",
    "left": "10px",
    "top": "150px",
    "width": "279.273px"
   },
   "toc_section_display": true,
   "toc_window_display": true
  }
 },
 "nbformat": 4,
 "nbformat_minor": 5
}
