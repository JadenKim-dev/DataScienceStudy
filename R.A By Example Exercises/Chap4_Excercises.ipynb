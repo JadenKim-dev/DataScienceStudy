{
 "cells": [
  {
   "cell_type": "code",
   "execution_count": 23,
   "id": "78625207",
   "metadata": {},
   "outputs": [],
   "source": [
    "import pandas as pd\n",
    "import seaborn as sns\n",
    "import statsmodels.api as sm\n",
    "import matplotlib.pyplot as plt\n",
    "import numpy as np"
   ]
  },
  {
   "cell_type": "code",
   "execution_count": 2,
   "id": "57379056",
   "metadata": {},
   "outputs": [],
   "source": [
    "df = pd.DataFrame({\"Y\" : [1, 2, 3, 4, 5, 6, 7, 8, 9, 10], \n",
    "                   \"X1\" : [2, 4, 6, 8, 10, 11, 14, 16, 17, 20], \n",
    "                   \"X2\" : [3, 6, 9, 11, 15, 18, 21, 25, 27, 30]})"
   ]
  },
  {
   "cell_type": "code",
   "execution_count": 3,
   "id": "2f2f366f",
   "metadata": {},
   "outputs": [
    {
     "data": {
      "text/plain": [
       "Text(0, 0.5, 'Y')"
      ]
     },
     "execution_count": 3,
     "metadata": {},
     "output_type": "execute_result"
    },
    {
     "data": {
      "image/png": "[encoded data removed]",
      "text/plain": [
       "<Figure size 720x288 with 2 Axes>"
      ]
     },
     "metadata": {
      "needs_background": "light"
     },
     "output_type": "display_data"
    }
   ],
   "source": [
    "plt.figure(figsize=(10,4))\n",
    "plt.subplot(1, 2, 1)\n",
    "plt.scatter(data=df, x=\"X1\", y=\"Y\")\n",
    "plt.xlabel(\"X1\")\n",
    "plt.ylabel(\"Y\")\n",
    "plt.subplot(1, 2, 2)\n",
    "plt.scatter(data=df, x=\"X2\", y=\"Y\")\n",
    "plt.xlabel(\"X2\")\n",
    "plt.ylabel(\"Y\")"
   ]
  },
  {
   "cell_type": "code",
   "execution_count": 4,
   "id": "3097bd2c",
   "metadata": {},
   "outputs": [
    {
     "data": {
      "text/html": [
       "<div>\n",
       "<style scoped>\n",
       "    .dataframe tbody tr th:only-of-type {\n",
       "        vertical-align: middle;\n",
       "    }\n",
       "\n",
       "    .dataframe tbody tr th {\n",
       "        vertical-align: top;\n",
       "    }\n",
       "\n",
       "    .dataframe thead th {\n",
       "        text-align: right;\n",
       "    }\n",
       "</style>\n",
       "<table border=\"1\" class=\"dataframe\">\n",
       "  <thead>\n",
       "    <tr style=\"text-align: right;\">\n",
       "      <th></th>\n",
       "      <th>X1</th>\n",
       "      <th>X2</th>\n",
       "      <th>X3</th>\n",
       "    </tr>\n",
       "  </thead>\n",
       "  <tbody>\n",
       "    <tr>\n",
       "      <th>X1</th>\n",
       "      <td>1.00</td>\n",
       "      <td>-0.06</td>\n",
       "      <td>-0.01</td>\n",
       "    </tr>\n",
       "    <tr>\n",
       "      <th>X2</th>\n",
       "      <td>-0.06</td>\n",
       "      <td>1.00</td>\n",
       "      <td>-0.04</td>\n",
       "    </tr>\n",
       "    <tr>\n",
       "      <th>X3</th>\n",
       "      <td>-0.01</td>\n",
       "      <td>-0.04</td>\n",
       "      <td>1.00</td>\n",
       "    </tr>\n",
       "  </tbody>\n",
       "</table>\n",
       "</div>"
      ],
      "text/plain": [
       "      X1    X2    X3\n",
       "X1  1.00 -0.06 -0.01\n",
       "X2 -0.06  1.00 -0.04\n",
       "X3 -0.01 -0.04  1.00"
      ]
     },
     "execution_count": 4,
     "metadata": {},
     "output_type": "execute_result"
    }
   ],
   "source": [
    "df2 = pd.DataFrame({\"X1\" : [1, 2, 3, 4, 5, 5, 7, 9, 9, 10], \n",
    "                   \"X2\" : [3, 2, 4, 9, 5, 9, 8, 2, 4, 3],\n",
    "                   \"X3\" : [4, 8, 2, 2, 5, 6, 6, 4, 9, 1]})\n",
    "corr = round(df2.corr(), 2)\n",
    "corr"
   ]
  },
  {
   "cell_type": "code",
   "execution_count": 5,
   "id": "967f3f64",
   "metadata": {},
   "outputs": [
    {
     "data": {
      "text/plain": [
       "Text(0.5, 0.5, 'X3')"
      ]
     },
     "execution_count": 5,
     "metadata": {},
     "output_type": "execute_result"
    },
    {
     "data": {
      "image/png": "[encoded data removed]",
      "text/plain": [
       "<Figure size 720x720 with 9 Axes>"
      ]
     },
     "metadata": {
      "needs_background": "light"
     },
     "output_type": "display_data"
    }
   ],
   "source": [
    "plt.figure(figsize=(10,10))\n",
    "\n",
    "plt.subplot(3, 3, 1)\n",
    "plt.axis(\"off\")\n",
    "plt.text(x = 0.5, y=.5, s=\"X1\", fontsize=15)\n",
    "\n",
    "plt.subplot(3, 3, 2)\n",
    "plt.scatter(data=df2, x=\"X2\", y=\"X1\")\n",
    "plt.xlabel(\"X2\")\n",
    "plt.ylabel(\"X1\")\n",
    "\n",
    "plt.subplot(3, 3, 3)\n",
    "plt.scatter(data=df2, x=\"X3\", y=\"X1\")\n",
    "plt.xlabel(\"X3\")\n",
    "plt.ylabel(\"X1\")\n",
    "\n",
    "plt.subplot(3, 3, 4)\n",
    "ax = plt.gca()\n",
    "ax.axes.xaxis.set_visible(False)\n",
    "ax.axes.yaxis.set_visible(False)\n",
    "plt.text(x = 0.4, y=.5, s=corr.iloc[0, 1], fontsize=13)\n",
    "\n",
    "plt.subplot(3, 3, 5)\n",
    "plt.axis(\"off\")\n",
    "plt.text(x = 0.5, y=.5, s=\"X2\", fontsize=15)\n",
    "\n",
    "plt.subplot(3, 3, 6)\n",
    "plt.scatter(data=df2, x=\"X3\", y=\"X2\")\n",
    "plt.xlabel(\"X3\")\n",
    "plt.ylabel(\"X2\")\n",
    "\n",
    "plt.subplot(3, 3, 7)\n",
    "ax = plt.gca()\n",
    "ax.axes.xaxis.set_visible(False)\n",
    "ax.axes.yaxis.set_visible(False)\n",
    "plt.text(x = 0.4, y=.5, s=corr.iloc[0, 2], fontsize=13)\n",
    "\n",
    "plt.subplot(3, 3, 8)\n",
    "ax = plt.gca()\n",
    "ax.axes.xaxis.set_visible(False)\n",
    "ax.axes.yaxis.set_visible(False)\n",
    "plt.text(x = 0.4, y=.5, s=corr.iloc[1, 2], fontsize=13)\n",
    "\n",
    "plt.subplot(3, 3, 9)\n",
    "plt.axis(\"off\")\n",
    "plt.text(x = 0.5, y=.5, s=\"X3\", fontsize=15)"
   ]
  },
  {
   "cell_type": "code",
   "execution_count": 53,
   "id": "0796c04a",
   "metadata": {},
   "outputs": [],
   "source": [
    "np.random.seed(3)\n",
    "x = np.random.rand(200)\n",
    "y = x + 0.2 * np.random.randn(200)"
   ]
  },
  {
   "cell_type": "code",
   "execution_count": 54,
   "id": "26e261e3",
   "metadata": {},
   "outputs": [
    {
     "data": {
      "text/html": [
       "<table class=\"simpletable\">\n",
       "<caption>OLS Regression Results</caption>\n",
       "<tr>\n",
       "  <th>Dep. Variable:</th>            <td>y</td>        <th>  R-squared:         </th> <td>   0.638</td>\n",
       "</tr>\n",
       "<tr>\n",
       "  <th>Model:</th>                   <td>OLS</td>       <th>  Adj. R-squared:    </th> <td>   0.637</td>\n",
       "</tr>\n",
       "<tr>\n",
       "  <th>Method:</th>             <td>Least Squares</td>  <th>  F-statistic:       </th> <td>   349.5</td>\n",
       "</tr>\n",
       "<tr>\n",
       "  <th>Date:</th>             <td>Tue, 25 May 2021</td> <th>  Prob (F-statistic):</th> <td>1.30e-45</td>\n",
       "</tr>\n",
       "<tr>\n",
       "  <th>Time:</th>                 <td>14:46:33</td>     <th>  Log-Likelihood:    </th> <td>  70.382</td>\n",
       "</tr>\n",
       "<tr>\n",
       "  <th>No. Observations:</th>      <td>   200</td>      <th>  AIC:               </th> <td>  -136.8</td>\n",
       "</tr>\n",
       "<tr>\n",
       "  <th>Df Residuals:</th>          <td>   198</td>      <th>  BIC:               </th> <td>  -130.2</td>\n",
       "</tr>\n",
       "<tr>\n",
       "  <th>Df Model:</th>              <td>     1</td>      <th>                     </th>     <td> </td>   \n",
       "</tr>\n",
       "<tr>\n",
       "  <th>Covariance Type:</th>      <td>nonrobust</td>    <th>                     </th>     <td> </td>   \n",
       "</tr>\n",
       "</table>\n",
       "<table class=\"simpletable\">\n",
       "<tr>\n",
       "    <td></td>       <th>coef</th>     <th>std err</th>      <th>t</th>      <th>P>|t|</th>  <th>[0.025</th>    <th>0.975]</th>  \n",
       "</tr>\n",
       "<tr>\n",
       "  <th>const</th> <td>    0.1829</td> <td>    0.021</td> <td>    8.819</td> <td> 0.000</td> <td>    0.142</td> <td>    0.224</td>\n",
       "</tr>\n",
       "<tr>\n",
       "  <th>x1</th>    <td>    0.6184</td> <td>    0.033</td> <td>   18.696</td> <td> 0.000</td> <td>    0.553</td> <td>    0.684</td>\n",
       "</tr>\n",
       "</table>\n",
       "<table class=\"simpletable\">\n",
       "<tr>\n",
       "  <th>Omnibus:</th>       <td> 3.010</td> <th>  Durbin-Watson:     </th> <td>   1.859</td>\n",
       "</tr>\n",
       "<tr>\n",
       "  <th>Prob(Omnibus):</th> <td> 0.222</td> <th>  Jarque-Bera (JB):  </th> <td>   2.117</td>\n",
       "</tr>\n",
       "<tr>\n",
       "  <th>Skew:</th>          <td>-0.039</td> <th>  Prob(JB):          </th> <td>   0.347</td>\n",
       "</tr>\n",
       "<tr>\n",
       "  <th>Kurtosis:</th>      <td> 2.502</td> <th>  Cond. No.          </th> <td>    3.53</td>\n",
       "</tr>\n",
       "</table><br/><br/>Notes:<br/>[1] Standard Errors assume that the covariance matrix of the errors is correctly specified."
      ],
      "text/plain": [
       "<class 'statsmodels.iolib.summary.Summary'>\n",
       "\"\"\"\n",
       "                            OLS Regression Results                            \n",
       "==============================================================================\n",
       "Dep. Variable:                      y   R-squared:                       0.638\n",
       "Model:                            OLS   Adj. R-squared:                  0.637\n",
       "Method:                 Least Squares   F-statistic:                     349.5\n",
       "Date:                Tue, 25 May 2021   Prob (F-statistic):           1.30e-45\n",
       "Time:                        14:46:33   Log-Likelihood:                 70.382\n",
       "No. Observations:                 200   AIC:                            -136.8\n",
       "Df Residuals:                     198   BIC:                            -130.2\n",
       "Df Model:                           1                                         \n",
       "Covariance Type:            nonrobust                                         \n",
       "==============================================================================\n",
       "                 coef    std err          t      P>|t|      [0.025      0.975]\n",
       "------------------------------------------------------------------------------\n",
       "const          0.1829      0.021      8.819      0.000       0.142       0.224\n",
       "x1             0.6184      0.033     18.696      0.000       0.553       0.684\n",
       "==============================================================================\n",
       "Omnibus:                        3.010   Durbin-Watson:                   1.859\n",
       "Prob(Omnibus):                  0.222   Jarque-Bera (JB):                2.117\n",
       "Skew:                          -0.039   Prob(JB):                        0.347\n",
       "Kurtosis:                       2.502   Cond. No.                         3.53\n",
       "==============================================================================\n",
       "\n",
       "Notes:\n",
       "[1] Standard Errors assume that the covariance matrix of the errors is correctly specified.\n",
       "\"\"\""
      ]
     },
     "execution_count": 54,
     "metadata": {},
     "output_type": "execute_result"
    }
   ],
   "source": [
    "\n",
    "\n",
    "target = x\n",
    "x_data1 = y\n",
    "x_data1_1 = sm.add_constant(x_data1, has_constant=\"add\")\n",
    "model1 = sm.OLS(target, x_data1_1)\n",
    "fitted_model1 = model1.fit()\n",
    "fitted_model1.summary()"
   ]
  },
  {
   "cell_type": "code",
   "execution_count": 55,
   "id": "bb38f814",
   "metadata": {},
   "outputs": [],
   "source": [
    "# create instance of influence\n",
    "influence = fitted_model1.get_influence()\n",
    "\n",
    "# obtain standardized residuals\n",
    "standardized_residuals = influence.resid_studentized_internal\n",
    "\n",
    "# DataFrame에 표준화 잔차 담기\n",
    "resid = pd.DataFrame({'res' : standardized_residuals})\n",
    "resid['idx'] = pd.DataFrame({i for i in range(0, len(standardized_residuals))})\n",
    "resid['fitted'] = fitted_model1.predict(x_data1_1)"
   ]
  },
  {
   "cell_type": "code",
   "execution_count": 56,
   "id": "60b9a5f9",
   "metadata": {},
   "outputs": [
    {
     "data": {
      "image/png": "[encoded data removed]",
      "text/plain": [
       "<Figure size 432x288 with 1 Axes>"
      ]
     },
     "metadata": {
      "needs_background": "light"
     },
     "output_type": "display_data"
    }
   ],
   "source": [
    "fig = sm.qqplot(resid['res'], fit=True, line='45')"
   ]
  },
  {
   "cell_type": "code",
   "execution_count": 57,
   "id": "fff4ec8c",
   "metadata": {},
   "outputs": [
    {
     "data": {
      "image/png": "[encoded data removed]",
      "text/plain": [
       "<Figure size 576x432 with 1 Axes>"
      ]
     },
     "metadata": {
      "needs_background": "light"
     },
     "output_type": "display_data"
    }
   ],
   "source": [
    "plt.figure(figsize=(8, 6))\n",
    "plt.scatter(x = resid['fitted'], y=resid['res'], s=10)\n",
    "plt.xlabel('fitted value')\n",
    "plt.ylabel('residual')\n",
    "plt.show()"
   ]
  },
  {
   "cell_type": "code",
   "execution_count": 58,
   "id": "ca707b9a",
   "metadata": {},
   "outputs": [
    {
     "data": {
      "image/png": "[encoded data removed]",
      "text/plain": [
       "<Figure size 432x432 with 1 Axes>"
      ]
     },
     "metadata": {
      "needs_background": "light"
     },
     "output_type": "display_data"
    }
   ],
   "source": [
    "fig = plt.figure(figsize=(6,6))\n",
    "idx = range(1,201)\n",
    "cdis = influence.cooks_distance[0]\n",
    "dfits = influence.dffits[0]\n",
    "influential = pd.DataFrame({\"Cook's Distance\" : cdis, \"DFITS\" : dfits})\n",
    "influential.describe()\n",
    "plt.scatter(idx, influential[\"Cook's Distance\"], s=10)\n",
    "plt.xlabel('obs number')\n",
    "plt.ylabel(\"Cook's Distance\")\n",
    "plt.show()"
   ]
  },
  {
   "cell_type": "code",
   "execution_count": null,
   "id": "9fe04a61",
   "metadata": {},
   "outputs": [],
   "source": []
  }
 ],
 "metadata": {
  "hide_input": false,
  "kernelspec": {
   "display_name": "Python 3",
   "language": "python",
   "name": "python3"
  },
  "language_info": {
   "codemirror_mode": {
    "name": "ipython",
    "version": 3
   },
   "file_extension": ".py",
   "mimetype": "text/x-python",
   "name": "python",
   "nbconvert_exporter": "python",
   "pygments_lexer": "ipython3",
   "version": "3.8.8"
  },
  "toc": {
   "base_numbering": 1,
   "nav_menu": {},
   "number_sections": true,
   "sideBar": true,
   "skip_h1_title": false,
   "title_cell": "Table of Contents",
   "title_sidebar": "Contents",
   "toc_cell": false,
   "toc_position": {},
   "toc_section_display": true,
   "toc_window_display": false
  }
 },
 "nbformat": 4,
 "nbformat_minor": 5
}
