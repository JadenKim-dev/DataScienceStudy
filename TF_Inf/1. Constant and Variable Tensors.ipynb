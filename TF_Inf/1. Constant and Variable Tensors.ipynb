{
 "cells": [
  {
   "cell_type": "markdown",
   "metadata": {
    "id": "5p6CVTwM6XG5"
   },
   "source": [
    "## 1. tf.Variable vs tf.Constant"
   ]
  },
  {
   "cell_type": "code",
   "execution_count": 1,
   "metadata": {
    "executionInfo": {
     "elapsed": 2479,
     "status": "ok",
     "timestamp": 1626851300889,
     "user": {
      "displayName": "Jaden Kim",
      "photoUrl": "",
      "userId": "09662524910443038926"
     },
     "user_tz": -540
    },
    "id": "JZC9tlpVud5G"
   },
   "outputs": [],
   "source": [
    "import tensorflow as tf"
   ]
  },
  {
   "cell_type": "markdown",
   "metadata": {
    "id": "iUJEykEBu0f4"
   },
   "source": [
    "tensorflow의 구성요소 : datasets -> model(weight, bias) -> loss  \n",
    "&nbsp;&nbsp;&nbsp;&nbsp;&nbsp;&nbsp;&nbsp;&nbsp;&nbsp;&nbsp;&nbsp;&nbsp;&nbsp;&nbsp;&nbsp;&nbsp;&nbsp;&nbsp;&nbsp;&nbsp;&nbsp;&nbsp;&nbsp;&nbsp;&nbsp;&nbsp;&nbsp;&nbsp;&nbsp;&nbsp;&nbsp;&nbsp;&nbsp;&nbsp;&nbsp;&nbsp;&nbsp;<-  optimizer  <-\n",
    "\n",
    "=> datasets는 수정이 불가능하게, immutable하게 생성되는게 맞고  \n",
    "&nbsp;&nbsp;&nbsp;model의 weight와 bias는 수정 가능하게, mutable하게 생성되어야 한다  \n",
    "=> 따라서 2가지 종류의 텐서가 필요하다!"
   ]
  },
  {
   "cell_type": "code",
   "execution_count": 2,
   "metadata": {
    "colab": {
     "base_uri": "https://localhost:8080/"
    },
    "executionInfo": {
     "elapsed": 110,
     "status": "ok",
     "timestamp": 1626851300896,
     "user": {
      "displayName": "Jaden Kim",
      "photoUrl": "",
      "userId": "09662524910443038926"
     },
     "user_tz": -540
    },
    "id": "tCkl9IcYu0kW",
    "outputId": "fcc0d509-1333-43ea-a832-16f89aecf52c"
   },
   "outputs": [
    {
     "name": "stdout",
     "output_type": "stream",
     "text": [
      "<tf.Variable 'Variable:0' shape=(3,) dtype=int32, numpy=array([1, 2, 3], dtype=int32)>\n",
      "tf.Tensor([1 2 3], shape=(3,), dtype=int32)\n"
     ]
    }
   ],
   "source": [
    "t1 = tf.Variable([1, 2, 3])\n",
    "t2 = tf.constant([1, 2, 3])\n",
    "print(t1)\n",
    "print(t2)"
   ]
  },
  {
   "cell_type": "code",
   "execution_count": 3,
   "metadata": {
    "colab": {
     "base_uri": "https://localhost:8080/"
    },
    "executionInfo": {
     "elapsed": 90,
     "status": "ok",
     "timestamp": 1626851300898,
     "user": {
      "displayName": "Jaden Kim",
      "photoUrl": "",
      "userId": "09662524910443038926"
     },
     "user_tz": -540
    },
    "id": "lzt68_g5u0oB",
    "outputId": "b3a86cf8-e5d3-4f4a-dd8b-afc7aaec17c4"
   },
   "outputs": [
    {
     "name": "stdout",
     "output_type": "stream",
     "text": [
      "<class 'tensorflow.python.ops.resource_variable_ops.ResourceVariable'>\n",
      "<class 'tensorflow.python.framework.ops.EagerTensor'>\n"
     ]
    }
   ],
   "source": [
    "print(type(t1))\n",
    "print(type(t2))"
   ]
  },
  {
   "cell_type": "markdown",
   "metadata": {
    "id": "ClRQ42PZu0rc"
   },
   "source": [
    "Tensorflow안에서 흐르는 객체들은 tf에서 정의한 Tensor로 되어있는데,  \n",
    "이는 tf.Variable과 tf.constant로 구분된다"
   ]
  },
  {
   "cell_type": "markdown",
   "metadata": {
    "id": "EnRdI4Uw6b12"
   },
   "source": [
    "## 2. Tensor의 변환"
   ]
  },
  {
   "cell_type": "markdown",
   "metadata": {
    "id": "nbbYOxdMu0u8"
   },
   "source": [
    "가장 많이 쓰이는 자료형 : python의 list,  numpy의 ndarray  \n",
    "=> 둘다 모두 tf.tensor로 바꿀 수 있다!"
   ]
  },
  {
   "cell_type": "code",
   "execution_count": 6,
   "metadata": {
    "colab": {
     "base_uri": "https://localhost:8080/"
    },
    "executionInfo": {
     "elapsed": 308,
     "status": "ok",
     "timestamp": 1626851724307,
     "user": {
      "displayName": "Jaden Kim",
      "photoUrl": "",
      "userId": "09662524910443038926"
     },
     "user_tz": -540
    },
    "id": "boDz7N_Ju0yc",
    "outputId": "219b1825-95e1-4b5a-c479-d757389c8976"
   },
   "outputs": [
    {
     "name": "stdout",
     "output_type": "stream",
     "text": [
      "tf.Tensor([1 2 3], shape=(3,), dtype=int32)\n",
      "tf.Tensor([1 2 3], shape=(3,), dtype=int64)\n",
      "<class 'tensorflow.python.framework.ops.EagerTensor'>\n",
      "<class 'tensorflow.python.framework.ops.EagerTensor'>\n"
     ]
    }
   ],
   "source": [
    "import numpy as np\n",
    "\n",
    "test_list = [1, 2, 3]\n",
    "test_np = np.array([1, 2, 3])\n",
    "\n",
    "t1 = tf.constant(test_list)\n",
    "t2 = tf.constant(test_np)\n",
    "\n",
    "print(t1)\n",
    "print(t2)\n",
    "\n",
    "print(type(t1))\n",
    "print(type(t2))"
   ]
  },
  {
   "cell_type": "code",
   "execution_count": 7,
   "metadata": {
    "colab": {
     "base_uri": "https://localhost:8080/"
    },
    "executionInfo": {
     "elapsed": 313,
     "status": "ok",
     "timestamp": 1626851755125,
     "user": {
      "displayName": "Jaden Kim",
      "photoUrl": "",
      "userId": "09662524910443038926"
     },
     "user_tz": -540
    },
    "id": "CRUPsRl9u02P",
    "outputId": "fabea119-577f-425a-b238-fc860cb9c0b5"
   },
   "outputs": [
    {
     "name": "stdout",
     "output_type": "stream",
     "text": [
      "<tf.Variable 'Variable:0' shape=(3,) dtype=int32, numpy=array([1, 2, 3], dtype=int32)>\n",
      "<tf.Variable 'Variable:0' shape=(3,) dtype=int64, numpy=array([1, 2, 3])>\n",
      "<class 'tensorflow.python.ops.resource_variable_ops.ResourceVariable'>\n",
      "<class 'tensorflow.python.ops.resource_variable_ops.ResourceVariable'>\n"
     ]
    }
   ],
   "source": [
    "test_list = [1, 2, 3]\n",
    "test_np = np.array([1, 2, 3])\n",
    "\n",
    "t1 = tf.Variable(test_list)\n",
    "t2 = tf.Variable(test_np)\n",
    "\n",
    "print(t1)\n",
    "print(t2)\n",
    "\n",
    "print(type(t1))\n",
    "print(type(t2))"
   ]
  },
  {
   "cell_type": "code",
   "execution_count": 8,
   "metadata": {
    "executionInfo": {
     "elapsed": 261,
     "status": "ok",
     "timestamp": 1626851847740,
     "user": {
      "displayName": "Jaden Kim",
      "photoUrl": "",
      "userId": "09662524910443038926"
     },
     "user_tz": -540
    },
    "id": "Bbg8xFiDu05f"
   },
   "outputs": [],
   "source": [
    "t1 = tf.constant(test_list)\n",
    "t2 = tf.Variable(test_list)\n",
    "\n",
    "# t3 = tf.constant(t2)  => 에러 발생 \n",
    "t4 = tf.Variable(t1)\n",
    "# Variable->constant로의 변환은 불가능, constant->Variable 변환은 가능"
   ]
  },
  {
   "cell_type": "code",
   "execution_count": 13,
   "metadata": {
    "colab": {
     "base_uri": "https://localhost:8080/"
    },
    "executionInfo": {
     "elapsed": 335,
     "status": "ok",
     "timestamp": 1626852049552,
     "user": {
      "displayName": "Jaden Kim",
      "photoUrl": "",
      "userId": "09662524910443038926"
     },
     "user_tz": -540
    },
    "id": "Nv28VJw6u1AU",
    "outputId": "fd458ab7-460b-4c52-b059-0d45b0ffaf70"
   },
   "outputs": [
    {
     "name": "stdout",
     "output_type": "stream",
     "text": [
      "type(t1):  <class 'tensorflow.python.framework.ops.EagerTensor'>\n",
      "type(t2):  <class 'tensorflow.python.framework.ops.EagerTensor'>\n",
      "type(t3):  <class 'tensorflow.python.ops.resource_variable_ops.ResourceVariable'>\n",
      "type(t4):  <class 'tensorflow.python.framework.ops.EagerTensor'>\n"
     ]
    }
   ],
   "source": [
    "t1 = tf.convert_to_tensor(test_list)\n",
    "t2 = tf.convert_to_tensor(test_np)\n",
    "\n",
    "print(\"type(t1): \", type(t1))\n",
    "print(\"type(t2): \", type(t2))\n",
    "\n",
    "t3 = tf.Variable(test_list)\n",
    "t4 = tf.convert_to_tensor(t3)   # 이렇게 하면 Variable -> Constant로의 변환이 가능!\n",
    "\n",
    "print(\"type(t3): \", type(t3))\n",
    "print(\"type(t4): \", type(t4))"
   ]
  },
  {
   "cell_type": "markdown",
   "metadata": {
    "id": "C3AZ7VuNu1Di"
   },
   "source": [
    "=> convert_to_tensor는 기본적으로 EagerTensor, 즉 constant Tensor로 변환시키고,  \n",
    "=> convert_to_tensor를 이용하면 variable Tensor를 constant Tensor로 변환시키는 것도 가능하다"
   ]
  },
  {
   "cell_type": "markdown",
   "metadata": {
    "id": "UMecIrtGK-aQ"
   },
   "source": [
    "## 3. Tensor의 연산"
   ]
  },
  {
   "cell_type": "code",
   "execution_count": 14,
   "metadata": {
    "colab": {
     "base_uri": "https://localhost:8080/"
    },
    "executionInfo": {
     "elapsed": 283,
     "status": "ok",
     "timestamp": 1626855745450,
     "user": {
      "displayName": "Jaden Kim",
      "photoUrl": "",
      "userId": "09662524910443038926"
     },
     "user_tz": -540
    },
    "id": "bFE_t4WQu1Hc",
    "outputId": "06cbae1e-c5c6-4923-db2e-8677cfa275c4"
   },
   "outputs": [
    {
     "name": "stdout",
     "output_type": "stream",
     "text": [
      "<class 'tensorflow.python.framework.ops.EagerTensor'>\n"
     ]
    }
   ],
   "source": [
    "test_list1 = [10, 20, 30]\n",
    "test_list2 = [1, 2, 3]\n",
    "\n",
    "t1 = tf.constant(test_list1)\n",
    "t2 = tf.constant(test_list2)\n",
    "\n",
    "t3 = t1 + t2\n",
    "print(type(t3))"
   ]
  },
  {
   "cell_type": "code",
   "execution_count": 15,
   "metadata": {
    "colab": {
     "base_uri": "https://localhost:8080/"
    },
    "executionInfo": {
     "elapsed": 250,
     "status": "ok",
     "timestamp": 1626855763654,
     "user": {
      "displayName": "Jaden Kim",
      "photoUrl": "",
      "userId": "09662524910443038926"
     },
     "user_tz": -540
    },
    "id": "qdHYrN_2u1Kv",
    "outputId": "7b35e3d7-4a90-4aa1-c1ca-22d17c33e28a"
   },
   "outputs": [
    {
     "name": "stdout",
     "output_type": "stream",
     "text": [
      "<class 'tensorflow.python.framework.ops.EagerTensor'>\n"
     ]
    }
   ],
   "source": [
    "t1 = tf.constant(test_list1)\n",
    "t2 = tf.Variable(test_list2)\n",
    "\n",
    "t3 = t1 + t2\n",
    "print(type(t3))"
   ]
  },
  {
   "cell_type": "code",
   "execution_count": 16,
   "metadata": {
    "colab": {
     "base_uri": "https://localhost:8080/"
    },
    "executionInfo": {
     "elapsed": 268,
     "status": "ok",
     "timestamp": 1626855822600,
     "user": {
      "displayName": "Jaden Kim",
      "photoUrl": "",
      "userId": "09662524910443038926"
     },
     "user_tz": -540
    },
    "id": "1JJjsvRzu1OJ",
    "outputId": "35a06046-115c-41a7-df32-ef62a1634163"
   },
   "outputs": [
    {
     "name": "stdout",
     "output_type": "stream",
     "text": [
      "<class 'tensorflow.python.framework.ops.EagerTensor'>\n"
     ]
    }
   ],
   "source": [
    "t1 = tf.constant(test_list1)\n",
    "t2 = tf.Variable(test_list2)\n",
    "\n",
    "t3 = t1 + t2\n",
    "print(type(t3))"
   ]
  },
  {
   "cell_type": "code",
   "execution_count": 17,
   "metadata": {
    "colab": {
     "base_uri": "https://localhost:8080/"
    },
    "executionInfo": {
     "elapsed": 302,
     "status": "ok",
     "timestamp": 1626855828003,
     "user": {
      "displayName": "Jaden Kim",
      "photoUrl": "",
      "userId": "09662524910443038926"
     },
     "user_tz": -540
    },
    "id": "ZAHObm0iu1Rm",
    "outputId": "b0697251-68f0-4c7f-ec9a-1fb2f5ffa496"
   },
   "outputs": [
    {
     "name": "stdout",
     "output_type": "stream",
     "text": [
      "<class 'tensorflow.python.framework.ops.EagerTensor'>\n"
     ]
    }
   ],
   "source": [
    "t1 = tf.Variable(test_list1)\n",
    "t2 = tf.Variable(test_list2)\n",
    "\n",
    "t3 = t1 + t2\n",
    "print(type(t3))"
   ]
  },
  {
   "cell_type": "markdown",
   "metadata": {
    "id": "iXV4YCI9u1UG"
   },
   "source": [
    "=> (constant, constant), (constant, Variable), (Variable, Variable)에서  \n",
    "&nbsp;&nbsp;&nbsp;연산 결과는 모두 EagerTensor이다."
   ]
  }
 ],
 "metadata": {
  "colab": {
   "authorship_tag": "ABX9TyPftGB6YSF8903b7Ga2zNgt",
   "collapsed_sections": [],
   "name": "1. Constant and Variable Tensors.ipynb",
   "provenance": []
  },
  "hide_input": false,
  "kernelspec": {
   "display_name": "Python 3",
   "language": "python",
   "name": "python3"
  },
  "language_info": {
   "codemirror_mode": {
    "name": "ipython",
    "version": 3
   },
   "file_extension": ".py",
   "mimetype": "text/x-python",
   "name": "python",
   "nbconvert_exporter": "python",
   "pygments_lexer": "ipython3",
   "version": "3.8.8"
  },
  "toc": {
   "base_numbering": 1,
   "nav_menu": {},
   "number_sections": true,
   "sideBar": true,
   "skip_h1_title": false,
   "title_cell": "Table of Contents",
   "title_sidebar": "Contents",
   "toc_cell": false,
   "toc_position": {},
   "toc_section_display": true,
   "toc_window_display": false
  }
 },
 "nbformat": 4,
 "nbformat_minor": 1
}
