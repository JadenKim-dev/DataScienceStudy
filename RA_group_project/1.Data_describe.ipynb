{
 "cells": [
  {
   "cell_type": "markdown",
   "id": "1880a22f",
   "metadata": {},
   "source": [
    "# 라이브러리 로드하기/데이터 불러오기"
   ]
  },
  {
   "cell_type": "code",
   "execution_count": 1,
   "id": "78304239",
   "metadata": {},
   "outputs": [],
   "source": [
    "import pandas as pd"
   ]
  },
  {
   "cell_type": "code",
   "execution_count": 2,
   "id": "1250db7f",
   "metadata": {},
   "outputs": [
    {
     "name": "stderr",
     "output_type": "stream",
     "text": [
      "D:\\JadenKim\\anaconda3\\lib\\site-packages\\IPython\\core\\interactiveshell.py:3165: DtypeWarning: Columns (77,86,88,92,93,94,109,133,138,139,140,175,186,199,213,215,216,248,257,280,281,282,290,291,292,348,349,353,355,360) have mixed types.Specify dtype option on import or set low_memory=False.\n",
      "  has_raised = await self.run_ast_nodes(code_ast.body, cell_name,\n"
     ]
    }
   ],
   "source": [
    "df = pd.read_csv(\"data/p20v26_KMP_csv.csv\")"
   ]
  },
  {
   "cell_type": "code",
   "execution_count": 3,
   "id": "983b7abf",
   "metadata": {},
   "outputs": [
    {
     "data": {
      "text/html": [
       "<div>\n",
       "<style scoped>\n",
       "    .dataframe tbody tr th:only-of-type {\n",
       "        vertical-align: middle;\n",
       "    }\n",
       "\n",
       "    .dataframe tbody tr th {\n",
       "        vertical-align: top;\n",
       "    }\n",
       "\n",
       "    .dataframe thead th {\n",
       "        text-align: right;\n",
       "    }\n",
       "</style>\n",
       "<table border=\"1\" class=\"dataframe\">\n",
       "  <thead>\n",
       "    <tr style=\"text-align: right;\">\n",
       "      <th></th>\n",
       "      <th>pid</th>\n",
       "      <th>hid</th>\n",
       "      <th>housenum</th>\n",
       "      <th>p20wt</th>\n",
       "      <th>p20wt2</th>\n",
       "      <th>p20wt_org</th>\n",
       "      <th>p20wt_org2</th>\n",
       "      <th>KMPS10</th>\n",
       "      <th>KMPS11</th>\n",
       "      <th>KMPS19</th>\n",
       "      <th>...</th>\n",
       "      <th>p20i01034</th>\n",
       "      <th>p20i01018</th>\n",
       "      <th>p20i01019</th>\n",
       "      <th>p20i01030</th>\n",
       "      <th>p20i01020</th>\n",
       "      <th>p20i01031</th>\n",
       "      <th>p20i01035</th>\n",
       "      <th>p20i02001</th>\n",
       "      <th>p20i02003</th>\n",
       "      <th>p20i02004</th>\n",
       "    </tr>\n",
       "  </thead>\n",
       "  <tbody>\n",
       "    <tr>\n",
       "      <th>0</th>\n",
       "      <td>10001</td>\n",
       "      <td>100</td>\n",
       "      <td>1</td>\n",
       "      <td>0.136186</td>\n",
       "      <td>0.183348</td>\n",
       "      <td>0.274958</td>\n",
       "      <td>1.907604</td>\n",
       "      <td>NaN</td>\n",
       "      <td>1.0</td>\n",
       "      <td>NaN</td>\n",
       "      <td>...</td>\n",
       "      <td>NaN</td>\n",
       "      <td>2.0</td>\n",
       "      <td>NaN</td>\n",
       "      <td>NaN</td>\n",
       "      <td>NaN</td>\n",
       "      <td>NaN</td>\n",
       "      <td>NaN</td>\n",
       "      <td>2.0</td>\n",
       "      <td>2.0</td>\n",
       "      <td>2.0</td>\n",
       "    </tr>\n",
       "    <tr>\n",
       "      <th>1</th>\n",
       "      <td>10002</td>\n",
       "      <td>100</td>\n",
       "      <td>2</td>\n",
       "      <td>0.129019</td>\n",
       "      <td>0.161046</td>\n",
       "      <td>0.224794</td>\n",
       "      <td>1.258894</td>\n",
       "      <td>NaN</td>\n",
       "      <td>1.0</td>\n",
       "      <td>NaN</td>\n",
       "      <td>...</td>\n",
       "      <td>NaN</td>\n",
       "      <td>2.0</td>\n",
       "      <td>NaN</td>\n",
       "      <td>NaN</td>\n",
       "      <td>NaN</td>\n",
       "      <td>NaN</td>\n",
       "      <td>NaN</td>\n",
       "      <td>2.0</td>\n",
       "      <td>1.0</td>\n",
       "      <td>1.0</td>\n",
       "    </tr>\n",
       "    <tr>\n",
       "      <th>2</th>\n",
       "      <td>10003</td>\n",
       "      <td>100</td>\n",
       "      <td>3</td>\n",
       "      <td>0.166530</td>\n",
       "      <td>NaN</td>\n",
       "      <td>0.424265</td>\n",
       "      <td>NaN</td>\n",
       "      <td>NaN</td>\n",
       "      <td>1.0</td>\n",
       "      <td>NaN</td>\n",
       "      <td>...</td>\n",
       "      <td>4.0</td>\n",
       "      <td>1.0</td>\n",
       "      <td>1.0</td>\n",
       "      <td>1.0</td>\n",
       "      <td>6.0</td>\n",
       "      <td>10.0</td>\n",
       "      <td>4.0</td>\n",
       "      <td>1.0</td>\n",
       "      <td>1.0</td>\n",
       "      <td>1.0</td>\n",
       "    </tr>\n",
       "    <tr>\n",
       "      <th>3</th>\n",
       "      <td>10004</td>\n",
       "      <td>100</td>\n",
       "      <td>4</td>\n",
       "      <td>0.189377</td>\n",
       "      <td>NaN</td>\n",
       "      <td>0.482883</td>\n",
       "      <td>NaN</td>\n",
       "      <td>NaN</td>\n",
       "      <td>1.0</td>\n",
       "      <td>NaN</td>\n",
       "      <td>...</td>\n",
       "      <td>NaN</td>\n",
       "      <td>NaN</td>\n",
       "      <td>NaN</td>\n",
       "      <td>NaN</td>\n",
       "      <td>NaN</td>\n",
       "      <td>NaN</td>\n",
       "      <td>NaN</td>\n",
       "      <td>2.0</td>\n",
       "      <td>1.0</td>\n",
       "      <td>2.0</td>\n",
       "    </tr>\n",
       "    <tr>\n",
       "      <th>4</th>\n",
       "      <td>20001</td>\n",
       "      <td>200</td>\n",
       "      <td>1</td>\n",
       "      <td>1.582599</td>\n",
       "      <td>1.826189</td>\n",
       "      <td>0.189836</td>\n",
       "      <td>NaN</td>\n",
       "      <td>NaN</td>\n",
       "      <td>1.0</td>\n",
       "      <td>NaN</td>\n",
       "      <td>...</td>\n",
       "      <td>NaN</td>\n",
       "      <td>2.0</td>\n",
       "      <td>NaN</td>\n",
       "      <td>NaN</td>\n",
       "      <td>NaN</td>\n",
       "      <td>NaN</td>\n",
       "      <td>NaN</td>\n",
       "      <td>2.0</td>\n",
       "      <td>1.0</td>\n",
       "      <td>1.0</td>\n",
       "    </tr>\n",
       "  </tbody>\n",
       "</table>\n",
       "<p>5 rows × 480 columns</p>\n",
       "</div>"
      ],
      "text/plain": [
       "     pid  hid  housenum     p20wt    p20wt2  p20wt_org  p20wt_org2  KMPS10  \\\n",
       "0  10001  100         1  0.136186  0.183348   0.274958    1.907604     NaN   \n",
       "1  10002  100         2  0.129019  0.161046   0.224794    1.258894     NaN   \n",
       "2  10003  100         3  0.166530       NaN   0.424265         NaN     NaN   \n",
       "3  10004  100         4  0.189377       NaN   0.482883         NaN     NaN   \n",
       "4  20001  200         1  1.582599  1.826189   0.189836         NaN     NaN   \n",
       "\n",
       "   KMPS11  KMPS19  ...  p20i01034  p20i01018  p20i01019  p20i01030  p20i01020  \\\n",
       "0     1.0     NaN  ...        NaN        2.0        NaN        NaN        NaN   \n",
       "1     1.0     NaN  ...        NaN        2.0        NaN        NaN        NaN   \n",
       "2     1.0     NaN  ...        4.0        1.0        1.0        1.0        6.0   \n",
       "3     1.0     NaN  ...        NaN        NaN        NaN        NaN        NaN   \n",
       "4     1.0     NaN  ...        NaN        2.0        NaN        NaN        NaN   \n",
       "\n",
       "   p20i01031  p20i01035  p20i02001  p20i02003  p20i02004  \n",
       "0        NaN        NaN        2.0        2.0        2.0  \n",
       "1        NaN        NaN        2.0        1.0        1.0  \n",
       "2       10.0        4.0        1.0        1.0        1.0  \n",
       "3        NaN        NaN        2.0        1.0        2.0  \n",
       "4        NaN        NaN        2.0        1.0        1.0  \n",
       "\n",
       "[5 rows x 480 columns]"
      ]
     },
     "execution_count": 3,
     "metadata": {},
     "output_type": "execute_result"
    }
   ],
   "source": [
    "df.head()"
   ]
  },
  {
   "cell_type": "code",
   "execution_count": 4,
   "id": "c6def13f",
   "metadata": {},
   "outputs": [
    {
     "data": {
      "text/plain": [
       "(10302, 480)"
      ]
     },
     "execution_count": 4,
     "metadata": {},
     "output_type": "execute_result"
    }
   ],
   "source": [
    "df.shape"
   ]
  },
  {
   "cell_type": "markdown",
   "id": "b65a13ae",
   "metadata": {},
   "source": [
    "# 결측치 파악"
   ]
  },
  {
   "cell_type": "markdown",
   "id": "529a7fe3",
   "metadata": {},
   "source": [
    "## 성별, 나이 결측치"
   ]
  },
  {
   "cell_type": "code",
   "execution_count": 5,
   "id": "bb3e4c22",
   "metadata": {},
   "outputs": [
    {
     "data": {
      "text/plain": [
       "p20gender    0\n",
       "p20age       0\n",
       "dtype: int64"
      ]
     },
     "execution_count": 5,
     "metadata": {},
     "output_type": "execute_result"
    }
   ],
   "source": [
    "df[['p20gender', 'p20age']].isnull().sum()"
   ]
  },
  {
   "cell_type": "markdown",
   "id": "cfeba526",
   "metadata": {},
   "source": [
    "## 학력 결측치"
   ]
  },
  {
   "cell_type": "code",
   "execution_count": 6,
   "id": "c7698315",
   "metadata": {},
   "outputs": [
    {
     "data": {
      "text/plain": [
       "p20school          0\n",
       "p20school14     9677\n",
       "p20school17    10286\n",
       "dtype: int64"
      ]
     },
     "execution_count": 6,
     "metadata": {},
     "output_type": "execute_result"
    }
   ],
   "source": [
    "df[['p20school', 'p20school14', 'p20school17']].isnull().sum()"
   ]
  },
  {
   "cell_type": "markdown",
   "id": "27b3d72e",
   "metadata": {},
   "source": [
    "## 뉴미디어 활용수준 결측치"
   ]
  },
  {
   "cell_type": "code",
   "execution_count": 7,
   "id": "b51bc4bf",
   "metadata": {},
   "outputs": [
    {
     "data": {
      "text/plain": [
       "p20d26007    3275\n",
       "dtype: int64"
      ]
     },
     "execution_count": 7,
     "metadata": {},
     "output_type": "execute_result"
    }
   ],
   "source": [
    "df[['p20d26007']].isnull().sum()"
   ]
  },
  {
   "cell_type": "code",
   "execution_count": 8,
   "id": "3311d40f",
   "metadata": {},
   "outputs": [
    {
     "data": {
      "text/plain": [
       "p20d27001    5313\n",
       "p20d27002    5313\n",
       "p20d27003    5313\n",
       "p20d27004    5313\n",
       "dtype: int64"
      ]
     },
     "execution_count": 8,
     "metadata": {},
     "output_type": "execute_result"
    }
   ],
   "source": [
    "df.iloc[:, 141:145].isnull().sum()"
   ]
  },
  {
   "cell_type": "markdown",
   "id": "fe2b5b8a",
   "metadata": {},
   "source": [
    "## 매체 활용 능력 결측치"
   ]
  },
  {
   "cell_type": "code",
   "execution_count": 9,
   "id": "7dd42c9c",
   "metadata": {},
   "outputs": [
    {
     "data": {
      "text/plain": [
       "p20d25040    0\n",
       "p20d25041    0\n",
       "p20d25042    0\n",
       "p20d25043    0\n",
       "p20d25044    0\n",
       "p20d25045    0\n",
       "p20d25046    0\n",
       "p20d25047    0\n",
       "p20d25048    0\n",
       "p20d25049    0\n",
       "p20d25050    0\n",
       "p20d25051    0\n",
       "p20d25052    0\n",
       "p20d25053    0\n",
       "p20d25054    0\n",
       "p20d25055    0\n",
       "p20d25056    0\n",
       "p20d25057    0\n",
       "p20d25058    0\n",
       "p20d25059    0\n",
       "p20d25060    0\n",
       "dtype: int64"
      ]
     },
     "execution_count": 9,
     "metadata": {},
     "output_type": "execute_result"
    }
   ],
   "source": [
    "df.iloc[:, 293:314].isnull().sum()"
   ]
  },
  {
   "cell_type": "code",
   "execution_count": 10,
   "id": "dea5ab57",
   "metadata": {},
   "outputs": [
    {
     "data": {
      "text/plain": [
       "p20d25061    0\n",
       "p20d25062    0\n",
       "p20d25063    0\n",
       "p20d25064    0\n",
       "p20d25065    0\n",
       "p20d25066    0\n",
       "p20d25067    0\n",
       "p20d25068    0\n",
       "p20d25069    0\n",
       "p20d25070    0\n",
       "p20d25071    0\n",
       "p20d25072    0\n",
       "p20d25073    0\n",
       "p20d25074    0\n",
       "p20d25075    0\n",
       "p20d25076    0\n",
       "p20d25077    0\n",
       "p20d25078    0\n",
       "p20d25079    0\n",
       "p20d25080    0\n",
       "p20d25081    0\n",
       "p20d25082    0\n",
       "p20d25083    0\n",
       "p20d25084    0\n",
       "p20d25085    0\n",
       "p20d25086    0\n",
       "dtype: int64"
      ]
     },
     "execution_count": 10,
     "metadata": {},
     "output_type": "execute_result"
    }
   ],
   "source": [
    "df.iloc[:, 314:340].isnull().sum()"
   ]
  },
  {
   "cell_type": "markdown",
   "id": "45e5eda8",
   "metadata": {},
   "source": [
    "## 전자 상거래 활용 수준 결측치"
   ]
  },
  {
   "cell_type": "code",
   "execution_count": 11,
   "id": "8b9417c7",
   "metadata": {},
   "outputs": [
    {
     "data": {
      "text/plain": [
       "p20d25072    0\n",
       "p20d25073    0\n",
       "dtype: int64"
      ]
     },
     "execution_count": 11,
     "metadata": {},
     "output_type": "execute_result"
    }
   ],
   "source": [
    "df.iloc[:, 325:327].isnull().sum()"
   ]
  },
  {
   "cell_type": "code",
   "execution_count": 12,
   "id": "b762257a",
   "metadata": {},
   "outputs": [
    {
     "data": {
      "text/plain": [
       "p20d25048    0\n",
       "p20d25049    0\n",
       "dtype: int64"
      ]
     },
     "execution_count": 12,
     "metadata": {},
     "output_type": "execute_result"
    }
   ],
   "source": [
    "df.iloc[:, 301:303].isnull().sum()"
   ]
  },
  {
   "cell_type": "code",
   "execution_count": 13,
   "id": "a017ae76",
   "metadata": {},
   "outputs": [
    {
     "data": {
      "text/plain": [
       "p20i01032    7303\n",
       "p20i01021    4748\n",
       "p20i01022    5491\n",
       "p20i01026    5491\n",
       "p20i01023    5491\n",
       "dtype: int64"
      ]
     },
     "execution_count": 13,
     "metadata": {},
     "output_type": "execute_result"
    }
   ],
   "source": [
    "df.iloc[:, 458:463].isnull().sum()"
   ]
  },
  {
   "cell_type": "markdown",
   "id": "a61b6980",
   "metadata": {},
   "source": [
    "## 커뮤니티/플랫폼 활용수준 결측치"
   ]
  },
  {
   "cell_type": "code",
   "execution_count": 14,
   "id": "d0f57102",
   "metadata": {},
   "outputs": [
    {
     "data": {
      "text/plain": [
       "p20d14001    0\n",
       "p20d14002    0\n",
       "p20d14003    0\n",
       "p20d14004    0\n",
       "p20d14005    0\n",
       "p20d14006    0\n",
       "p20d14007    0\n",
       "p20d14008    0\n",
       "p20d14009    0\n",
       "p20d14010    0\n",
       "p20d14011    0\n",
       "dtype: int64"
      ]
     },
     "execution_count": 14,
     "metadata": {},
     "output_type": "execute_result"
    }
   ],
   "source": [
    "df.iloc[:, 370:381].isnull().sum()   # 14012~10414 : 2019 데이터에서 제외됨"
   ]
  },
  {
   "cell_type": "markdown",
   "id": "f6201cad",
   "metadata": {},
   "source": [
    "## 프라이버시 민감도 결측치"
   ]
  },
  {
   "cell_type": "code",
   "execution_count": 15,
   "id": "e347feea",
   "metadata": {},
   "outputs": [
    {
     "data": {
      "text/plain": [
       "p20d23001    0\n",
       "p20d23002    0\n",
       "p20d23007    0\n",
       "p20d23003    0\n",
       "p20d23004    0\n",
       "p20d23005    0\n",
       "p20d23006    0\n",
       "p20d23008    0\n",
       "dtype: int64"
      ]
     },
     "execution_count": 15,
     "metadata": {},
     "output_type": "execute_result"
    }
   ],
   "source": [
    "df.iloc[:, 381:389].isnull().sum() "
   ]
  }
 ],
 "metadata": {
  "hide_input": false,
  "kernelspec": {
   "display_name": "Python 3",
   "language": "python",
   "name": "python3"
  },
  "language_info": {
   "codemirror_mode": {
    "name": "ipython",
    "version": 3
   },
   "file_extension": ".py",
   "mimetype": "text/x-python",
   "name": "python",
   "nbconvert_exporter": "python",
   "pygments_lexer": "ipython3",
   "version": "3.8.5"
  },
  "toc": {
   "base_numbering": 1,
   "nav_menu": {},
   "number_sections": true,
   "sideBar": true,
   "skip_h1_title": false,
   "title_cell": "Table of Contents",
   "title_sidebar": "Contents",
   "toc_cell": false,
   "toc_position": {},
   "toc_section_display": true,
   "toc_window_display": false
  }
 },
 "nbformat": 4,
 "nbformat_minor": 5
}
