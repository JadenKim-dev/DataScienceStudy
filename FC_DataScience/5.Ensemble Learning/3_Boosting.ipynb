{
 "cells": [
  {
   "cell_type": "markdown",
   "id": "225654d5",
   "metadata": {},
   "source": [
    "### 데이터 로드 및 전처리"
   ]
  },
  {
   "cell_type": "code",
   "execution_count": 1,
   "id": "210acb1a",
   "metadata": {},
   "outputs": [],
   "source": [
    "import os\n",
    "import pandas as pd\n",
    "import numpy as np\n",
    "from sklearn.model_selection import train_test_split"
   ]
  },
  {
   "cell_type": "code",
   "execution_count": 2,
   "id": "0dd87958",
   "metadata": {},
   "outputs": [
    {
     "data": {
      "text/html": [
       "<div>\n",
       "<style scoped>\n",
       "    .dataframe tbody tr th:only-of-type {\n",
       "        vertical-align: middle;\n",
       "    }\n",
       "\n",
       "    .dataframe tbody tr th {\n",
       "        vertical-align: top;\n",
       "    }\n",
       "\n",
       "    .dataframe thead th {\n",
       "        text-align: right;\n",
       "    }\n",
       "</style>\n",
       "<table border=\"1\" class=\"dataframe\">\n",
       "  <thead>\n",
       "    <tr style=\"text-align: right;\">\n",
       "      <th></th>\n",
       "      <th>id</th>\n",
       "      <th>feat_1</th>\n",
       "      <th>feat_2</th>\n",
       "      <th>feat_3</th>\n",
       "      <th>feat_4</th>\n",
       "      <th>feat_5</th>\n",
       "      <th>feat_6</th>\n",
       "      <th>feat_7</th>\n",
       "      <th>feat_8</th>\n",
       "      <th>feat_9</th>\n",
       "      <th>...</th>\n",
       "      <th>feat_85</th>\n",
       "      <th>feat_86</th>\n",
       "      <th>feat_87</th>\n",
       "      <th>feat_88</th>\n",
       "      <th>feat_89</th>\n",
       "      <th>feat_90</th>\n",
       "      <th>feat_91</th>\n",
       "      <th>feat_92</th>\n",
       "      <th>feat_93</th>\n",
       "      <th>target</th>\n",
       "    </tr>\n",
       "  </thead>\n",
       "  <tbody>\n",
       "    <tr>\n",
       "      <th>0</th>\n",
       "      <td>1</td>\n",
       "      <td>1</td>\n",
       "      <td>0</td>\n",
       "      <td>0</td>\n",
       "      <td>0</td>\n",
       "      <td>0</td>\n",
       "      <td>0</td>\n",
       "      <td>0</td>\n",
       "      <td>0</td>\n",
       "      <td>0</td>\n",
       "      <td>...</td>\n",
       "      <td>1</td>\n",
       "      <td>0</td>\n",
       "      <td>0</td>\n",
       "      <td>0</td>\n",
       "      <td>0</td>\n",
       "      <td>0</td>\n",
       "      <td>0</td>\n",
       "      <td>0</td>\n",
       "      <td>0</td>\n",
       "      <td>Class_1</td>\n",
       "    </tr>\n",
       "    <tr>\n",
       "      <th>1</th>\n",
       "      <td>2</td>\n",
       "      <td>0</td>\n",
       "      <td>0</td>\n",
       "      <td>0</td>\n",
       "      <td>0</td>\n",
       "      <td>0</td>\n",
       "      <td>0</td>\n",
       "      <td>0</td>\n",
       "      <td>1</td>\n",
       "      <td>0</td>\n",
       "      <td>...</td>\n",
       "      <td>0</td>\n",
       "      <td>0</td>\n",
       "      <td>0</td>\n",
       "      <td>0</td>\n",
       "      <td>0</td>\n",
       "      <td>0</td>\n",
       "      <td>0</td>\n",
       "      <td>0</td>\n",
       "      <td>0</td>\n",
       "      <td>Class_1</td>\n",
       "    </tr>\n",
       "    <tr>\n",
       "      <th>2</th>\n",
       "      <td>3</td>\n",
       "      <td>0</td>\n",
       "      <td>0</td>\n",
       "      <td>0</td>\n",
       "      <td>0</td>\n",
       "      <td>0</td>\n",
       "      <td>0</td>\n",
       "      <td>0</td>\n",
       "      <td>1</td>\n",
       "      <td>0</td>\n",
       "      <td>...</td>\n",
       "      <td>0</td>\n",
       "      <td>0</td>\n",
       "      <td>0</td>\n",
       "      <td>0</td>\n",
       "      <td>0</td>\n",
       "      <td>0</td>\n",
       "      <td>0</td>\n",
       "      <td>0</td>\n",
       "      <td>0</td>\n",
       "      <td>Class_1</td>\n",
       "    </tr>\n",
       "    <tr>\n",
       "      <th>3</th>\n",
       "      <td>4</td>\n",
       "      <td>1</td>\n",
       "      <td>0</td>\n",
       "      <td>0</td>\n",
       "      <td>1</td>\n",
       "      <td>6</td>\n",
       "      <td>1</td>\n",
       "      <td>5</td>\n",
       "      <td>0</td>\n",
       "      <td>0</td>\n",
       "      <td>...</td>\n",
       "      <td>0</td>\n",
       "      <td>1</td>\n",
       "      <td>2</td>\n",
       "      <td>0</td>\n",
       "      <td>0</td>\n",
       "      <td>0</td>\n",
       "      <td>0</td>\n",
       "      <td>0</td>\n",
       "      <td>0</td>\n",
       "      <td>Class_1</td>\n",
       "    </tr>\n",
       "    <tr>\n",
       "      <th>4</th>\n",
       "      <td>5</td>\n",
       "      <td>0</td>\n",
       "      <td>0</td>\n",
       "      <td>0</td>\n",
       "      <td>0</td>\n",
       "      <td>0</td>\n",
       "      <td>0</td>\n",
       "      <td>0</td>\n",
       "      <td>0</td>\n",
       "      <td>0</td>\n",
       "      <td>...</td>\n",
       "      <td>1</td>\n",
       "      <td>0</td>\n",
       "      <td>0</td>\n",
       "      <td>0</td>\n",
       "      <td>0</td>\n",
       "      <td>1</td>\n",
       "      <td>0</td>\n",
       "      <td>0</td>\n",
       "      <td>0</td>\n",
       "      <td>Class_1</td>\n",
       "    </tr>\n",
       "  </tbody>\n",
       "</table>\n",
       "<p>5 rows × 95 columns</p>\n",
       "</div>"
      ],
      "text/plain": [
       "   id  feat_1  feat_2  feat_3  feat_4  feat_5  feat_6  feat_7  feat_8  feat_9  \\\n",
       "0   1       1       0       0       0       0       0       0       0       0   \n",
       "1   2       0       0       0       0       0       0       0       1       0   \n",
       "2   3       0       0       0       0       0       0       0       1       0   \n",
       "3   4       1       0       0       1       6       1       5       0       0   \n",
       "4   5       0       0       0       0       0       0       0       0       0   \n",
       "\n",
       "   ...  feat_85  feat_86  feat_87  feat_88  feat_89  feat_90  feat_91  \\\n",
       "0  ...        1        0        0        0        0        0        0   \n",
       "1  ...        0        0        0        0        0        0        0   \n",
       "2  ...        0        0        0        0        0        0        0   \n",
       "3  ...        0        1        2        0        0        0        0   \n",
       "4  ...        1        0        0        0        0        1        0   \n",
       "\n",
       "   feat_92  feat_93   target  \n",
       "0        0        0  Class_1  \n",
       "1        0        0  Class_1  \n",
       "2        0        0  Class_1  \n",
       "3        0        0  Class_1  \n",
       "4        0        0  Class_1  \n",
       "\n",
       "[5 rows x 95 columns]"
      ]
     },
     "execution_count": 2,
     "metadata": {},
     "output_type": "execute_result"
    }
   ],
   "source": [
    "data = pd.read_csv(\"./data/otto_train.csv\")\n",
    "data.head()"
   ]
  },
  {
   "cell_type": "code",
   "execution_count": 3,
   "id": "41f07f40",
   "metadata": {},
   "outputs": [
    {
     "data": {
      "text/plain": [
       "'\\nid: 고유 아이디\\nfeat_1 ~ feat_93: 설명변수\\ntarget: 타겟변수 (1~9)\\n'"
      ]
     },
     "execution_count": 3,
     "metadata": {},
     "output_type": "execute_result"
    }
   ],
   "source": [
    "'''\n",
    "id: 고유 아이디\n",
    "feat_1 ~ feat_93: 설명변수\n",
    "target: 타겟변수 (1~9)\n",
    "'''"
   ]
  },
  {
   "cell_type": "code",
   "execution_count": 4,
   "id": "d2d4e624",
   "metadata": {},
   "outputs": [
    {
     "name": "stdout",
     "output_type": "stream",
     "text": [
      "nCar: 61878 nVar: 95\n"
     ]
    }
   ],
   "source": [
    "nCar = data.shape[0] # 데이터 개수\n",
    "nVar = data.shape[1] # 변수 개수\n",
    "print('nCar: %d' % nCar, 'nVar: %d' % nVar )"
   ]
  },
  {
   "cell_type": "code",
   "execution_count": 5,
   "id": "9f3a838a",
   "metadata": {},
   "outputs": [],
   "source": [
    "data = data.drop(['id'], axis = 1) # id 제거"
   ]
  },
  {
   "cell_type": "code",
   "execution_count": 6,
   "id": "9cc880c9",
   "metadata": {},
   "outputs": [],
   "source": [
    "mapping_dict = {\"Class_1\": 1,\n",
    "                \"Class_2\": 2,\n",
    "                \"Class_3\": 3,\n",
    "                \"Class_4\": 4,\n",
    "                \"Class_5\": 5,\n",
    "                \"Class_6\": 6,\n",
    "                \"Class_7\": 7,\n",
    "                \"Class_8\": 8,\n",
    "                \"Class_9\": 9}\n",
    "after_mapping_target = data['target'].apply(lambda x: mapping_dict[x])"
   ]
  },
  {
   "cell_type": "code",
   "execution_count": 7,
   "id": "9768e14f",
   "metadata": {},
   "outputs": [
    {
     "name": "stdout",
     "output_type": "stream",
     "text": [
      "(49502, 93) (12376, 93) (49502,) (12376,)\n"
     ]
    }
   ],
   "source": [
    "feature_columns = list(data.columns.difference(['target'])) # target을 제외한 모든 행\n",
    "X = data[feature_columns] # 설명변수\n",
    "y = after_mapping_target # 타겟변수\n",
    "train_x, test_x, train_y, test_y = train_test_split(X, y, test_size = 0.2, random_state = 42) # 학습데이터와 평가데이터의 비율을 8:2 로 분할| \n",
    "print(train_x.shape, test_x.shape, train_y.shape, test_y.shape) # 데이터 개수 확인"
   ]
  },
  {
   "cell_type": "markdown",
   "id": "90b0667b",
   "metadata": {},
   "source": [
    "# AdaBoost 적합"
   ]
  },
  {
   "cell_type": "code",
   "execution_count": 8,
   "id": "ae4c640e",
   "metadata": {},
   "outputs": [
    {
     "name": "stdout",
     "output_type": "stream",
     "text": [
      "0.6853587588881707\n"
     ]
    }
   ],
   "source": [
    "from sklearn.ensemble import AdaBoostClassifier\n",
    "from sklearn.tree import DecisionTreeClassifier\n",
    "from sklearn.metrics import accuracy_score\n",
    "\n",
    "tree_model = DecisionTreeClassifier(max_depth=5)\n",
    "clf = AdaBoostClassifier(base_estimator=tree_model, n_estimators=10, random_state=0)\n",
    "clf.fit(train_x, train_y)\n",
    "pred1 = clf.predict(test_x)\n",
    "print(accuracy_score(test_y, pred1))"
   ]
  },
  {
   "cell_type": "markdown",
   "id": "4b81cf1d",
   "metadata": {},
   "source": [
    "* 추정 횟수를 증가"
   ]
  },
  {
   "cell_type": "code",
   "execution_count": 9,
   "id": "5d0e9f12",
   "metadata": {},
   "outputs": [
    {
     "name": "stdout",
     "output_type": "stream",
     "text": [
      "0.6105365223012282\n"
     ]
    }
   ],
   "source": [
    "tree_model = DecisionTreeClassifier(max_depth=5)\n",
    "clf = AdaBoostClassifier(base_estimator=tree_model, n_estimators=100, random_state=0)\n",
    "clf.fit(train_x, train_y)\n",
    "pred1 = clf.predict(test_x)\n",
    "print(accuracy_score(test_y, pred1))"
   ]
  },
  {
   "cell_type": "markdown",
   "id": "b9dc2e83",
   "metadata": {},
   "source": [
    "* 트리의 깊이를 증가"
   ]
  },
  {
   "cell_type": "code",
   "execution_count": 10,
   "id": "850b082c",
   "metadata": {},
   "outputs": [
    {
     "name": "stdout",
     "output_type": "stream",
     "text": [
      "0.7389301874595993\n"
     ]
    }
   ],
   "source": [
    "tree_model = DecisionTreeClassifier(max_depth=20)\n",
    "clf = AdaBoostClassifier(base_estimator=tree_model, n_estimators=10, random_state=0)\n",
    "clf.fit(train_x, train_y)\n",
    "pred1 = clf.predict(test_x)\n",
    "print(accuracy_score(test_y, pred1))"
   ]
  },
  {
   "cell_type": "markdown",
   "id": "b467dada",
   "metadata": {},
   "source": [
    "* 트리의 깊이를 최대로 증가"
   ]
  },
  {
   "cell_type": "code",
   "execution_count": 11,
   "id": "ea31aa0a",
   "metadata": {},
   "outputs": [
    {
     "name": "stdout",
     "output_type": "stream",
     "text": [
      "0.710245636716225\n"
     ]
    }
   ],
   "source": [
    "tree_model = DecisionTreeClassifier(max_depth=100)\n",
    "clf = AdaBoostClassifier(base_estimator=tree_model, n_estimators=10, random_state=0)\n",
    "clf.fit(train_x, train_y)\n",
    "pred1 = clf.predict(test_x)\n",
    "print(accuracy_score(test_y, pred1))"
   ]
  },
  {
   "cell_type": "markdown",
   "id": "ec7c381c",
   "metadata": {},
   "source": [
    "# Gradient Boosting"
   ]
  },
  {
   "cell_type": "code",
   "execution_count": 12,
   "id": "0ca5feb0",
   "metadata": {},
   "outputs": [
    {
     "name": "stdout",
     "output_type": "stream",
     "text": [
      "Accuracy: 76.67 %\n",
      "Time: 15.99 seconds\n"
     ]
    }
   ],
   "source": [
    "import xgboost as xgb\n",
    "import time\n",
    "start = time.time()\n",
    "xgb_dtrain = xgb.DMatrix(data=train_x, label=train_y)\n",
    "xgb_dtest = xgb.DMatrix(data=test_x)\n",
    "xgb_param = {'max_depth': 10,\n",
    "            'learning_rate': 0.01,\n",
    "            'objective': 'multi:softmax', # 목적 함수\n",
    "            'eval_metric': 'mlogloss',\n",
    "            'num_class': len(set(train_y)) + 1}  # 파라미터 추가, Label must be in [0, num_class) -> num_class보다 1 커야한다.\n",
    "xgb_model = xgb.train(params=xgb_param, dtrain=xgb_dtrain)\n",
    "xgb_model_predict = xgb_model.predict(xgb_dtest)\n",
    "print(\"Accuracy: %.2f\" % (accuracy_score(test_y, xgb_model_predict) * 100), \"%\") # 정확도 % 계산\n",
    "print(\"Time: %.2f\" % (time.time() - start), \"seconds\") # 코드 실행 시간 계산"
   ]
  },
  {
   "cell_type": "code",
   "execution_count": 13,
   "id": "9b297306",
   "metadata": {},
   "outputs": [
    {
     "data": {
      "text/plain": [
       "array([5., 3., 6., ..., 9., 2., 7.], dtype=float32)"
      ]
     },
     "execution_count": 13,
     "metadata": {},
     "output_type": "execute_result"
    }
   ],
   "source": [
    "xgb_model_predict"
   ]
  },
  {
   "cell_type": "markdown",
   "id": "f565b551",
   "metadata": {},
   "source": [
    "# LightGBM 적합"
   ]
  },
  {
   "cell_type": "code",
   "execution_count": 14,
   "id": "3c34d754",
   "metadata": {
    "scrolled": false
   },
   "outputs": [
    {
     "name": "stderr",
     "output_type": "stream",
     "text": [
      "D:\\Installation\\Anaconda3\\lib\\site-packages\\lightgbm\\engine.py:148: UserWarning: Found `n_estimators` in params. Will use it instead of argument\n",
      "  _log_warning(\"Found `{}` in params. Will use it instead of argument\".format(alias))\n"
     ]
    },
    {
     "name": "stdout",
     "output_type": "stream",
     "text": [
      "[LightGBM] [Warning] Accuracy may be bad since you didn't explicitly set num_leaves OR 2^max_depth > num_leaves. (num_leaves=31).\n",
      "[LightGBM] [Warning] Accuracy may be bad since you didn't explicitly set num_leaves OR 2^max_depth > num_leaves. (num_leaves=31).\n",
      "[LightGBM] [Warning] Auto-choosing col-wise multi-threading, the overhead of testing was 0.048064 seconds.\n",
      "You can set `force_col_wise=true` to remove the overhead.\n",
      "[LightGBM] [Info] Total Bins 3110\n",
      "[LightGBM] [Info] Number of data points in the train set: 49502, number of used features: 93\n",
      "[LightGBM] [Info] Start training from score -34.538776\n",
      "[LightGBM] [Info] Start training from score -3.476745\n",
      "[LightGBM] [Info] Start training from score -1.341381\n",
      "[LightGBM] [Info] Start training from score -2.039019\n",
      "[LightGBM] [Info] Start training from score -3.135151\n",
      "[LightGBM] [Info] Start training from score -3.125444\n",
      "[LightGBM] [Info] Start training from score -1.481556\n",
      "[LightGBM] [Info] Start training from score -3.074772\n",
      "[LightGBM] [Info] Start training from score -1.986562\n",
      "[LightGBM] [Info] Start training from score -2.533374\n",
      "Accuracy: 76.28 %\n",
      "Time: 7.93 seconds\n"
     ]
    }
   ],
   "source": [
    "import lightgbm as lgb\n",
    "start = time.time()\n",
    "lgb_dtrain = lgb.Dataset(data=train_x, label=train_y)\n",
    "lgb_param = {'max_depth': 10,\n",
    "            'n_estimators': 100,\n",
    "            'learning_rate': 0.01,\n",
    "            'objective': 'multiclass',\n",
    "            'num_class': len(set(train_y)) + 1}\n",
    "lgb_model = lgb.train(params=lgb_param, train_set=lgb_dtrain)\n",
    "lgb_model_predict = np.argmax(lgb_model.predict(test_x), axis=1) # 평가 데이터 예측, Softmax의 결과값 중 가장 큰 값의 Label로 예측\n",
    "print(\"Accuracy: %.2f\" % (accuracy_score(test_y, lgb_model_predict) * 100), \"%\") # 정확도 % 계산\n",
    "print(\"Time: %.2f\" % (time.time() - start), \"seconds\") # 코드 실행 시간 계산"
   ]
  },
  {
   "cell_type": "markdown",
   "id": "6f79aa34",
   "metadata": {},
   "source": [
    "성능에 영향을 주는 parameter : max_depth, min_data_in_leaf  \n",
    "lambda_l1, lambda_l2 : regularization 효과를 조정  \n",
    "-> 여러 parameter 값들을 조정해보며 최적의 설정을 찾아야 한다"
   ]
  },
  {
   "cell_type": "code",
   "execution_count": 15,
   "id": "c07bb76a",
   "metadata": {},
   "outputs": [
    {
     "data": {
      "text/plain": [
       "array([[1.01734061e-15, 2.25081693e-02, 3.62193933e-01, ...,\n",
       "        3.24234521e-02, 5.82126692e-02, 3.67722414e-02],\n",
       "       [1.14084116e-15, 5.36978636e-02, 1.90687128e-01, ...,\n",
       "        3.25081119e-01, 9.38028846e-02, 6.50463131e-02],\n",
       "       [5.94595781e-16, 9.66842220e-03, 5.82817482e-02, ...,\n",
       "        1.42318289e-02, 3.40230275e-02, 2.14919364e-02],\n",
       "       ...,\n",
       "       [7.09105769e-16, 4.63740004e-02, 1.08297559e-01, ...,\n",
       "        5.46934960e-02, 7.24513712e-02, 5.74635996e-01],\n",
       "       [9.88127136e-16, 1.54895684e-02, 5.45515599e-01, ...,\n",
       "        2.45870954e-02, 5.65410617e-02, 3.62344513e-02],\n",
       "       [7.59617500e-16, 1.49480877e-02, 7.44570300e-02, ...,\n",
       "        5.76695793e-01, 1.43227106e-01, 2.74567219e-02]])"
      ]
     },
     "execution_count": 15,
     "metadata": {},
     "output_type": "execute_result"
    }
   ],
   "source": [
    "lgb_model.predict(test_x)"
   ]
  },
  {
   "cell_type": "markdown",
   "id": "2b607a09",
   "metadata": {},
   "source": [
    "# Catboost"
   ]
  },
  {
   "cell_type": "code",
   "execution_count": 16,
   "id": "0562ffea",
   "metadata": {},
   "outputs": [
    {
     "name": "stdout",
     "output_type": "stream",
     "text": [
      "0:\tlearn: 0.5907034\ttotal: 1.59s\tremaining: 2m 37s\n",
      "1:\tlearn: 0.6356107\ttotal: 2.93s\tremaining: 2m 23s\n",
      "2:\tlearn: 0.6411256\ttotal: 4.2s\tremaining: 2m 15s\n",
      "3:\tlearn: 0.6480344\ttotal: 5.63s\tremaining: 2m 15s\n",
      "4:\tlearn: 0.6508222\ttotal: 6.89s\tremaining: 2m 10s\n",
      "5:\tlearn: 0.6499939\ttotal: 8.15s\tremaining: 2m 7s\n",
      "6:\tlearn: 0.6507818\ttotal: 9.54s\tremaining: 2m 6s\n",
      "7:\tlearn: 0.6548422\ttotal: 10.9s\tremaining: 2m 5s\n",
      "8:\tlearn: 0.6559533\ttotal: 12.2s\tremaining: 2m 3s\n",
      "9:\tlearn: 0.6560947\ttotal: 13.5s\tremaining: 2m 1s\n",
      "10:\tlearn: 0.6568421\ttotal: 14.8s\tremaining: 1m 59s\n",
      "11:\tlearn: 0.6588219\ttotal: 16.2s\tremaining: 1m 59s\n",
      "12:\tlearn: 0.6592259\ttotal: 17.6s\tremaining: 1m 57s\n",
      "13:\tlearn: 0.6611248\ttotal: 18.9s\tremaining: 1m 55s\n",
      "14:\tlearn: 0.6625591\ttotal: 20.3s\tremaining: 1m 54s\n",
      "15:\tlearn: 0.6631853\ttotal: 21.6s\tremaining: 1m 53s\n",
      "16:\tlearn: 0.6639328\ttotal: 23s\tremaining: 1m 52s\n",
      "17:\tlearn: 0.6668821\ttotal: 24.3s\tremaining: 1m 50s\n",
      "18:\tlearn: 0.6669630\ttotal: 25.6s\tremaining: 1m 49s\n",
      "19:\tlearn: 0.6675286\ttotal: 27s\tremaining: 1m 47s\n",
      "20:\tlearn: 0.6673266\ttotal: 28.2s\tremaining: 1m 46s\n",
      "21:\tlearn: 0.6677104\ttotal: 29.5s\tremaining: 1m 44s\n",
      "22:\tlearn: 0.6682558\ttotal: 30.8s\tremaining: 1m 43s\n",
      "23:\tlearn: 0.6683972\ttotal: 32.1s\tremaining: 1m 41s\n",
      "24:\tlearn: 0.6686599\ttotal: 33.4s\tremaining: 1m 40s\n",
      "25:\tlearn: 0.6681952\ttotal: 34.7s\tremaining: 1m 38s\n",
      "26:\tlearn: 0.6684982\ttotal: 35.9s\tremaining: 1m 37s\n",
      "27:\tlearn: 0.6692053\ttotal: 37.4s\tremaining: 1m 36s\n",
      "28:\tlearn: 0.6696699\ttotal: 38.7s\tremaining: 1m 34s\n",
      "29:\tlearn: 0.6699325\ttotal: 39.9s\tremaining: 1m 33s\n",
      "30:\tlearn: 0.6705992\ttotal: 41.3s\tremaining: 1m 32s\n",
      "31:\tlearn: 0.6709426\ttotal: 42.6s\tremaining: 1m 30s\n",
      "32:\tlearn: 0.6708012\ttotal: 44s\tremaining: 1m 29s\n",
      "33:\tlearn: 0.6709426\ttotal: 45.3s\tremaining: 1m 27s\n",
      "34:\tlearn: 0.6707002\ttotal: 46.6s\tremaining: 1m 26s\n",
      "35:\tlearn: 0.6715082\ttotal: 47.9s\tremaining: 1m 25s\n",
      "36:\tlearn: 0.6705992\ttotal: 49.2s\tremaining: 1m 23s\n",
      "37:\tlearn: 0.6725991\ttotal: 50.5s\tremaining: 1m 22s\n",
      "38:\tlearn: 0.6729829\ttotal: 51.9s\tremaining: 1m 21s\n",
      "39:\tlearn: 0.6725991\ttotal: 53.2s\tremaining: 1m 19s\n",
      "40:\tlearn: 0.6734273\ttotal: 54.5s\tremaining: 1m 18s\n",
      "41:\tlearn: 0.6738314\ttotal: 55.8s\tremaining: 1m 17s\n",
      "42:\tlearn: 0.6741546\ttotal: 57.1s\tremaining: 1m 15s\n",
      "43:\tlearn: 0.6739728\ttotal: 58.5s\tremaining: 1m 14s\n",
      "44:\tlearn: 0.6741950\ttotal: 59.7s\tremaining: 1m 12s\n",
      "45:\tlearn: 0.6750636\ttotal: 1m\tremaining: 1m 11s\n",
      "46:\tlearn: 0.6758919\ttotal: 1m 2s\tremaining: 1m 10s\n",
      "47:\tlearn: 0.6757707\ttotal: 1m 3s\tremaining: 1m 8s\n",
      "48:\tlearn: 0.6762151\ttotal: 1m 5s\tremaining: 1m 7s\n",
      "49:\tlearn: 0.6774474\ttotal: 1m 6s\tremaining: 1m 6s\n",
      "50:\tlearn: 0.6777100\ttotal: 1m 7s\tremaining: 1m 4s\n",
      "51:\tlearn: 0.6786594\ttotal: 1m 8s\tremaining: 1m 3s\n",
      "52:\tlearn: 0.6789827\ttotal: 1m 10s\tremaining: 1m 2s\n",
      "53:\tlearn: 0.6804372\ttotal: 1m 11s\tremaining: 1m\n",
      "54:\tlearn: 0.6804372\ttotal: 1m 12s\tremaining: 59.6s\n",
      "55:\tlearn: 0.6809220\ttotal: 1m 14s\tremaining: 58.2s\n",
      "56:\tlearn: 0.6812250\ttotal: 1m 15s\tremaining: 56.9s\n",
      "57:\tlearn: 0.6813058\ttotal: 1m 16s\tremaining: 55.6s\n",
      "58:\tlearn: 0.6811846\ttotal: 1m 18s\tremaining: 54.2s\n",
      "59:\tlearn: 0.6813260\ttotal: 1m 19s\tremaining: 53s\n",
      "60:\tlearn: 0.6816694\ttotal: 1m 20s\tremaining: 51.6s\n",
      "61:\tlearn: 0.6823159\ttotal: 1m 21s\tremaining: 50.2s\n",
      "62:\tlearn: 0.6832653\ttotal: 1m 23s\tremaining: 48.9s\n",
      "63:\tlearn: 0.6840734\ttotal: 1m 24s\tremaining: 47.6s\n",
      "64:\tlearn: 0.6840734\ttotal: 1m 25s\tremaining: 46.3s\n",
      "65:\tlearn: 0.6846592\ttotal: 1m 27s\tremaining: 44.9s\n",
      "66:\tlearn: 0.6843360\ttotal: 1m 28s\tremaining: 43.6s\n",
      "67:\tlearn: 0.6846390\ttotal: 1m 29s\tremaining: 42.3s\n",
      "68:\tlearn: 0.6854269\ttotal: 1m 31s\tremaining: 40.9s\n",
      "69:\tlearn: 0.6858309\ttotal: 1m 32s\tremaining: 39.6s\n",
      "70:\tlearn: 0.6858309\ttotal: 1m 33s\tremaining: 38.3s\n",
      "71:\tlearn: 0.6865783\ttotal: 1m 35s\tremaining: 37s\n",
      "72:\tlearn: 0.6864167\ttotal: 1m 36s\tremaining: 35.6s\n",
      "73:\tlearn: 0.6868611\ttotal: 1m 37s\tremaining: 34.3s\n",
      "74:\tlearn: 0.6869217\ttotal: 1m 38s\tremaining: 33s\n",
      "75:\tlearn: 0.6870429\ttotal: 1m 40s\tremaining: 31.7s\n",
      "76:\tlearn: 0.6875278\ttotal: 1m 41s\tremaining: 30.4s\n",
      "77:\tlearn: 0.6881136\ttotal: 1m 42s\tremaining: 29s\n",
      "78:\tlearn: 0.6883762\ttotal: 1m 44s\tremaining: 27.7s\n",
      "79:\tlearn: 0.6888207\ttotal: 1m 45s\tremaining: 26.4s\n",
      "80:\tlearn: 0.6892449\ttotal: 1m 46s\tremaining: 25.1s\n",
      "81:\tlearn: 0.6898509\ttotal: 1m 48s\tremaining: 23.8s\n",
      "82:\tlearn: 0.6897095\ttotal: 1m 49s\tremaining: 22.4s\n",
      "83:\tlearn: 0.6902549\ttotal: 1m 50s\tremaining: 21.1s\n",
      "84:\tlearn: 0.6909822\ttotal: 1m 52s\tremaining: 19.8s\n",
      "85:\tlearn: 0.6910832\ttotal: 1m 53s\tremaining: 18.5s\n",
      "86:\tlearn: 0.6914468\ttotal: 1m 54s\tremaining: 17.2s\n",
      "87:\tlearn: 0.6916084\ttotal: 1m 56s\tremaining: 15.8s\n",
      "88:\tlearn: 0.6919922\ttotal: 1m 57s\tremaining: 14.5s\n",
      "89:\tlearn: 0.6925579\ttotal: 1m 58s\tremaining: 13.2s\n",
      "90:\tlearn: 0.6928407\ttotal: 2m\tremaining: 11.9s\n",
      "91:\tlearn: 0.6930427\ttotal: 2m 1s\tremaining: 10.6s\n",
      "92:\tlearn: 0.6935073\ttotal: 2m 2s\tremaining: 9.23s\n",
      "93:\tlearn: 0.6940932\ttotal: 2m 3s\tremaining: 7.91s\n",
      "94:\tlearn: 0.6944972\ttotal: 2m 5s\tremaining: 6.6s\n",
      "95:\tlearn: 0.6948810\ttotal: 2m 6s\tremaining: 5.28s\n",
      "96:\tlearn: 0.6951840\ttotal: 2m 7s\tremaining: 3.96s\n",
      "97:\tlearn: 0.6954264\ttotal: 2m 9s\tremaining: 2.64s\n",
      "98:\tlearn: 0.6955881\ttotal: 2m 10s\tremaining: 1.32s\n",
      "99:\tlearn: 0.6956285\ttotal: 2m 11s\tremaining: 0us\n",
      "Accuracy: 69.64 %\n",
      "Time: 132.25 seconds\n"
     ]
    }
   ],
   "source": [
    "import catboost as cb\n",
    "start = time.time()\n",
    "cb_dtrain = cb.Pool(data=train_x, label=train_y)\n",
    "cb_param = {'max_depth': 10,\n",
    "           'learning_rate': 0.01,\n",
    "           'n_estimators': 100,\n",
    "           'eval_metric': 'Accuracy',\n",
    "           'loss_function': 'MultiClass'}\n",
    "cb_model = cb.train(pool=cb_dtrain, params=cb_param)\n",
    "cb_model_predict = np.argmax(cb_model.predict(test_x), axis=1) + 1\n",
    "print(\"Accuracy: %.2f\" % (accuracy_score(test_y, cb_model_predict) * 100), \"%\") # 정확도 % 계산\n",
    "print(\"Time: %.2f\" % (time.time() - start), \"seconds\") # 코드 실행 시간 계산"
   ]
  },
  {
   "cell_type": "code",
   "execution_count": 17,
   "id": "8e21bd09",
   "metadata": {},
   "outputs": [
    {
     "data": {
      "text/plain": [
       "array([[-0.35426047,  1.22109587,  0.44230101, ..., -0.1698448 ,\n",
       "        -0.02059177, -0.2130643 ],\n",
       "       [-0.07235138,  0.42535181,  0.20060428, ...,  0.21863604,\n",
       "         0.2719157 ,  0.25089315],\n",
       "       [-0.3315885 , -0.31862353, -0.31279765, ..., -0.29798357,\n",
       "        -0.24018767, -0.32984969],\n",
       "       ...,\n",
       "       [ 0.05304325,  0.02500267, -0.14752573, ..., -0.20741963,\n",
       "         0.12789417,  1.51166757],\n",
       "       [-0.55093666,  1.7691278 ,  0.99746884, ..., -0.3420542 ,\n",
       "        -0.49799871, -0.38136323],\n",
       "       [-0.3033724 ,  0.09352675, -0.11808658, ...,  0.65825036,\n",
       "         1.05515787, -0.20799899]])"
      ]
     },
     "execution_count": 17,
     "metadata": {},
     "output_type": "execute_result"
    }
   ],
   "source": [
    "cb_model.predict(test_x)"
   ]
  },
  {
   "cell_type": "markdown",
   "id": "b537a8b6",
   "metadata": {},
   "source": [
    "# Bagging과 LightBGM 비교"
   ]
  },
  {
   "cell_type": "code",
   "execution_count": 18,
   "id": "67ca0936",
   "metadata": {},
   "outputs": [
    {
     "name": "stdout",
     "output_type": "stream",
     "text": [
      "(15129, 8) (6484, 8) (15129,) (6484,)\n"
     ]
    }
   ],
   "source": [
    "data = pd.read_csv(\"./data/kc_house_data.csv\") \n",
    "data = data.drop(['id', 'date', 'zipcode', 'lat', 'long'], axis = 1)\n",
    "feature_columns = list(data.columns.difference(['price'])) # Price를 제외한 모든 행\n",
    "X = data[feature_columns]\n",
    "y = data['price']\n",
    "train_x, test_x, train_y, test_y = train_test_split(X, y, test_size = 0.3, random_state = 42) # 학습데이터와 평가데이터의 비율을 7:3\n",
    "print(train_x.shape, test_x.shape, train_y.shape, test_y.shape) # 데이터 개수 확인"
   ]
  },
  {
   "cell_type": "code",
   "execution_count": 19,
   "id": "23dc4f75",
   "metadata": {},
   "outputs": [
    {
     "name": "stdout",
     "output_type": "stream",
     "text": [
      "[LightGBM] [Warning] Accuracy may be bad since you didn't explicitly set num_leaves OR 2^max_depth > num_leaves. (num_leaves=31).\n",
      "[LightGBM] [Warning] Accuracy may be bad since you didn't explicitly set num_leaves OR 2^max_depth > num_leaves. (num_leaves=31).\n",
      "[LightGBM] [Warning] Auto-choosing col-wise multi-threading, the overhead of testing was 0.002150 seconds.\n",
      "You can set `force_col_wise=true` to remove the overhead.\n",
      "[LightGBM] [Info] Total Bins 237\n",
      "[LightGBM] [Info] Number of data points in the train set: 15129, number of used features: 8\n",
      "[LightGBM] [Info] Start training from score 537729.263666\n"
     ]
    },
    {
     "name": "stderr",
     "output_type": "stream",
     "text": [
      "D:\\Installation\\Anaconda3\\lib\\site-packages\\lightgbm\\engine.py:148: UserWarning: Found `n_estimators` in params. Will use it instead of argument\n",
      "  _log_warning(\"Found `{}` in params. Will use it instead of argument\".format(alias))\n"
     ]
    },
    {
     "name": "stdout",
     "output_type": "stream",
     "text": [
      "[LightGBM] [Warning] No further splits with positive gain, best gain: -inf\n",
      "[LightGBM] [Warning] No further splits with positive gain, best gain: -inf\n",
      "[LightGBM] [Warning] No further splits with positive gain, best gain: -inf\n",
      "[LightGBM] [Warning] No further splits with positive gain, best gain: -inf\n",
      "[LightGBM] [Warning] No further splits with positive gain, best gain: -inf\n",
      "[LightGBM] [Warning] No further splits with positive gain, best gain: -inf\n",
      "[LightGBM] [Warning] No further splits with positive gain, best gain: -inf\n",
      "[LightGBM] [Warning] No further splits with positive gain, best gain: -inf\n",
      "[LightGBM] [Warning] No further splits with positive gain, best gain: -inf\n",
      "[LightGBM] [Warning] No further splits with positive gain, best gain: -inf\n",
      "[LightGBM] [Warning] No further splits with positive gain, best gain: -inf\n",
      "[LightGBM] [Warning] No further splits with positive gain, best gain: -inf\n"
     ]
    },
    {
     "data": {
      "text/plain": [
       "array([501716.63620816, 632581.56353778, 947111.30341027, ...,\n",
       "       341921.48670391, 923907.86981542, 457235.91311423])"
      ]
     },
     "execution_count": 19,
     "metadata": {},
     "output_type": "execute_result"
    }
   ],
   "source": [
    "start = time.time()\n",
    "lgb_dtrain = lgb.Dataset(data=train_x, label=train_y)\n",
    "lgb_param = {'max_depth': 10,\n",
    "            'n_estimators': 500,\n",
    "            'learning_rate': 0.01,\n",
    "            'objective': 'regression'}\n",
    "lgb_model = lgb.train(params=lgb_param, train_set=lgb_dtrain)\n",
    "lgb_model.predict(test_x)"
   ]
  },
  {
   "cell_type": "code",
   "execution_count": 20,
   "id": "21a461d7",
   "metadata": {},
   "outputs": [
    {
     "data": {
      "text/plain": [
       "210904.17249451784"
      ]
     },
     "execution_count": 20,
     "metadata": {},
     "output_type": "execute_result"
    }
   ],
   "source": [
    "from sklearn.metrics import mean_squared_error, r2_score\n",
    "from math import sqrt\n",
    "\n",
    "sqrt(mean_squared_error(lgb_model.predict(test_x),test_y))"
   ]
  },
  {
   "cell_type": "markdown",
   "id": "b9fa5b31",
   "metadata": {},
   "source": [
    "기본적으로 라이브러리들에 random_state가 지정되어 있기 때문에, 여러번 돌려도 같은 결과가 나온다  "
   ]
  },
  {
   "cell_type": "code",
   "execution_count": null,
   "id": "f948c728",
   "metadata": {},
   "outputs": [],
   "source": []
  }
 ],
 "metadata": {
  "hide_input": false,
  "kernelspec": {
   "display_name": "Python 3",
   "language": "python",
   "name": "python3"
  },
  "language_info": {
   "codemirror_mode": {
    "name": "ipython",
    "version": 3
   },
   "file_extension": ".py",
   "mimetype": "text/x-python",
   "name": "python",
   "nbconvert_exporter": "python",
   "pygments_lexer": "ipython3",
   "version": "3.8.8"
  },
  "toc": {
   "base_numbering": 1,
   "nav_menu": {},
   "number_sections": true,
   "sideBar": true,
   "skip_h1_title": false,
   "title_cell": "Table of Contents",
   "title_sidebar": "Contents",
   "toc_cell": false,
   "toc_position": {
    "height": "calc(100% - 180px)",
    "left": "10px",
    "top": "150px",
    "width": "307.2px"
   },
   "toc_section_display": true,
   "toc_window_display": true
  }
 },
 "nbformat": 4,
 "nbformat_minor": 5
}
