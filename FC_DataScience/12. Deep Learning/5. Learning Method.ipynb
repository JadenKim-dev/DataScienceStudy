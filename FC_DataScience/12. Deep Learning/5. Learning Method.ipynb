{
 "cells": [
  {
   "cell_type": "markdown",
   "id": "1d19b5c2",
   "metadata": {},
   "source": [
    "## import module"
   ]
  },
  {
   "cell_type": "code",
   "execution_count": 1,
   "id": "349bdfd5",
   "metadata": {},
   "outputs": [],
   "source": [
    "import tensorflow as tf"
   ]
  },
  {
   "cell_type": "markdown",
   "id": "7a1cf8e3",
   "metadata": {},
   "source": [
    "## hyper Parameter"
   ]
  },
  {
   "cell_type": "code",
   "execution_count": 2,
   "id": "4e04c462",
   "metadata": {},
   "outputs": [],
   "source": [
    "EPOCHS = 10"
   ]
  },
  {
   "cell_type": "markdown",
   "id": "365662ee",
   "metadata": {},
   "source": [
    "## Network"
   ]
  },
  {
   "cell_type": "code",
   "execution_count": 3,
   "id": "d8acd70f",
   "metadata": {},
   "outputs": [],
   "source": [
    "class MyModel(tf.keras.Model):  # tf.keras.Model을 상속\n",
    "    # 사용할 layer들을 정의\n",
    "    def __init__(self):\n",
    "        super().__init__()  # 상위의 tf.keras.Model의 __init__을 call\n",
    "        self.flatten = tf.keras.layers.Flatten(input_shape=(28, 28))\n",
    "        self.dense1 = tf.keras.layers.Dense(32, activation='relu')  # 몇개의 뉴런을 쓸 것인지 지정\n",
    "        self.dense2 = tf.keras.layers.Dense(64, activation='relu')\n",
    "        self.dense3 = tf.keras.layers.Dense(128, activation='relu')\n",
    "        self.dense4 = tf.keras.layers.Dense(256, activation='relu')\n",
    "        self.dense5 = tf.keras.layers.Dense(10, activation='softmax')  # 출력 계층\n",
    "        \n",
    "    # layer 간의 연결성을 정의\n",
    "    def call(self, x, training=None, mask=None):\n",
    "        x = self.flatten(x)\n",
    "        x = self.dense1(x)\n",
    "        x = self.dense2(x)\n",
    "        x = self.dense3(x)\n",
    "        x = self.dense4(x)\n",
    "        return self.dense5(x)"
   ]
  },
  {
   "cell_type": "markdown",
   "id": "5220d9b5",
   "metadata": {},
   "source": [
    "## Learning Function"
   ]
  },
  {
   "cell_type": "code",
   "execution_count": 4,
   "id": "c1d33f76",
   "metadata": {},
   "outputs": [],
   "source": [
    "@tf.function\n",
    "def train_step(model, images, labels, loss_object, optimizer, train_loss, train_accuracy):\n",
    "    with tf.GradientTape() as tape:  # 이 안에서의 연산에 대해 Gradient 계산할 것임을 알려주는 것 -> 중간값 저장\n",
    "        # Forward 계산을 수행\n",
    "        predictions = model(images)  # BatchSize x 10(Classes)\n",
    "        loss = loss_object(labels, predictions)  \n",
    "    gradients = tape.gradient(loss, model.trainable_variables)  # loss를 모든 trainable variables로 미분\n",
    "    # optimizer에 gradient와 variable을 iteration할 수 있는 개체를 넣어준다\n",
    "    optimizer.apply_gradients(zip(gradients, model.trainable_variables)) \n",
    "    \n",
    "    train_loss(loss)\n",
    "    train_accuracy(labels, predictions)"
   ]
  },
  {
   "cell_type": "markdown",
   "id": "5407c0a6",
   "metadata": {},
   "source": [
    "## Test Function"
   ]
  },
  {
   "cell_type": "code",
   "execution_count": 5,
   "id": "8542408d",
   "metadata": {},
   "outputs": [],
   "source": [
    "@tf.function\n",
    "def test_step(model, images, labels, loss_object, test_loss, test_accuracy):\n",
    "    predictions = model(images)  # BatchSize x 10(Classes)\n",
    "    loss = loss_object(labels, predictions)  \n",
    "    \n",
    "    test_loss(loss)\n",
    "    test_accuracy(labels, predictions)"
   ]
  },
  {
   "cell_type": "markdown",
   "id": "4cb4a6eb",
   "metadata": {},
   "source": [
    "## load data"
   ]
  },
  {
   "cell_type": "code",
   "execution_count": 6,
   "id": "3cc60325",
   "metadata": {},
   "outputs": [],
   "source": [
    "mnist = tf.keras.datasets.mnist\n",
    "\n",
    "(x_train, y_train), (x_test, y_test) = mnist.load_data()\n",
    "x_train, x_test = x_train / 255.0, x_test / 255.0\n",
    "\n",
    "train_ds = tf.data.Dataset.from_tensor_slices((x_train, y_train)).shuffle(1024).batch(32)  # 한번에 1024개씩 섞음, 32 크기의 배치\n",
    "test_ds = tf.data.Dataset.from_tensor_slices((x_train, y_train)).batch(32)"
   ]
  },
  {
   "cell_type": "markdown",
   "id": "bad1e8b3",
   "metadata": {},
   "source": [
    "## Model Creation "
   ]
  },
  {
   "cell_type": "code",
   "execution_count": 7,
   "id": "cf36c63c",
   "metadata": {},
   "outputs": [],
   "source": [
    "model = MyModel()"
   ]
  },
  {
   "cell_type": "markdown",
   "id": "c86648ca",
   "metadata": {},
   "source": [
    "## Define Loss Function & Optimizer"
   ]
  },
  {
   "cell_type": "code",
   "execution_count": 8,
   "id": "7586a9d8",
   "metadata": {},
   "outputs": [
    {
     "name": "stdout",
     "output_type": "stream",
     "text": [
      "[5 0 4 ... 5 6 8]\n"
     ]
    }
   ],
   "source": [
    "print(y_train)"
   ]
  },
  {
   "cell_type": "markdown",
   "id": "c0772edd",
   "metadata": {},
   "source": [
    "-> label이 sparse로 표현되어 있음"
   ]
  },
  {
   "cell_type": "code",
   "execution_count": 9,
   "id": "7c8be446",
   "metadata": {},
   "outputs": [],
   "source": [
    "loss_object = tf.keras.losses.SparseCategoricalCrossentropy() \n",
    "optimizer = tf.keras.optimizers.Adam()"
   ]
  },
  {
   "cell_type": "markdown",
   "id": "9db90cae",
   "metadata": {},
   "source": [
    "## Performance Measure"
   ]
  },
  {
   "cell_type": "code",
   "execution_count": 10,
   "id": "af353c10",
   "metadata": {},
   "outputs": [],
   "source": [
    "train_loss = tf.keras.metrics.Mean(name='train_loss')  # loss_object를 통해 계산되기 때문에, 평균만 취하면 된다\n",
    "train_accuracy = tf.keras.metrics.SparseCategoricalAccuracy(name='train_accuracy')\n",
    "\n",
    "test_loss = tf.keras.metrics.Mean(name='test_loss')\n",
    "test_accuracy = tf.keras.metrics.SparseCategoricalAccuracy(name='test_accuracy')"
   ]
  },
  {
   "cell_type": "markdown",
   "id": "dfab8293",
   "metadata": {},
   "source": [
    "## Learning Loop"
   ]
  },
  {
   "cell_type": "code",
   "execution_count": 11,
   "id": "c297a100",
   "metadata": {},
   "outputs": [
    {
     "name": "stdout",
     "output_type": "stream",
     "text": [
      "Epoch: 1, Loss: 0.2898961007595062, Accuracy: 91.3183364868164, Test Loss: 0.19621062278747559, Test Accuracy: 94.00833129882812\n",
      "Epoch: 2, Loss: 0.14421550929546356, Accuracy: 95.64666748046875, Test Loss: 0.11777592450380325, Test Accuracy: 96.38166809082031\n",
      "Epoch: 3, Loss: 0.11211853474378586, Accuracy: 96.55500030517578, Test Loss: 0.08750618249177933, Test Accuracy: 97.2316665649414\n",
      "Epoch: 4, Loss: 0.09341669082641602, Accuracy: 97.1500015258789, Test Loss: 0.08779022097587585, Test Accuracy: 97.23500061035156\n",
      "Epoch: 5, Loss: 0.08241380006074905, Accuracy: 97.4566650390625, Test Loss: 0.07240936905145645, Test Accuracy: 97.7199935913086\n",
      "Epoch: 6, Loss: 0.07177798449993134, Accuracy: 97.74500274658203, Test Loss: 0.06209031865000725, Test Accuracy: 98.02667236328125\n",
      "Epoch: 7, Loss: 0.06203311309218407, Accuracy: 98.01166534423828, Test Loss: 0.05371179059147835, Test Accuracy: 98.3566665649414\n",
      "Epoch: 8, Loss: 0.05667498707771301, Accuracy: 98.2249984741211, Test Loss: 0.06433461606502533, Test Accuracy: 97.94667053222656\n",
      "Epoch: 9, Loss: 0.05165575072169304, Accuracy: 98.3550033569336, Test Loss: 0.043205153197050095, Test Accuracy: 98.55999755859375\n",
      "Epoch: 10, Loss: 0.04819798842072487, Accuracy: 98.43500518798828, Test Loss: 0.0589476153254509, Test Accuracy: 98.1933364868164\n"
     ]
    }
   ],
   "source": [
    "for epoch in range(EPOCHS):\n",
    "    for images, labels in train_ds:\n",
    "        train_step(model, images, labels, loss_object, optimizer, train_loss, train_accuracy)\n",
    "    for images, labels in test_ds:\n",
    "        test_step(model, images, labels, loss_object, test_loss, test_accuracy)\n",
    "    \n",
    "    template = 'Epoch: {}, Loss: {}, Accuracy: {}, Test Loss: {}, Test Accuracy: {}'\n",
    "    print(template.format(epoch+1, train_loss.result(), train_accuracy.result() * 100, \n",
    "                          test_loss.result(), test_accuracy.result() * 100))\n",
    "    train_loss.reset_states()\n",
    "    train_accuracy.reset_states()\n",
    "\n",
    "    test_loss.reset_states()\n",
    "    test_accuracy.reset_states()\n",
    "    "
   ]
  }
 ],
 "metadata": {
  "hide_input": false,
  "kernelspec": {
   "display_name": "Python 3",
   "language": "python",
   "name": "python3"
  },
  "language_info": {
   "codemirror_mode": {
    "name": "ipython",
    "version": 3
   },
   "file_extension": ".py",
   "mimetype": "text/x-python",
   "name": "python",
   "nbconvert_exporter": "python",
   "pygments_lexer": "ipython3",
   "version": "3.7.10"
  },
  "toc": {
   "base_numbering": 1,
   "nav_menu": {},
   "number_sections": true,
   "sideBar": true,
   "skip_h1_title": false,
   "title_cell": "Table of Contents",
   "title_sidebar": "Contents",
   "toc_cell": false,
   "toc_position": {},
   "toc_section_display": true,
   "toc_window_display": false
  }
 },
 "nbformat": 4,
 "nbformat_minor": 5
}
