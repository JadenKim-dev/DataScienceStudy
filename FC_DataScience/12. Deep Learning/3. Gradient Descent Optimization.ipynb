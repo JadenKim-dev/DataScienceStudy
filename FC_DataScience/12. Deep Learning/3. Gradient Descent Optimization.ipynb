{
 "cells": [
  {
   "cell_type": "markdown",
   "id": "30abaaf3",
   "metadata": {},
   "source": [
    "## import module"
   ]
  },
  {
   "cell_type": "code",
   "execution_count": 23,
   "id": "2ac76c36",
   "metadata": {},
   "outputs": [],
   "source": [
    "import numpy as np\n",
    "import matplotlib.pyplot as plt"
   ]
  },
  {
   "cell_type": "markdown",
   "id": "fc87c6f9",
   "metadata": {},
   "source": [
    "## 손실 함수 정의(Analytic)"
   ]
  },
  {
   "cell_type": "markdown",
   "id": "5463b1fc",
   "metadata": {},
   "source": [
    "손실함수를 알고 있다고 가정 -> analytic solution 사용"
   ]
  },
  {
   "cell_type": "code",
   "execution_count": 10,
   "id": "ac7dbd3d",
   "metadata": {},
   "outputs": [],
   "source": [
    "def f(x):\n",
    "    return 0.1*x**4 - 1.5*x**3 + 0.6*x**2 + 1.0*x +20.0"
   ]
  },
  {
   "cell_type": "markdown",
   "id": "fd8c869a",
   "metadata": {},
   "source": [
    "## 손실함수 미분 정의"
   ]
  },
  {
   "cell_type": "code",
   "execution_count": 11,
   "id": "77a6f6f0",
   "metadata": {},
   "outputs": [],
   "source": [
    "def df_dx(x):\n",
    "    return 0.4*x**3 - 4.5*x**2 + 1.2*x + 1.0"
   ]
  },
  {
   "cell_type": "markdown",
   "id": "9e30dc84",
   "metadata": {},
   "source": [
    "## Hyper Parameter 정의"
   ]
  },
  {
   "cell_type": "code",
   "execution_count": 18,
   "id": "f213b37c",
   "metadata": {},
   "outputs": [],
   "source": [
    "x= 5\n",
    "eps = 1e-5\n",
    "lr = 0.01\n",
    "max_epoch = 1000"
   ]
  },
  {
   "cell_type": "markdown",
   "id": "5b657cad",
   "metadata": {},
   "source": [
    "## Gradient Descent 알고리즘 구현"
   ]
  },
  {
   "cell_type": "code",
   "execution_count": 24,
   "id": "bdc4dca0",
   "metadata": {},
   "outputs": [],
   "source": [
    "def gradient_descent(initial_x, max_epoch=1000, learning_rate=0.01, eps=1e-5):\n",
    "    x = initial_x\n",
    "    \n",
    "    x_log = [x]\n",
    "    \n",
    "    min_x = x\n",
    "    min_y = f(min_x)\n",
    "    for _ in range(max_epoch):\n",
    "        grad = df_dx(x)\n",
    "        new_x = x - learning_rate * grad\n",
    "        y = f(new_x)\n",
    "\n",
    "        x_log.append(new_x)\n",
    "        \n",
    "        if min_y > y:\n",
    "            min_x = new_x\n",
    "            min_y = y\n",
    "\n",
    "        if np.abs(x - new_x) < eps:\n",
    "            break\n",
    "\n",
    "        x = new_x\n",
    "    return min_x, min_y, x_log"
   ]
  },
  {
   "cell_type": "code",
   "execution_count": 25,
   "id": "40f196ee",
   "metadata": {},
   "outputs": [
    {
     "name": "stdout",
     "output_type": "stream",
     "text": [
      "10.955323272631201 -428.84677390087836\n"
     ]
    }
   ],
   "source": [
    "print(min_x, min_y)"
   ]
  },
  {
   "cell_type": "markdown",
   "id": "74937fd7",
   "metadata": {},
   "source": [
    "## 알고리즘 결과 시각화"
   ]
  },
  {
   "cell_type": "code",
   "execution_count": 35,
   "id": "26c594c3",
   "metadata": {},
   "outputs": [
    {
     "data": {
      "image/png": "[encoded data removed]",
      "text/plain": [
       "<Figure size 432x288 with 1 Axes>"
      ]
     },
     "metadata": {
      "needs_background": "light"
     },
     "output_type": "display_data"
    }
   ],
   "source": [
    "min_x1, min_y1, x_log1 = gradient_descent(initial_x=5)\n",
    "min_x2, min_y2, x_log2 = gradient_descent(initial_x=-5)\n",
    "min_x3, min_y3, x_log3 = gradient_descent(initial_x=1)\n",
    "min_x4, min_y4, x_log4 = gradient_descent(initial_x=15, learning_rate=0.005)\n",
    "\n",
    "y_log1 = f(np.array(x_log1))\n",
    "y_log2 = f(np.array(x_log2))\n",
    "y_log3 = f(np.array(x_log3))\n",
    "y_log4 = f(np.array(x_log4))\n",
    "\n",
    "plt.plot(x_log1, y_log1, '.-')\n",
    "plt.plot(x_log2, y_log2, '.-')\n",
    "plt.plot(x_log3, y_log3, '.-')\n",
    "plt.plot(x_log4, y_log4, '.-')\n",
    "plt.show()"
   ]
  },
  {
   "cell_type": "code",
   "execution_count": null,
   "id": "28a31710",
   "metadata": {},
   "outputs": [],
   "source": [
    "# 5에서 시작한 y_log1의 경우에는 global min에 자리잡았다.  \n",
    "# -5에서 시작한 y_log1의 경우에는 local min에 자리잡았다."
   ]
  }
 ],
 "metadata": {
  "hide_input": false,
  "kernelspec": {
   "display_name": "Python 3",
   "language": "python",
   "name": "python3"
  },
  "language_info": {
   "codemirror_mode": {
    "name": "ipython",
    "version": 3
   },
   "file_extension": ".py",
   "mimetype": "text/x-python",
   "name": "python",
   "nbconvert_exporter": "python",
   "pygments_lexer": "ipython3",
   "version": "3.7.10"
  },
  "toc": {
   "base_numbering": 1,
   "nav_menu": {},
   "number_sections": true,
   "sideBar": true,
   "skip_h1_title": false,
   "title_cell": "Table of Contents",
   "title_sidebar": "Contents",
   "toc_cell": false,
   "toc_position": {},
   "toc_section_display": true,
   "toc_window_display": false
  }
 },
 "nbformat": 4,
 "nbformat_minor": 5
}
