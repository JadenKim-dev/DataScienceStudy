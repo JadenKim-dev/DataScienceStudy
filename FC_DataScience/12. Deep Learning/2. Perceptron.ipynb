{
 "cells": [
  {
   "cell_type": "markdown",
   "id": "1894976c",
   "metadata": {},
   "source": [
    "## import module"
   ]
  },
  {
   "cell_type": "code",
   "execution_count": 1,
   "id": "4a9c5e96",
   "metadata": {},
   "outputs": [],
   "source": [
    "import tensorflow as tf\n",
    "import numpy as np"
   ]
  },
  {
   "cell_type": "markdown",
   "id": "08118f2e",
   "metadata": {},
   "source": [
    "## Perceptron 정의"
   ]
  },
  {
   "cell_type": "code",
   "execution_count": 2,
   "id": "bf301b75",
   "metadata": {},
   "outputs": [],
   "source": [
    "class Perceptron:\n",
    "    def __init__(self, w, b):   # w: weight, b: bias  -> tensor로 변환\n",
    "        self.w = tf.Variable(w, dtype=tf.float32)\n",
    "        self.b = tf.Variable(b, dtype=tf.float32)\n",
    "    \n",
    "    def __call__(self, x):  # Perceptron을 통과했을 때의 출력\n",
    "        return tf.sign(tf.reduce_sum(self.w * x) + self.b)  # activation function : sign"
   ]
  },
  {
   "cell_type": "markdown",
   "id": "c360bc9b",
   "metadata": {},
   "source": [
    "## Utility 함수 구현"
   ]
  },
  {
   "cell_type": "markdown",
   "id": "f90ebc2f",
   "metadata": {},
   "source": [
    "np.array를 v로 간단하게 입력"
   ]
  },
  {
   "cell_type": "code",
   "execution_count": 3,
   "id": "2701155c",
   "metadata": {},
   "outputs": [],
   "source": [
    "def v(*args):\n",
    "    return np.array(args)"
   ]
  },
  {
   "cell_type": "markdown",
   "id": "6165f6c5",
   "metadata": {},
   "source": [
    "## OR 연산 Perceptron 구현"
   ]
  },
  {
   "cell_type": "code",
   "execution_count": 4,
   "id": "59f2dee1",
   "metadata": {},
   "outputs": [],
   "source": [
    "w = v(1, 1)\n",
    "b = 0.5\n",
    "perceptron = Perceptron(w, b)"
   ]
  },
  {
   "cell_type": "markdown",
   "id": "3ae72ba4",
   "metadata": {},
   "source": [
    "### Perceptron 동작 확인"
   ]
  },
  {
   "cell_type": "code",
   "execution_count": 5,
   "id": "ef62dfbd",
   "metadata": {},
   "outputs": [
    {
     "name": "stdout",
     "output_type": "stream",
     "text": [
      "1.0 1.0\n",
      "-1.0 1.0\n"
     ]
    }
   ],
   "source": [
    "p1 = perceptron(v(1, 1))     # 1사분면 T,T\n",
    "p2 = perceptron(v(-1, 1))    # 2사분면 F,T\n",
    "p3 = perceptron(v(-1, -1))   # 3사분면 F,F\n",
    "p4 = perceptron(v(1, -1))    # 4사분면 T,F\n",
    "\n",
    "print(p2.numpy(), p1.numpy())   # 출력값은 Tesor이기 때문에, 값으로써 출력하기 위해서는 .numpy()를 해줘야 함\n",
    "print(p3.numpy(), p4.numpy())"
   ]
  },
  {
   "cell_type": "markdown",
   "id": "ccf02227",
   "metadata": {},
   "source": [
    "## XOR Perceptron 구현"
   ]
  },
  {
   "cell_type": "code",
   "execution_count": 6,
   "id": "77b7b1fb",
   "metadata": {},
   "outputs": [],
   "source": [
    "p_nand = Perceptron(w=v(-1, -1), b=0.5)\n",
    "p_or = Perceptron(w=v(1, 1), b=0.5)\n",
    "p_and = Perceptron(w=v(1, 1), b=-0.5)"
   ]
  },
  {
   "cell_type": "code",
   "execution_count": 7,
   "id": "8db65576",
   "metadata": {},
   "outputs": [],
   "source": [
    "def xor(x):\n",
    "    h1 = p_nand(x)\n",
    "    h2 = p_or(x)\n",
    "    return p_and(v(h1, h2))"
   ]
  },
  {
   "cell_type": "markdown",
   "id": "cc11560f",
   "metadata": {},
   "source": [
    "### Perceptron 동작 확인"
   ]
  },
  {
   "cell_type": "code",
   "execution_count": 8,
   "id": "30155196",
   "metadata": {},
   "outputs": [
    {
     "name": "stdout",
     "output_type": "stream",
     "text": [
      "1.0 -1.0\n",
      "-1.0 1.0\n"
     ]
    }
   ],
   "source": [
    "p1 = xor(v(1, 1))     # 1사분면 T,T\n",
    "p2 = xor(v(-1, 1))    # 2사분면 F,T\n",
    "p3 = xor(v(-1, -1))   # 3사분면 F,F\n",
    "p4 = xor(v(1, -1))    # 4사분면 T,F\n",
    "\n",
    "print(p2.numpy(), p1.numpy())\n",
    "print(p3.numpy(), p4.numpy())"
   ]
  }
 ],
 "metadata": {
  "hide_input": false,
  "kernelspec": {
   "display_name": "Python 3",
   "language": "python",
   "name": "python3"
  },
  "language_info": {
   "codemirror_mode": {
    "name": "ipython",
    "version": 3
   },
   "file_extension": ".py",
   "mimetype": "text/x-python",
   "name": "python",
   "nbconvert_exporter": "python",
   "pygments_lexer": "ipython3",
   "version": "3.7.10"
  },
  "toc": {
   "base_numbering": 1,
   "nav_menu": {},
   "number_sections": true,
   "sideBar": true,
   "skip_h1_title": false,
   "title_cell": "Table of Contents",
   "title_sidebar": "Contents",
   "toc_cell": false,
   "toc_position": {},
   "toc_section_display": true,
   "toc_window_display": false
  }
 },
 "nbformat": 4,
 "nbformat_minor": 5
}
