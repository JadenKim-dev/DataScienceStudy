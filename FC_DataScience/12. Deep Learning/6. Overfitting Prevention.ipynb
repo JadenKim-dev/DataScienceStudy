{
 "cells": [
  {
   "cell_type": "markdown",
   "id": "274f99ca",
   "metadata": {},
   "source": [
    "## import module"
   ]
  },
  {
   "cell_type": "code",
   "execution_count": 1,
   "id": "fe53ec05",
   "metadata": {},
   "outputs": [],
   "source": [
    "import tensorflow as tf\n",
    "import numpy as np\n",
    "import matplotlib.pyplot as plt"
   ]
  },
  {
   "cell_type": "markdown",
   "id": "d2338cc1",
   "metadata": {},
   "source": [
    "## Load Data"
   ]
  },
  {
   "cell_type": "code",
   "execution_count": 2,
   "id": "daaf3977",
   "metadata": {},
   "outputs": [],
   "source": [
    "fashion_mnist = tf.keras.datasets.fashion_mnist\n",
    "\n",
    "(x_train, y_train), (x_test, y_test) = fashion_mnist.load_data()\n",
    "x_train, x_test = x_train / 255.0, x_test / 255.0\n",
    "\n",
    "x_train = x_train.astype(np.float32)\n",
    "x_test = x_test.astype(np.float32)\n",
    "\n",
    "train_ds = tf.data.Dataset.from_tensor_slices((x_train, y_train)).shuffle(10000).batch(32).prefetch(20)\n",
    "test_ds = tf.data.Dataset.from_tensor_slices((x_test, y_test)).batch(32).prefetch(20)"
   ]
  },
  {
   "cell_type": "markdown",
   "id": "66f68798",
   "metadata": {},
   "source": [
    "## Define Hyper Parameter"
   ]
  },
  {
   "cell_type": "code",
   "execution_count": 3,
   "id": "c69f49ab",
   "metadata": {},
   "outputs": [],
   "source": [
    "EPOCHS = 50"
   ]
  },
  {
   "cell_type": "markdown",
   "id": "60d13ba0",
   "metadata": {},
   "source": [
    "## Training with Overfitting"
   ]
  },
  {
   "cell_type": "markdown",
   "id": "4e78d12d",
   "metadata": {},
   "source": [
    "### Define Network Structure"
   ]
  },
  {
   "cell_type": "code",
   "execution_count": 4,
   "id": "70377720",
   "metadata": {},
   "outputs": [],
   "source": [
    "class MyModel(tf.keras.Model):\n",
    "    def __init__(self):\n",
    "        super(MyModel, self).__init__()\n",
    "        self.flatten = tf.keras.layers.Flatten()\n",
    "        self.dense1 = tf.keras.layers.Dense(64, activation='relu')\n",
    "        self.dense2 = tf.keras.layers.Dense(64, activation='relu')\n",
    "        self.dense3 = tf.keras.layers.Dense(64, activation='relu')\n",
    "        self.dense4 = tf.keras.layers.Dense(64, activation='relu')\n",
    "        self.dense5 = tf.keras.layers.Dense(64, activation='softmax')\n",
    "    \n",
    "    def call(self, x, trainint=False, mask=None):\n",
    "        h = self.flatten(x)\n",
    "        h = self.dense1(h)\n",
    "        h = self.dense2(h)\n",
    "        h = self.dense3(h)\n",
    "        h = self.dense4(h)\n",
    "        return self.dense5(h)"
   ]
  },
  {
   "cell_type": "markdown",
   "id": "6b782f0d",
   "metadata": {},
   "source": [
    "### Model Creation"
   ]
  },
  {
   "cell_type": "markdown",
   "id": "a3cfc615",
   "metadata": {},
   "source": [
    "Native 방식을 사용하지 않고, keras를 사용해서 학습"
   ]
  },
  {
   "cell_type": "code",
   "execution_count": 5,
   "id": "8b94fc41",
   "metadata": {},
   "outputs": [],
   "source": [
    "model = MyModel()\n",
    "model.compile(optimizer='adam', loss='sparse_categorical_crossentropy', metrics=['accuracy'])"
   ]
  },
  {
   "cell_type": "markdown",
   "id": "3b549860",
   "metadata": {},
   "source": [
    "### Model Training"
   ]
  },
  {
   "cell_type": "code",
   "execution_count": 6,
   "id": "8dfc0476",
   "metadata": {
    "scrolled": true
   },
   "outputs": [
    {
     "name": "stdout",
     "output_type": "stream",
     "text": [
      "Epoch 1/50\n",
      "1875/1875 [==============================] - 5s 2ms/step - loss: 0.5473 - accuracy: 0.8053 - val_loss: 0.4538 - val_accuracy: 0.8378\n",
      "Epoch 2/50\n",
      "1875/1875 [==============================] - 4s 2ms/step - loss: 0.3905 - accuracy: 0.8570 - val_loss: 0.3868 - val_accuracy: 0.8598\n",
      "Epoch 3/50\n",
      "1875/1875 [==============================] - 4s 2ms/step - loss: 0.3522 - accuracy: 0.8701 - val_loss: 0.4214 - val_accuracy: 0.8454\n",
      "Epoch 4/50\n",
      "1875/1875 [==============================] - 4s 2ms/step - loss: 0.3273 - accuracy: 0.8800 - val_loss: 0.3727 - val_accuracy: 0.8672\n",
      "Epoch 5/50\n",
      "1875/1875 [==============================] - 4s 2ms/step - loss: 0.3124 - accuracy: 0.8844 - val_loss: 0.3583 - val_accuracy: 0.8744\n",
      "Epoch 6/50\n",
      "1875/1875 [==============================] - 4s 2ms/step - loss: 0.2991 - accuracy: 0.8884 - val_loss: 0.3496 - val_accuracy: 0.8740\n",
      "Epoch 7/50\n",
      "1875/1875 [==============================] - 4s 2ms/step - loss: 0.2903 - accuracy: 0.8918 - val_loss: 0.3462 - val_accuracy: 0.8740\n",
      "Epoch 8/50\n",
      "1875/1875 [==============================] - 4s 2ms/step - loss: 0.2769 - accuracy: 0.8966 - val_loss: 0.3523 - val_accuracy: 0.8750\n",
      "Epoch 9/50\n",
      "1875/1875 [==============================] - 4s 2ms/step - loss: 0.2699 - accuracy: 0.8988 - val_loss: 0.3429 - val_accuracy: 0.8762\n",
      "Epoch 10/50\n",
      "1875/1875 [==============================] - 4s 2ms/step - loss: 0.2621 - accuracy: 0.9023 - val_loss: 0.3488 - val_accuracy: 0.8783\n",
      "Epoch 11/50\n",
      "1875/1875 [==============================] - 4s 2ms/step - loss: 0.2538 - accuracy: 0.9051 - val_loss: 0.3596 - val_accuracy: 0.8723\n",
      "Epoch 12/50\n",
      "1875/1875 [==============================] - 4s 2ms/step - loss: 0.2467 - accuracy: 0.9068 - val_loss: 0.3456 - val_accuracy: 0.8806\n",
      "Epoch 13/50\n",
      "1875/1875 [==============================] - 4s 2ms/step - loss: 0.2407 - accuracy: 0.9110 - val_loss: 0.3376 - val_accuracy: 0.8810\n",
      "Epoch 14/50\n",
      "1875/1875 [==============================] - 4s 2ms/step - loss: 0.2354 - accuracy: 0.9115 - val_loss: 0.3444 - val_accuracy: 0.8818\n",
      "Epoch 15/50\n",
      "1875/1875 [==============================] - 5s 2ms/step - loss: 0.2319 - accuracy: 0.9132 - val_loss: 0.3386 - val_accuracy: 0.8832\n",
      "Epoch 16/50\n",
      "1875/1875 [==============================] - 5s 2ms/step - loss: 0.2228 - accuracy: 0.9162 - val_loss: 0.3456 - val_accuracy: 0.8825\n",
      "Epoch 17/50\n",
      "1875/1875 [==============================] - 4s 2ms/step - loss: 0.2190 - accuracy: 0.9171 - val_loss: 0.3437 - val_accuracy: 0.8850\n",
      "Epoch 18/50\n",
      "1875/1875 [==============================] - 5s 2ms/step - loss: 0.2153 - accuracy: 0.9184 - val_loss: 0.3763 - val_accuracy: 0.8746\n",
      "Epoch 19/50\n",
      "1875/1875 [==============================] - 5s 2ms/step - loss: 0.2094 - accuracy: 0.9205 - val_loss: 0.3519 - val_accuracy: 0.8833\n",
      "Epoch 20/50\n",
      "1875/1875 [==============================] - 5s 3ms/step - loss: 0.2042 - accuracy: 0.9227 - val_loss: 0.3464 - val_accuracy: 0.8868\n",
      "Epoch 21/50\n",
      "1875/1875 [==============================] - 4s 2ms/step - loss: 0.2017 - accuracy: 0.9245 - val_loss: 0.3758 - val_accuracy: 0.8786\n",
      "Epoch 22/50\n",
      "1875/1875 [==============================] - 4s 2ms/step - loss: 0.1992 - accuracy: 0.9242 - val_loss: 0.3732 - val_accuracy: 0.8873\n",
      "Epoch 23/50\n",
      "1875/1875 [==============================] - 4s 2ms/step - loss: 0.1953 - accuracy: 0.9254 - val_loss: 0.3638 - val_accuracy: 0.8834\n",
      "Epoch 24/50\n",
      "1875/1875 [==============================] - 4s 2ms/step - loss: 0.1903 - accuracy: 0.9275 - val_loss: 0.4136 - val_accuracy: 0.8748\n",
      "Epoch 25/50\n",
      "1875/1875 [==============================] - 4s 2ms/step - loss: 0.1884 - accuracy: 0.9290 - val_loss: 0.3711 - val_accuracy: 0.8866\n",
      "Epoch 26/50\n",
      "1875/1875 [==============================] - 4s 2ms/step - loss: 0.1866 - accuracy: 0.9289 - val_loss: 0.3754 - val_accuracy: 0.8839\n",
      "Epoch 27/50\n",
      "1875/1875 [==============================] - 4s 2ms/step - loss: 0.1821 - accuracy: 0.9301 - val_loss: 0.3605 - val_accuracy: 0.8879\n",
      "Epoch 28/50\n",
      "1875/1875 [==============================] - 4s 2ms/step - loss: 0.1780 - accuracy: 0.9320 - val_loss: 0.3722 - val_accuracy: 0.8893\n",
      "Epoch 29/50\n",
      "1875/1875 [==============================] - 4s 2ms/step - loss: 0.1770 - accuracy: 0.9330 - val_loss: 0.3871 - val_accuracy: 0.8857\n",
      "Epoch 30/50\n",
      "1875/1875 [==============================] - 4s 2ms/step - loss: 0.1733 - accuracy: 0.9341 - val_loss: 0.3987 - val_accuracy: 0.8859s: 0.1715 - accuracy - ETA: \n",
      "Epoch 31/50\n",
      "1875/1875 [==============================] - 4s 2ms/step - loss: 0.1689 - accuracy: 0.9357 - val_loss: 0.3901 - val_accuracy: 0.8860\n",
      "Epoch 32/50\n",
      "1875/1875 [==============================] - 4s 2ms/step - loss: 0.1678 - accuracy: 0.9364 - val_loss: 0.3917 - val_accuracy: 0.8858\n",
      "Epoch 33/50\n",
      "1875/1875 [==============================] - 4s 2ms/step - loss: 0.1677 - accuracy: 0.9360 - val_loss: 0.4182 - val_accuracy: 0.8866\n",
      "Epoch 34/50\n",
      "1875/1875 [==============================] - 4s 2ms/step - loss: 0.1658 - accuracy: 0.9365 - val_loss: 0.4624 - val_accuracy: 0.8797\n",
      "Epoch 35/50\n",
      "1875/1875 [==============================] - 4s 2ms/step - loss: 0.1626 - accuracy: 0.9383 - val_loss: 0.4049 - val_accuracy: 0.8781\n",
      "Epoch 36/50\n",
      "1875/1875 [==============================] - 4s 2ms/step - loss: 0.1582 - accuracy: 0.9398 - val_loss: 0.4714 - val_accuracy: 0.8836\n",
      "Epoch 37/50\n",
      "1875/1875 [==============================] - 4s 2ms/step - loss: 0.1563 - accuracy: 0.9403 - val_loss: 0.4410 - val_accuracy: 0.8887\n",
      "Epoch 38/50\n",
      "1875/1875 [==============================] - 4s 2ms/step - loss: 0.1556 - accuracy: 0.9403 - val_loss: 0.4209 - val_accuracy: 0.8834\n",
      "Epoch 39/50\n",
      "1875/1875 [==============================] - 4s 2ms/step - loss: 0.1516 - accuracy: 0.9422 - val_loss: 0.4693 - val_accuracy: 0.8828\n",
      "Epoch 40/50\n",
      "1875/1875 [==============================] - 4s 2ms/step - loss: 0.1501 - accuracy: 0.9434 - val_loss: 0.4679 - val_accuracy: 0.8849\n",
      "Epoch 41/50\n",
      "1875/1875 [==============================] - 4s 2ms/step - loss: 0.1502 - accuracy: 0.9427 - val_loss: 0.4482 - val_accuracy: 0.8799\n",
      "Epoch 42/50\n",
      "1875/1875 [==============================] - 4s 2ms/step - loss: 0.1489 - accuracy: 0.9428 - val_loss: 0.4232 - val_accuracy: 0.8838\n",
      "Epoch 43/50\n",
      "1875/1875 [==============================] - 4s 2ms/step - loss: 0.1491 - accuracy: 0.9442 - val_loss: 0.4616 - val_accuracy: 0.8850\n",
      "Epoch 44/50\n",
      "1875/1875 [==============================] - 4s 2ms/step - loss: 0.1457 - accuracy: 0.9439 - val_loss: 0.4941 - val_accuracy: 0.8815\n",
      "Epoch 45/50\n",
      "1875/1875 [==============================] - 4s 2ms/step - loss: 0.1444 - accuracy: 0.9456 - val_loss: 0.4466 - val_accuracy: 0.8877\n",
      "Epoch 46/50\n",
      "1875/1875 [==============================] - 4s 2ms/step - loss: 0.1416 - accuracy: 0.9463 - val_loss: 0.4628 - val_accuracy: 0.8849\n",
      "Epoch 47/50\n",
      "1875/1875 [==============================] - 4s 2ms/step - loss: 0.1398 - accuracy: 0.9466 - val_loss: 0.4896 - val_accuracy: 0.8859\n",
      "Epoch 48/50\n",
      "1875/1875 [==============================] - 4s 2ms/step - loss: 0.1395 - accuracy: 0.9462 - val_loss: 0.4576 - val_accuracy: 0.8852\n",
      "Epoch 49/50\n",
      "1875/1875 [==============================] - 4s 2ms/step - loss: 0.1402 - accuracy: 0.9470 - val_loss: 0.4866 - val_accuracy: 0.8860\n",
      "Epoch 50/50\n",
      "1875/1875 [==============================] - 5s 2ms/step - loss: 0.1311 - accuracy: 0.9495 - val_loss: 0.5377 - val_accuracy: 0.8856\n"
     ]
    }
   ],
   "source": [
    "history = model.fit(train_ds, validation_data=test_ds, epochs=EPOCHS)"
   ]
  },
  {
   "cell_type": "markdown",
   "id": "c65afd53",
   "metadata": {},
   "source": [
    "### Visualization"
   ]
  },
  {
   "cell_type": "code",
   "execution_count": 7,
   "id": "dab9384a",
   "metadata": {},
   "outputs": [
    {
     "data": {
      "image/png": "[encoded data removed]",
      "text/plain": [
       "<Figure size 432x288 with 1 Axes>"
      ]
     },
     "metadata": {
      "needs_background": "light"
     },
     "output_type": "display_data"
    }
   ],
   "source": [
    "loss = history.history['loss']\n",
    "val_loss = history.history['val_loss']\n",
    "\n",
    "plt.figure()\n",
    "plt.plot(loss, 'ro-')  # red\n",
    "plt.plot(val_loss, 'bo-')  # blue\n",
    "plt.ylabel('Cross Entropy')\n",
    "plt.xlabel('Epoch')\n",
    "plt.title('Training and Validation Loss')\n",
    "plt.show()"
   ]
  },
  {
   "cell_type": "markdown",
   "id": "a7505944",
   "metadata": {},
   "source": [
    "Training Loss는 지속적으로 감소하지만, Validation Loss는 특정 시점부터 증가한다"
   ]
  },
  {
   "cell_type": "markdown",
   "id": "11badf14",
   "metadata": {},
   "source": [
    "## Training with Early Stopping"
   ]
  },
  {
   "cell_type": "markdown",
   "id": "10c6a2f7",
   "metadata": {},
   "source": [
    "### Early Stopping Callback"
   ]
  },
  {
   "cell_type": "markdown",
   "id": "69ef6d83",
   "metadata": {},
   "source": [
    "Callback :  \n",
    "모델을 학습하는 과정에서, 한번 배치가 끝날 때나 시작할 때,  \n",
    "Epoch 시작 전/후, Validation 시작 전/후, Evaluation 시작 전/후  \n",
    "등의 시점에서 call 되면서 특정 동작을 할 수 있게 함"
   ]
  },
  {
   "cell_type": "code",
   "execution_count": 8,
   "id": "fafe9303",
   "metadata": {},
   "outputs": [],
   "source": [
    "earlystopper = tf.keras.callbacks.EarlyStopping(monitor='val_loss', patience=10, verbose=1)\n",
    "   # val_loss를 기준으로 판단, epoch 최소 10, verbose : 학습 과정에서 출력을 내주는 정도를 지정"
   ]
  },
  {
   "cell_type": "markdown",
   "id": "ebb2593e",
   "metadata": {},
   "source": [
    "### Model Training"
   ]
  },
  {
   "cell_type": "code",
   "execution_count": 9,
   "id": "5519b68d",
   "metadata": {},
   "outputs": [
    {
     "name": "stdout",
     "output_type": "stream",
     "text": [
      "Epoch 1/50\n",
      "1875/1875 [==============================] - 4s 2ms/step - loss: 0.1343 - accuracy: 0.9482 - val_loss: 0.5112 - val_accuracy: 0.8827\n",
      "Epoch 2/50\n",
      "1875/1875 [==============================] - 4s 2ms/step - loss: 0.1347 - accuracy: 0.9494 - val_loss: 0.5014 - val_accuracy: 0.8840\n",
      "Epoch 3/50\n",
      "1875/1875 [==============================] - 4s 2ms/step - loss: 0.1301 - accuracy: 0.9510 - val_loss: 0.5167 - val_accuracy: 0.8813\n",
      "Epoch 4/50\n",
      "1875/1875 [==============================] - 5s 3ms/step - loss: 0.1325 - accuracy: 0.9493 - val_loss: 0.5315 - val_accuracy: 0.8806\n",
      "Epoch 5/50\n",
      "1875/1875 [==============================] - 5s 2ms/step - loss: 0.1302 - accuracy: 0.9506 - val_loss: 0.4878 - val_accuracy: 0.8860\n",
      "Epoch 6/50\n",
      "1875/1875 [==============================] - 4s 2ms/step - loss: 0.1309 - accuracy: 0.9502 - val_loss: 0.5262 - val_accuracy: 0.8852\n",
      "Epoch 7/50\n",
      "1875/1875 [==============================] - 4s 2ms/step - loss: 0.1296 - accuracy: 0.9514 - val_loss: 0.5212 - val_accuracy: 0.8866\n",
      "Epoch 8/50\n",
      "1875/1875 [==============================] - 6s 3ms/step - loss: 0.1255 - accuracy: 0.9531 - val_loss: 0.5734 - val_accuracy: 0.8828\n",
      "Epoch 9/50\n",
      "1875/1875 [==============================] - 5s 3ms/step - loss: 0.1271 - accuracy: 0.9517 - val_loss: 0.5481 - val_accuracy: 0.8845\n",
      "Epoch 10/50\n",
      "1875/1875 [==============================] - 5s 3ms/step - loss: 0.1235 - accuracy: 0.9530 - val_loss: 0.5394 - val_accuracy: 0.8832\n",
      "Epoch 11/50\n",
      "1875/1875 [==============================] - 4s 2ms/step - loss: 0.1220 - accuracy: 0.9532 - val_loss: 0.5580 - val_accuracy: 0.8899\n",
      "Epoch 12/50\n",
      "1875/1875 [==============================] - 4s 2ms/step - loss: 0.1263 - accuracy: 0.9528 - val_loss: 0.5111 - val_accuracy: 0.8907\n",
      "Epoch 13/50\n",
      "1875/1875 [==============================] - 4s 2ms/step - loss: 0.1220 - accuracy: 0.9540 - val_loss: 0.5295 - val_accuracy: 0.8802\n",
      "Epoch 14/50\n",
      "1875/1875 [==============================] - 4s 2ms/step - loss: 0.1148 - accuracy: 0.9569 - val_loss: 0.5424 - val_accuracy: 0.8810\n",
      "Epoch 15/50\n",
      "1875/1875 [==============================] - 4s 2ms/step - loss: 0.1203 - accuracy: 0.9543 - val_loss: 0.5412 - val_accuracy: 0.8857\n",
      "Epoch 00015: early stopping\n"
     ]
    }
   ],
   "source": [
    "history = model.fit(train_ds, validation_data=test_ds, epochs=EPOCHS, callbacks=[earlystopper])"
   ]
  },
  {
   "cell_type": "markdown",
   "id": "fe434ec9",
   "metadata": {},
   "source": [
    "### Visualization"
   ]
  },
  {
   "cell_type": "code",
   "execution_count": 10,
   "id": "7a8b1ded",
   "metadata": {},
   "outputs": [
    {
     "data": {
      "image/png": "[encoded data removed]",
      "text/plain": [
       "<Figure size 432x288 with 1 Axes>"
      ]
     },
     "metadata": {
      "needs_background": "light"
     },
     "output_type": "display_data"
    }
   ],
   "source": [
    "loss = history.history['loss']\n",
    "val_loss = history.history['val_loss']\n",
    "\n",
    "plt.figure()\n",
    "plt.plot(loss, 'ro-')  # red\n",
    "plt.plot(val_loss, 'bo-')  # blue\n",
    "plt.ylabel('Cross Entropy')\n",
    "plt.xlabel('Epoch')\n",
    "plt.title('Training and Validation Loss')\n",
    "plt.show()"
   ]
  },
  {
   "cell_type": "markdown",
   "id": "50673158",
   "metadata": {},
   "source": [
    "## Training with Drop-out"
   ]
  },
  {
   "cell_type": "markdown",
   "id": "36641d04",
   "metadata": {},
   "source": [
    "### Network Structure"
   ]
  },
  {
   "cell_type": "code",
   "execution_count": 11,
   "id": "c69a1eea",
   "metadata": {},
   "outputs": [],
   "source": [
    "class MyModel2(tf.keras.Model):\n",
    "    def __init__(self):\n",
    "        super(MyModel2, self).__init__()\n",
    "        self.flatten = tf.keras.layers.Flatten()\n",
    "        self.dense1 = tf.keras.layers.Dense(64, activation='relu')\n",
    "        self.dense2 = tf.keras.layers.Dense(64, activation='relu')\n",
    "        self.dense3 = tf.keras.layers.Dense(64, activation='relu')\n",
    "        self.dense4 = tf.keras.layers.Dense(128, activation='relu')  \n",
    "                         # 충분한 복잡도를 주기 위해 뉴런의 개수를 128로 지정\n",
    "        self.dropout4 = tf.keras.layers.Dropout(0.5)\n",
    "        self.dense5 = tf.keras.layers.Dense(64, activation='softmax')\n",
    "    \n",
    "    def call(self, x, trainint=False, mask=None):\n",
    "        h = self.flatten(x)\n",
    "        h = self.dense1(h)\n",
    "        h = self.dense2(h)\n",
    "        h = self.dense3(h)\n",
    "        h = self.dense4(h)\n",
    "        h = self.dropout4(h)\n",
    "        return self.dense5(h)"
   ]
  },
  {
   "cell_type": "markdown",
   "id": "4cd7b471",
   "metadata": {},
   "source": [
    "### Model Creation"
   ]
  },
  {
   "cell_type": "code",
   "execution_count": 12,
   "id": "9567a2c2",
   "metadata": {},
   "outputs": [],
   "source": [
    "model = MyModel2()\n",
    "model.compile(optimizer='adam', loss='sparse_categorical_crossentropy', metrics=['accuracy'])"
   ]
  },
  {
   "cell_type": "markdown",
   "id": "4b35b666",
   "metadata": {},
   "source": [
    "### Model Training"
   ]
  },
  {
   "cell_type": "code",
   "execution_count": 13,
   "id": "ceca7535",
   "metadata": {
    "scrolled": true
   },
   "outputs": [
    {
     "name": "stdout",
     "output_type": "stream",
     "text": [
      "Epoch 1/50\n",
      "1875/1875 [==============================] - 5s 2ms/step - loss: 0.6240 - accuracy: 0.7822 - val_loss: 0.4457 - val_accuracy: 0.8353\n",
      "Epoch 2/50\n",
      "1875/1875 [==============================] - 5s 2ms/step - loss: 0.4091 - accuracy: 0.8542 - val_loss: 0.3887 - val_accuracy: 0.8592\n",
      "Epoch 3/50\n",
      "1875/1875 [==============================] - 5s 2ms/step - loss: 0.3687 - accuracy: 0.8680 - val_loss: 0.3725 - val_accuracy: 0.8674\n",
      "Epoch 4/50\n",
      "1875/1875 [==============================] - 5s 2ms/step - loss: 0.3483 - accuracy: 0.8731 - val_loss: 0.4032 - val_accuracy: 0.8548\n",
      "Epoch 5/50\n",
      "1875/1875 [==============================] - 5s 2ms/step - loss: 0.3271 - accuracy: 0.8798 - val_loss: 0.3841 - val_accuracy: 0.8677\n",
      "Epoch 6/50\n",
      "1875/1875 [==============================] - 5s 2ms/step - loss: 0.3179 - accuracy: 0.8840 - val_loss: 0.3872 - val_accuracy: 0.8673\n",
      "Epoch 7/50\n",
      "1875/1875 [==============================] - 5s 2ms/step - loss: 0.3070 - accuracy: 0.8870 - val_loss: 0.3623 - val_accuracy: 0.8703\n",
      "Epoch 8/50\n",
      "1875/1875 [==============================] - 5s 2ms/step - loss: 0.2963 - accuracy: 0.8909 - val_loss: 0.3470 - val_accuracy: 0.8769\n",
      "Epoch 9/50\n",
      "1875/1875 [==============================] - 5s 2ms/step - loss: 0.2871 - accuracy: 0.8946 - val_loss: 0.3726 - val_accuracy: 0.8676\n",
      "Epoch 10/50\n",
      "1875/1875 [==============================] - 5s 2ms/step - loss: 0.2810 - accuracy: 0.8976 - val_loss: 0.3558 - val_accuracy: 0.8765\n",
      "Epoch 11/50\n",
      "1875/1875 [==============================] - 5s 2ms/step - loss: 0.2714 - accuracy: 0.9000 - val_loss: 0.3584 - val_accuracy: 0.8756\n",
      "Epoch 12/50\n",
      "1875/1875 [==============================] - 5s 2ms/step - loss: 0.2691 - accuracy: 0.9009 - val_loss: 0.3559 - val_accuracy: 0.8755\n",
      "Epoch 13/50\n",
      "1875/1875 [==============================] - 5s 2ms/step - loss: 0.2647 - accuracy: 0.9026 - val_loss: 0.3518 - val_accuracy: 0.8783\n",
      "Epoch 14/50\n",
      "1875/1875 [==============================] - 5s 2ms/step - loss: 0.2544 - accuracy: 0.9057 - val_loss: 0.3770 - val_accuracy: 0.8767\n",
      "Epoch 15/50\n",
      "1875/1875 [==============================] - 5s 2ms/step - loss: 0.2515 - accuracy: 0.9073 - val_loss: 0.3972 - val_accuracy: 0.8746\n",
      "Epoch 16/50\n",
      "1875/1875 [==============================] - 5s 2ms/step - loss: 0.2464 - accuracy: 0.9085 - val_loss: 0.3750 - val_accuracy: 0.8688\n",
      "Epoch 17/50\n",
      "1875/1875 [==============================] - 5s 2ms/step - loss: 0.2448 - accuracy: 0.9103 - val_loss: 0.3957 - val_accuracy: 0.8682\n",
      "Epoch 18/50\n",
      "1875/1875 [==============================] - 5s 2ms/step - loss: 0.2400 - accuracy: 0.9112 - val_loss: 0.3909 - val_accuracy: 0.8805\n",
      "Epoch 00018: early stopping\n"
     ]
    }
   ],
   "source": [
    "history = model.fit(train_ds, validation_data=test_ds, epochs=EPOCHS, callbacks=[earlystopper])"
   ]
  },
  {
   "cell_type": "markdown",
   "id": "a85f1c40",
   "metadata": {},
   "source": [
    "### Visualization"
   ]
  },
  {
   "cell_type": "code",
   "execution_count": 14,
   "id": "d353e21e",
   "metadata": {},
   "outputs": [
    {
     "data": {
      "image/png": "[encoded data removed]",
      "text/plain": [
       "<Figure size 432x288 with 1 Axes>"
      ]
     },
     "metadata": {
      "needs_background": "light"
     },
     "output_type": "display_data"
    }
   ],
   "source": [
    "loss = history.history['loss']\n",
    "val_loss = history.history['val_loss']\n",
    "\n",
    "plt.figure()\n",
    "plt.plot(loss, 'ro-')  # red\n",
    "plt.plot(val_loss, 'bo-')  # blue\n",
    "plt.ylabel('Cross Entropy')\n",
    "plt.xlabel('Epoch')\n",
    "plt.title('Training and Validation Loss')\n",
    "plt.show()"
   ]
  }
 ],
 "metadata": {
  "hide_input": false,
  "kernelspec": {
   "display_name": "Python 3",
   "language": "python",
   "name": "python3"
  },
  "language_info": {
   "codemirror_mode": {
    "name": "ipython",
    "version": 3
   },
   "file_extension": ".py",
   "mimetype": "text/x-python",
   "name": "python",
   "nbconvert_exporter": "python",
   "pygments_lexer": "ipython3",
   "version": "3.7.10"
  },
  "toc": {
   "base_numbering": 1,
   "nav_menu": {},
   "number_sections": true,
   "sideBar": true,
   "skip_h1_title": false,
   "title_cell": "Table of Contents",
   "title_sidebar": "Contents",
   "toc_cell": false,
   "toc_position": {
    "height": "calc(100% - 180px)",
    "left": "10px",
    "top": "150px",
    "width": "245.76px"
   },
   "toc_section_display": true,
   "toc_window_display": true
  }
 },
 "nbformat": 4,
 "nbformat_minor": 5
}
