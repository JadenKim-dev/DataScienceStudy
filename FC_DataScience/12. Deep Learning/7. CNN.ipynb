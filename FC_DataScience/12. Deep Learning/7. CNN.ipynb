{
 "cells": [
  {
   "cell_type": "markdown",
   "id": "e059aa1b",
   "metadata": {},
   "source": [
    "## import modules"
   ]
  },
  {
   "cell_type": "code",
   "execution_count": 1,
   "id": "7e39810a",
   "metadata": {},
   "outputs": [],
   "source": [
    "import tensorflow as tf\n",
    "import numpy as np"
   ]
  },
  {
   "cell_type": "code",
   "execution_count": 2,
   "id": "a2293550",
   "metadata": {},
   "outputs": [],
   "source": [
    "from tensorflow.keras.layers import Conv2D, MaxPool2D, Flatten, Dense \n",
    "from tensorflow.keras.models import Sequential"
   ]
  },
  {
   "cell_type": "markdown",
   "id": "a7a5128e",
   "metadata": {},
   "source": [
    "## Hyper Parameter"
   ]
  },
  {
   "cell_type": "code",
   "execution_count": 3,
   "id": "08eb5a7d",
   "metadata": {},
   "outputs": [],
   "source": [
    "EPOCHS = 10"
   ]
  },
  {
   "cell_type": "markdown",
   "id": "ad5d3a50",
   "metadata": {},
   "source": [
    "## Network Structure"
   ]
  },
  {
   "cell_type": "code",
   "execution_count": 4,
   "id": "74848daf",
   "metadata": {},
   "outputs": [],
   "source": [
    "def MyModel():  # channel 개수, kernal 크기   #'same' -> zero-padding을 통해 이미지 크기를 그대로 유지  / 'valid' -> 이미지 줄어듦\n",
    "    return Sequential([Conv2D(32, (3, 3), padding='same', activation='relu'),  # 28x28x32\n",
    "                      MaxPool2D(), # 14x14x32\n",
    "                      Conv2D(64, (3, 3), padding='same', activation='relu'),  # 14x14x64\n",
    "                      MaxPool2D(), # 7x7x64\n",
    "                      Conv2D(128, (3, 3), padding='same', activation='relu'), # 7x7x128\n",
    "                      Flatten(),  # 6272\n",
    "                      Dense(128, activation='relu'), # 128\n",
    "                      Dense(10, activation='softmax')  # 10\n",
    "                      ])   "
   ]
  },
  {
   "cell_type": "markdown",
   "id": "0771610c",
   "metadata": {},
   "source": [
    "## Load Data"
   ]
  },
  {
   "cell_type": "code",
   "execution_count": 5,
   "id": "2d8b06e7",
   "metadata": {},
   "outputs": [
    {
     "name": "stdout",
     "output_type": "stream",
     "text": [
      "(60000, 28, 28)\n",
      "(28, 28)\n"
     ]
    }
   ],
   "source": [
    "fashion_mnist = tf.keras.datasets.fashion_mnist\n",
    "\n",
    "(x_train, y_train), (x_test, y_test) = fashion_mnist.load_data()\n",
    "x_train, x_test = x_train / 255.0, x_test / 255.0\n",
    "\n",
    "x_train = x_train.astype(np.float32)\n",
    "x_test = x_test.astype(np.float32)\n",
    "\n",
    "print(x_train.shape)\n",
    "print(x_train[0].shape)"
   ]
  },
  {
   "cell_type": "markdown",
   "id": "0af50a3e",
   "metadata": {},
   "source": [
    "(Batch num, height, width)  \n",
    "(height, width)  \n",
    "-> x_train에 차원을 하나 더 붙여서 Channel을 나타내야 한다"
   ]
  },
  {
   "cell_type": "code",
   "execution_count": 6,
   "id": "53991153",
   "metadata": {},
   "outputs": [
    {
     "name": "stdout",
     "output_type": "stream",
     "text": [
      "(60000, 28, 28, 1)\n",
      "(28, 28, 1)\n"
     ]
    }
   ],
   "source": [
    "# NHWC\n",
    "x_train = x_train[..., np.newaxis]  # ... : 데이터 그대로 사용\n",
    "x_test = x_test[..., np.newaxis]\n",
    "\n",
    "print(x_train.shape)\n",
    "print(x_train[0].shape)"
   ]
  },
  {
   "cell_type": "code",
   "execution_count": 7,
   "id": "02903ba9",
   "metadata": {},
   "outputs": [],
   "source": [
    "train_ds = tf.data.Dataset.from_tensor_slices((x_train, y_train)).shuffle(1000).batch(32).prefetch(2040)\n",
    "test_ds = tf.data.Dataset.from_tensor_slices((x_test, y_test)).batch(32).prefetch(2040)"
   ]
  },
  {
   "cell_type": "markdown",
   "id": "72993ac1",
   "metadata": {},
   "source": [
    "## Model Creation"
   ]
  },
  {
   "cell_type": "code",
   "execution_count": 8,
   "id": "0818d9b5",
   "metadata": {},
   "outputs": [],
   "source": [
    "model = MyModel()\n",
    "\n",
    "model.compile(optimizer='adam', loss='sparse_categorical_crossentropy', metrics=['accuracy'])"
   ]
  },
  {
   "cell_type": "markdown",
   "id": "cf9e6d6b",
   "metadata": {},
   "source": [
    "## Model Training"
   ]
  },
  {
   "cell_type": "code",
   "execution_count": 9,
   "id": "913343a0",
   "metadata": {},
   "outputs": [
    {
     "name": "stdout",
     "output_type": "stream",
     "text": [
      "Epoch 1/10\n",
      "1875/1875 [==============================] - 84s 44ms/step - loss: 0.3898 - accuracy: 0.8582 - val_loss: 0.3115 - val_accuracy: 0.8867\n",
      "Epoch 2/10\n",
      "1875/1875 [==============================] - 84s 45ms/step - loss: 0.2461 - accuracy: 0.9106 - val_loss: 0.2550 - val_accuracy: 0.9079\n",
      "Epoch 3/10\n",
      "1875/1875 [==============================] - 82s 44ms/step - loss: 0.2009 - accuracy: 0.9250 - val_loss: 0.2494 - val_accuracy: 0.9112\n",
      "Epoch 4/10\n",
      "1875/1875 [==============================] - 85s 45ms/step - loss: 0.1659 - accuracy: 0.9379 - val_loss: 0.2520 - val_accuracy: 0.9145\n",
      "Epoch 5/10\n",
      "1875/1875 [==============================] - 82s 44ms/step - loss: 0.1334 - accuracy: 0.9500 - val_loss: 0.2552 - val_accuracy: 0.9184\n",
      "Epoch 6/10\n",
      "1875/1875 [==============================] - 81s 43ms/step - loss: 0.1055 - accuracy: 0.9600 - val_loss: 0.2647 - val_accuracy: 0.9193\n",
      "Epoch 7/10\n",
      "1875/1875 [==============================] - 81s 43ms/step - loss: 0.0844 - accuracy: 0.9679 - val_loss: 0.3040 - val_accuracy: 0.9190\n",
      "Epoch 8/10\n",
      "1875/1875 [==============================] - 82s 44ms/step - loss: 0.0695 - accuracy: 0.9734 - val_loss: 0.3389 - val_accuracy: 0.9163\n",
      "Epoch 9/10\n",
      "1875/1875 [==============================] - 76s 40ms/step - loss: 0.0583 - accuracy: 0.9780 - val_loss: 0.3460 - val_accuracy: 0.9188\n",
      "Epoch 10/10\n",
      "1875/1875 [==============================] - 74s 40ms/step - loss: 0.0502 - accuracy: 0.9813 - val_loss: 0.3766 - val_accuracy: 0.9194\n"
     ]
    },
    {
     "data": {
      "text/plain": [
       "<tensorflow.python.keras.callbacks.History at 0x25bc5cb3388>"
      ]
     },
     "execution_count": 9,
     "metadata": {},
     "output_type": "execute_result"
    }
   ],
   "source": [
    "model.fit(train_ds, validation_data=test_ds, epochs=EPOCHS)"
   ]
  }
 ],
 "metadata": {
  "hide_input": false,
  "kernelspec": {
   "display_name": "Python 3",
   "language": "python",
   "name": "python3"
  },
  "language_info": {
   "codemirror_mode": {
    "name": "ipython",
    "version": 3
   },
   "file_extension": ".py",
   "mimetype": "text/x-python",
   "name": "python",
   "nbconvert_exporter": "python",
   "pygments_lexer": "ipython3",
   "version": "3.7.10"
  },
  "toc": {
   "base_numbering": 1,
   "nav_menu": {},
   "number_sections": true,
   "sideBar": true,
   "skip_h1_title": false,
   "title_cell": "Table of Contents",
   "title_sidebar": "Contents",
   "toc_cell": false,
   "toc_position": {},
   "toc_section_display": true,
   "toc_window_display": false
  }
 },
 "nbformat": 4,
 "nbformat_minor": 5
}
